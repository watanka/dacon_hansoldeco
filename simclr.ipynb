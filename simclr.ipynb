{
 "cells": [
  {
   "cell_type": "code",
   "execution_count": 17,
   "metadata": {},
   "outputs": [],
   "source": [
    "import random\n",
    "import pandas as pd\n",
    "import numpy as np\n",
    "import os\n",
    "import re\n",
    "import glob\n",
    "import cv2\n",
    "import matplotlib.pyplot as plt\n",
    "from PIL import Image\n",
    "\n",
    "import torch\n",
    "import torch.nn as nn\n",
    "import torch.optim as optim\n",
    "import torch.nn.functional as F\n",
    "from torchvision import transforms\n",
    "\n",
    "from torch.utils.data import Dataset, DataLoader, WeightedRandomSampler, TensorDataset\n",
    "from lightning.pytorch.callbacks import LearningRateMonitor, ModelCheckpoint\n",
    "\n",
    "import albumentations as A\n",
    "from albumentations.pytorch.transforms import ToTensorV2\n",
    "import torchvision\n",
    "import torchvision.models as models\n",
    "import lightning.pytorch as pl\n",
    "\n",
    "\n",
    "from sklearn.model_selection import train_test_split\n",
    "from sklearn import preprocessing\n",
    "from sklearn.metrics import f1_score\n",
    "from sklearn.metrics import classification_report\n",
    "from tqdm.auto import tqdm\n",
    "\n",
    "import warnings\n",
    "warnings.filterwarnings(action='ignore') "
   ]
  },
  {
   "cell_type": "code",
   "execution_count": 4,
   "metadata": {},
   "outputs": [],
   "source": [
    "device = torch.device('cuda') if torch.cuda.is_available() else torch.device('cpu')"
   ]
  },
  {
   "attachments": {},
   "cell_type": "markdown",
   "metadata": {},
   "source": [
    "## Hyperparameter Setting"
   ]
  },
  {
   "cell_type": "code",
   "execution_count": 5,
   "metadata": {},
   "outputs": [],
   "source": [
    "CFG = {\n",
    "    'IMG_SIZE':224,\n",
    "    'SEED':41,\n",
    "    'NUM_VIEWS' : 2,\n",
    "    'CHECKPOINT_PATH' : './',\n",
    "    'NUM_WORKERS' : 0,\n",
    "    'LR' : 5e-4,\n",
    "    'HIDDEN_DIM' : 128,\n",
    "    'BATCH_SIZE' : 64,\n",
    "    'TEMP' : 0.07,\n",
    "    'WEIGHT_DECAY' : 1e-4,\n",
    "    'MAX_EPOCHS' : 500\n",
    "}"
   ]
  },
  {
   "attachments": {},
   "cell_type": "markdown",
   "metadata": {},
   "source": [
    "## Fixed RandomSeed"
   ]
  },
  {
   "cell_type": "code",
   "execution_count": 6,
   "metadata": {},
   "outputs": [],
   "source": [
    "def seed_everything(seed):\n",
    "    random.seed(seed)\n",
    "    os.environ['PYTHONHASHSEED'] = str(seed)\n",
    "    np.random.seed(seed)\n",
    "    torch.manual_seed(seed)\n",
    "    torch.cuda.manual_seed(seed)\n",
    "    torch.backends.cudnn.deterministic = True\n",
    "    torch.backends.cudnn.benchmark = True\n",
    "\n",
    "seed_everything(CFG['SEED']) # Seed 고정"
   ]
  },
  {
   "cell_type": "code",
   "execution_count": 30,
   "metadata": {},
   "outputs": [
    {
     "data": {
      "text/plain": [
       "True"
      ]
     },
     "execution_count": 30,
     "metadata": {},
     "output_type": "execute_result"
    }
   ],
   "source": [
    "type(ContrastiveTransforms(base_transforms= contrast_transforms)"
   ]
  },
  {
   "cell_type": "code",
   "execution_count": 21,
   "metadata": {},
   "outputs": [],
   "source": [
    "all_img_list = glob.glob('train/*/*')\n",
    "# all_img_list = [f.replace(os.sep, '/') for f in all_img_list]"
   ]
  },
  {
   "cell_type": "code",
   "execution_count": 22,
   "metadata": {},
   "outputs": [],
   "source": [
    "df = pd.DataFrame(columns=['img_path', 'label'])\n",
    "df['img_path'] = all_img_list\n",
    "df['label'] = df['img_path'].apply(lambda x : str(x).split(os.sep)[-2])"
   ]
  },
  {
   "cell_type": "code",
   "execution_count": 13,
   "metadata": {},
   "outputs": [
    {
     "data": {
      "text/html": [
       "<div>\n",
       "<style scoped>\n",
       "    .dataframe tbody tr th:only-of-type {\n",
       "        vertical-align: middle;\n",
       "    }\n",
       "\n",
       "    .dataframe tbody tr th {\n",
       "        vertical-align: top;\n",
       "    }\n",
       "\n",
       "    .dataframe thead th {\n",
       "        text-align: right;\n",
       "    }\n",
       "</style>\n",
       "<table border=\"1\" class=\"dataframe\">\n",
       "  <thead>\n",
       "    <tr style=\"text-align: right;\">\n",
       "      <th></th>\n",
       "      <th>img_path</th>\n",
       "      <th>label</th>\n",
       "    </tr>\n",
       "  </thead>\n",
       "  <tbody>\n",
       "    <tr>\n",
       "      <th>0</th>\n",
       "      <td>train\\가구수정\\0.png</td>\n",
       "      <td>가구수정</td>\n",
       "    </tr>\n",
       "    <tr>\n",
       "      <th>1</th>\n",
       "      <td>train\\가구수정\\1.png</td>\n",
       "      <td>가구수정</td>\n",
       "    </tr>\n",
       "    <tr>\n",
       "      <th>2</th>\n",
       "      <td>train\\가구수정\\10.png</td>\n",
       "      <td>가구수정</td>\n",
       "    </tr>\n",
       "    <tr>\n",
       "      <th>3</th>\n",
       "      <td>train\\가구수정\\11.png</td>\n",
       "      <td>가구수정</td>\n",
       "    </tr>\n",
       "    <tr>\n",
       "      <th>4</th>\n",
       "      <td>train\\가구수정\\2.png</td>\n",
       "      <td>가구수정</td>\n",
       "    </tr>\n",
       "    <tr>\n",
       "      <th>...</th>\n",
       "      <td>...</td>\n",
       "      <td>...</td>\n",
       "    </tr>\n",
       "    <tr>\n",
       "      <th>3452</th>\n",
       "      <td>train\\훼손\\995.png</td>\n",
       "      <td>훼손</td>\n",
       "    </tr>\n",
       "    <tr>\n",
       "      <th>3453</th>\n",
       "      <td>train\\훼손\\996.png</td>\n",
       "      <td>훼손</td>\n",
       "    </tr>\n",
       "    <tr>\n",
       "      <th>3454</th>\n",
       "      <td>train\\훼손\\997.png</td>\n",
       "      <td>훼손</td>\n",
       "    </tr>\n",
       "    <tr>\n",
       "      <th>3455</th>\n",
       "      <td>train\\훼손\\998.png</td>\n",
       "      <td>훼손</td>\n",
       "    </tr>\n",
       "    <tr>\n",
       "      <th>3456</th>\n",
       "      <td>train\\훼손\\999.png</td>\n",
       "      <td>훼손</td>\n",
       "    </tr>\n",
       "  </tbody>\n",
       "</table>\n",
       "<p>3457 rows × 2 columns</p>\n",
       "</div>"
      ],
      "text/plain": [
       "               img_path label\n",
       "0      train\\가구수정\\0.png  가구수정\n",
       "1      train\\가구수정\\1.png  가구수정\n",
       "2     train\\가구수정\\10.png  가구수정\n",
       "3     train\\가구수정\\11.png  가구수정\n",
       "4      train\\가구수정\\2.png  가구수정\n",
       "...                 ...   ...\n",
       "3452   train\\훼손\\995.png    훼손\n",
       "3453   train\\훼손\\996.png    훼손\n",
       "3454   train\\훼손\\997.png    훼손\n",
       "3455   train\\훼손\\998.png    훼손\n",
       "3456   train\\훼손\\999.png    훼손\n",
       "\n",
       "[3457 rows x 2 columns]"
      ]
     },
     "execution_count": 13,
     "metadata": {},
     "output_type": "execute_result"
    }
   ],
   "source": [
    "df"
   ]
  },
  {
   "cell_type": "code",
   "execution_count": 23,
   "metadata": {},
   "outputs": [],
   "source": [
    "train, val, _, _ = train_test_split(df, df['label'], test_size=0.3, stratify=df['label'], random_state=CFG['SEED'])"
   ]
  },
  {
   "attachments": {},
   "cell_type": "markdown",
   "metadata": {},
   "source": [
    "## Label-Encoding"
   ]
  },
  {
   "cell_type": "code",
   "execution_count": 24,
   "metadata": {},
   "outputs": [],
   "source": [
    "le = preprocessing.LabelEncoder()\n",
    "train['label'] = le.fit_transform(train['label'])\n",
    "val['label'] = le.transform(val['label'])"
   ]
  },
  {
   "cell_type": "code",
   "execution_count": 75,
   "metadata": {},
   "outputs": [],
   "source": [
    "class ContrastiveTransforms :\n",
    "    def __init__(self, base_transforms, n_views = 2) :\n",
    "        self.base_transforms = base_transforms\n",
    "        self.n_views = n_views\n",
    "\n",
    "    def __call__(self, x) :\n",
    "        return [self.base_transforms(image = x)['image'] for _ in range(self.n_views)]"
   ]
  },
  {
   "cell_type": "code",
   "execution_count": 76,
   "metadata": {},
   "outputs": [],
   "source": [
    "## crop and resize, flip, color distort, rotate, gaussian noise, gausian blur\n",
    "contrast_transforms = A.Compose(\n",
    "    [\n",
    "        A.Flip(p = 1),\n",
    "        A.RandomCropFromBorders(crop_left = 0.1, crop_right = 0.1, crop_top = 0.1, crop_bottom = 0.1, p = 0.9),\n",
    "        A.ColorJitter(brightness = 0.2, contrast = 0.2, saturation = 0.2, hue = 0.2, p = 0.9),\n",
    "        A.Resize(height = CFG['IMG_SIZE'], width = CFG['IMG_SIZE']),\n",
    "        A.GaussianBlur(p = 0.5),\n",
    "        A.Normalize(),  \n",
    "        ToTensorV2(),\n",
    "              \n",
    "    ]\n",
    ")\n",
    "# contrast_transforms = transforms.Compose(\n",
    "#     [\n",
    "#         transforms.RandomHorizontalFlip(),\n",
    "#         transforms.RandomResizedCrop(size=CFG['IMG_SIZE']),\n",
    "#         transforms.RandomApply([transforms.ColorJitter(brightness=0.5, contrast=0.5, saturation=0.5, hue=0.1)], p=0.8),\n",
    "#         transforms.RandomGrayscale(p=0.2),\n",
    "#         transforms.GaussianBlur(kernel_size=9),\n",
    "#         transforms.ToTensor(),\n",
    "#         transforms.Normalize((0.5,), (0.5,)),\n",
    "#     ]\n",
    "# )"
   ]
  },
  {
   "cell_type": "code",
   "execution_count": 77,
   "metadata": {},
   "outputs": [],
   "source": [
    "class CustomDataset(Dataset):\n",
    "    def __init__(self, img_path_list, label_list, transforms=None):\n",
    "        self.img_path_list = img_path_list\n",
    "        self.label_list = label_list\n",
    "        self.transforms = transforms\n",
    "        \n",
    "    def __getitem__(self, index):\n",
    "        img_path = self.img_path_list[index]\n",
    "\n",
    "        image = np.array(Image.open(img_path))\n",
    "\n",
    "        \n",
    "        if self.transforms is not None:\n",
    "            if type(self.transforms) == ContrastiveTransforms :\n",
    "                image = self.transforms(image)\n",
    "            else :\n",
    "                image = self.transforms(image = image)['image']\n",
    "        \n",
    "        if self.label_list is not None:\n",
    "            label = self.label_list[index]\n",
    "            return image, label\n",
    "        else:\n",
    "            return image\n",
    "        \n",
    "    def __len__(self):\n",
    "        return len(self.img_path_list)"
   ]
  },
  {
   "cell_type": "code",
   "execution_count": 78,
   "metadata": {},
   "outputs": [],
   "source": [
    "train_dataset = CustomDataset(train['img_path'].values, label_list = train['label'].values, \n",
    "                        transforms = ContrastiveTransforms(base_transforms= contrast_transforms, n_views= CFG['NUM_VIEWS']))\n",
    "val_dataset = CustomDataset(val['img_path'].values, label_list = val['label'].values, \n",
    "                        transforms = ContrastiveTransforms(base_transforms= contrast_transforms, n_views= CFG['NUM_VIEWS']))\n"
   ]
  },
  {
   "cell_type": "code",
   "execution_count": 79,
   "metadata": {},
   "outputs": [
    {
     "data": {
      "text/plain": [
       "[tensor([[[-0.5424, -0.5424, -0.4054,  ..., -0.6965, -0.7308, -0.7308],\n",
       "          [-0.4568, -0.5424, -0.5253,  ..., -0.6965, -0.7308, -0.7479],\n",
       "          [-0.3027, -0.4568, -0.5938,  ..., -0.6965, -0.6965, -0.6965],\n",
       "          ...,\n",
       "          [-0.6109, -0.5767, -0.5082,  ..., -0.8335, -0.9020, -0.8678],\n",
       "          [-0.6281, -0.6281, -0.6281,  ..., -0.8507, -0.8849, -0.8678],\n",
       "          [-0.6281, -0.6623, -0.6965,  ..., -0.8335, -0.8849, -0.8849]],\n",
       " \n",
       "         [[-0.4076, -0.4076, -0.2675,  ..., -0.5826, -0.6001, -0.6001],\n",
       "          [-0.3375, -0.4251, -0.3901,  ..., -0.5826, -0.6176, -0.6176],\n",
       "          [-0.1975, -0.3375, -0.4776,  ..., -0.5826, -0.5826, -0.5826],\n",
       "          ...,\n",
       "          [-0.4601, -0.4076, -0.3375,  ..., -0.6352, -0.7052, -0.7052],\n",
       "          [-0.4776, -0.4776, -0.4601,  ..., -0.6527, -0.7052, -0.6877],\n",
       "          [-0.4601, -0.5126, -0.5476,  ..., -0.6527, -0.7227, -0.7227]],\n",
       " \n",
       "         [[-0.2184, -0.2358, -0.1138,  ..., -0.3578, -0.3753, -0.3753],\n",
       "          [-0.1312, -0.2358, -0.2184,  ..., -0.3578, -0.3927, -0.3927],\n",
       "          [ 0.0256, -0.1312, -0.2881,  ..., -0.3578, -0.3578, -0.3578],\n",
       "          ...,\n",
       "          [-0.3055, -0.2532, -0.1835,  ..., -0.4624, -0.5321, -0.5147],\n",
       "          [-0.3055, -0.3230, -0.3055,  ..., -0.4798, -0.5321, -0.5147],\n",
       "          [-0.3055, -0.3578, -0.3927,  ..., -0.4798, -0.5321, -0.5321]]]),\n",
       " tensor([[[-1.1760, -1.1760, -0.5767,  ..., -0.7308, -0.8507, -0.5424],\n",
       "          [-1.0733, -1.0733, -0.5938,  ..., -0.8164, -0.7650, -0.9020],\n",
       "          [-1.0390, -1.0562, -0.7993,  ..., -0.8335, -0.7308, -0.7822],\n",
       "          ...,\n",
       "          [-1.0733, -0.9363, -0.9534,  ..., -0.7822, -0.6623, -0.6109],\n",
       "          [-0.8849, -0.9020, -1.1589,  ..., -1.0390, -0.5767, -0.6452],\n",
       "          [-0.8164, -0.9877, -1.1247,  ..., -0.9192, -0.8507, -0.7822]],\n",
       " \n",
       "         [[-1.0553, -1.0378, -0.4601,  ..., -0.6001, -0.7402, -0.4076],\n",
       "          [-0.9153, -0.9153, -0.4426,  ..., -0.6877, -0.6527, -0.7577],\n",
       "          [-0.8803, -0.8978, -0.6352,  ..., -0.6877, -0.6001, -0.6352],\n",
       "          ...,\n",
       "          [-0.9678, -0.8277, -0.8452,  ..., -0.6352, -0.5301, -0.4776],\n",
       "          [-0.7752, -0.7927, -1.0553,  ..., -0.8978, -0.4426, -0.5126],\n",
       "          [-0.6702, -0.8277, -0.9678,  ..., -0.7927, -0.7227, -0.6527]],\n",
       " \n",
       "         [[-0.8633, -0.8633, -0.2358,  ..., -0.4275, -0.5495, -0.2184],\n",
       "          [-0.7413, -0.7413, -0.2532,  ..., -0.4973, -0.4624, -0.5844],\n",
       "          [-0.6890, -0.7064, -0.4624,  ..., -0.5147, -0.4101, -0.4624],\n",
       "          ...,\n",
       "          [-0.7413, -0.6018, -0.6193,  ..., -0.4450, -0.3404, -0.2881],\n",
       "          [-0.5495, -0.5670, -0.8284,  ..., -0.7238, -0.2358, -0.3055],\n",
       "          [-0.4624, -0.6193, -0.7413,  ..., -0.6018, -0.5495, -0.4624]]])]"
      ]
     },
     "execution_count": 79,
     "metadata": {},
     "output_type": "execute_result"
    }
   ],
   "source": [
    "train_dataset.__getitem__(0)[0]"
   ]
  },
  {
   "cell_type": "code",
   "execution_count": 80,
   "metadata": {},
   "outputs": [
    {
     "data": {
      "image/png": "[encoded data removed]",
      "text/plain": [
       "<Figure size 1000x500 with 1 Axes>"
      ]
     },
     "metadata": {},
     "output_type": "display_data"
    }
   ],
   "source": [
    "NUM_IMAGES = 6\n",
    "imgs = torch.stack([img for idx in range(NUM_IMAGES) for img in train_dataset[idx][0]], dim = 0)\n",
    "img_grid = torchvision.utils.make_grid(imgs, nrow = 6, normalize = True, pad_value = .9)\n",
    "img_grid = img_grid.permute(1,2,0)\n",
    "\n",
    "plt.figure(figsize=(10, 5))\n",
    "plt.title(\"Augmented image examples of the dataset\")\n",
    "plt.imshow(img_grid)\n",
    "plt.axis(\"off\")\n",
    "plt.show()\n",
    "plt.close()\n"
   ]
  },
  {
   "cell_type": "code",
   "execution_count": 82,
   "metadata": {},
   "outputs": [],
   "source": [
    "train_loader = DataLoader(\n",
    "            train_dataset,\n",
    "            batch_size=32,\n",
    "            shuffle=True,\n",
    "            drop_last=True,\n",
    "            pin_memory=True,\n",
    "            num_workers=CFG['NUM_WORKERS'],\n",
    "        )"
   ]
  },
  {
   "cell_type": "code",
   "execution_count": 97,
   "metadata": {},
   "outputs": [
    {
     "name": "stderr",
     "output_type": "stream",
     "text": [
      "Clipping input data to the valid range for imshow with RGB data ([0..1] for floats or [0..255] for integers).\n"
     ]
    },
    {
     "data": {
      "image/png": "[encoded data removed]",
      "text/plain": [
       "<Figure size 640x480 with 1 Axes>"
      ]
     },
     "metadata": {},
     "output_type": "display_data"
    },
    {
     "name": "stderr",
     "output_type": "stream",
     "text": [
      "Clipping input data to the valid range for imshow with RGB data ([0..1] for floats or [0..255] for integers).\n"
     ]
    },
    {
     "data": {
      "text/plain": [
       "<matplotlib.image.AxesImage at 0x25a29834340>"
      ]
     },
     "execution_count": 97,
     "metadata": {},
     "output_type": "execute_result"
    },
    {
     "data": {
      "image/png": "[encoded data removed]",
      "text/plain": [
       "<Figure size 640x480 with 1 Axes>"
      ]
     },
     "metadata": {},
     "output_type": "display_data"
    }
   ],
   "source": []
  },
  {
   "cell_type": "code",
   "execution_count": 103,
   "metadata": {},
   "outputs": [
    {
     "name": "stdout",
     "output_type": "stream",
     "text": [
      "torch.Size([64, 128])\n",
      "torch.Size([64, 1, 128]) torch.Size([1, 64, 128])\n",
      "torch.Size([64, 64])\n"
     ]
    },
    {
     "data": {
      "text/plain": [
       "tensor([[False, False, False,  ..., False, False, False],\n",
       "        [False, False, False,  ..., False, False, False],\n",
       "        [False, False, False,  ..., False, False, False],\n",
       "        ...,\n",
       "        [False, False, False,  ..., False, False, False],\n",
       "        [False, False, False,  ..., False, False, False],\n",
       "        [False, False, False,  ..., False, False, False]])"
      ]
     },
     "execution_count": 103,
     "metadata": {},
     "output_type": "execute_result"
    }
   ],
   "source": [
    "batch = next(iter(train_loader))\n",
    "imgs, _ = batch\n",
    "imgs = torch.cat(imgs, dim=0)\n",
    "\n",
    "\n",
    "class simplemodel(nn.Module) :\n",
    "    def __init__(self, hidden_dim) :\n",
    "        super().__init__()\n",
    "        self.convnet = torchvision.models.resnet18(\n",
    "                    pretrained=False, num_classes=4 * hidden_dim\n",
    "                )  # num_classes is the output size of the last linear layer\n",
    "                # The MLP for g(.) consists of Linear->ReLU->Linear\n",
    "        self.fc = nn.Sequential(\n",
    "            self.convnet.fc,  # Linear(ResNet output, 4*hidden_dim)\n",
    "            nn.ReLU(inplace=True),\n",
    "            nn.Linear(4 * hidden_dim, hidden_dim),\n",
    "        )\n",
    "\n",
    "    def forward(self, x) :\n",
    "        x = self.convnet(x)\n",
    "        x = self.fc(x)\n",
    "        return x\n",
    "\n",
    "model = simplemodel(hidden_dim = 128)\n",
    "\n",
    "feats = model(imgs)\n",
    "\n",
    "print(feats.shape)\n",
    "\n",
    "print(feats[:, None, :].shape, feats[None, :, :].shape)\n",
    "cos_sim = F.cosine_similarity(feats[:, None, :], feats[None, :, :], dim=-1)\n",
    "print(cos_sim.shape)\n",
    "\n",
    "self_mask = torch.eye(cos_sim.shape[0], dtype=torch.bool, device=cos_sim.device)\n",
    "cos_sim.masked_fill_(self_mask, -9e15)\n",
    "pos_mask = self_mask.roll(shifts=cos_sim.shape[0] // 2, dims=0)\n",
    "pos_mask\n",
    "# def info_nce_loss( batch, mode=\"train\"):\n",
    "#     imgs, _ = batch\n",
    "#     imgs = torch.cat(imgs, dim=0)\n",
    "\n",
    "#     # Encode all images\n",
    "#     feats = self.convnet(imgs)\n",
    "#     # Calculate cosine similarity\n",
    "#     cos_sim = F.cosine_similarity(feats[:, None, :], feats[None, :, :], dim=-1)\n",
    "#     # Mask out cosine similarity to itself\n",
    "#     self_mask = torch.eye(cos_sim.shape[0], dtype=torch.bool, device=cos_sim.device)\n",
    "#     cos_sim.masked_fill_(self_mask, -9e15)\n",
    "#     # Find positive example -> batch_size//2 away from the original example\n",
    "#     pos_mask = self_mask.roll(shifts=cos_sim.shape[0] // 2, dims=0)\n",
    "#     # InfoNCE loss\n",
    "#     cos_sim = cos_sim / self.hparams.temperature\n",
    "#     nll = -cos_sim[pos_mask] + torch.logsumexp(cos_sim, dim=-1)\n",
    "#     nll = nll.mean()\n",
    "\n",
    "#     # Logging loss\n",
    "#     self.log(mode + \"_loss\", nll)\n",
    "#     # Get ranking position of positive example\n",
    "#     comb_sim = torch.cat(\n",
    "#         [cos_sim[pos_mask][:, None], cos_sim.masked_fill(pos_mask, -9e15)],  # First position positive example\n",
    "#         dim=-1,\n",
    "#     )\n",
    "#     sim_argsort = comb_sim.argsort(dim=-1, descending=True).argmin(dim=-1)\n",
    "#     # Logging ranking metrics\n",
    "#     self.log(mode + \"_acc_top1\", (sim_argsort == 0).float().mean())\n",
    "#     self.log(mode + \"_acc_top5\", (sim_argsort < 5).float().mean())\n",
    "#     self.log(mode + \"_acc_mean_pos\", 1 + sim_argsort.float().mean())\n",
    "\n",
    "#     return nll\n"
   ]
  },
  {
   "cell_type": "code",
   "execution_count": 104,
   "metadata": {},
   "outputs": [
    {
     "name": "stdout",
     "output_type": "stream",
     "text": [
      "torch.Size([100])\n"
     ]
    }
   ],
   "source": [
    "input1 = torch.randn(100, 128)\n",
    "input2 = torch.randn(100, 128)\n",
    "output = F.cosine_similarity(input1, input2)\n",
    "print(output.shape)"
   ]
  },
  {
   "cell_type": "code",
   "execution_count": 106,
   "metadata": {},
   "outputs": [],
   "source": [
    "class SimCLR(pl.LightningModule):\n",
    "    def __init__(self,  hidden_dim, lr, temperature, weight_decay, max_epochs=500):\n",
    "        super().__init__()\n",
    "        self.save_hyperparameters()\n",
    "        assert self.hparams.temperature > 0.0, \"The temperature must be a positive float!\"\n",
    "        # Base model f(.)\n",
    "        self.convnet = torchvision.models.resnet18(\n",
    "            pretrained=False, num_classes=4 * hidden_dim\n",
    "        )  # num_classes is the output size of the last linear layer\n",
    "        # The MLP for g(.) consists of Linear->ReLU->Linear\n",
    "        self.convnet.fc = nn.Sequential(\n",
    "            self.convnet.fc,  # Linear(ResNet output, 4*hidden_dim)\n",
    "            nn.ReLU(inplace=True),\n",
    "            nn.Linear(4 * hidden_dim, hidden_dim),\n",
    "        )\n",
    "\n",
    "    def forward(self, x) :\n",
    "        x = self.convnet(x)\n",
    "        return x\n",
    "\n",
    "    def configure_optimizers(self):\n",
    "        optimizer = optim.AdamW(self.parameters(), lr=self.hparams.lr, weight_decay=self.hparams.weight_decay)\n",
    "        lr_scheduler = optim.lr_scheduler.CosineAnnealingLR(\n",
    "            optimizer, T_max=self.hparams.max_epochs, eta_min=self.hparams.lr / 50\n",
    "        )\n",
    "        return [optimizer], [lr_scheduler]\n",
    "\n",
    "    def info_nce_loss(self, batch, mode=\"train\"):\n",
    "        imgs, _ = batch\n",
    "        imgs = torch.cat(imgs, dim=0)\n",
    "\n",
    "        # Encode all images\n",
    "        feats = self.convnet(imgs)\n",
    "        # Calculate cosine similarity\n",
    "        cos_sim = F.cosine_similarity(feats[:, None, :], feats[None, :, :], dim=-1)\n",
    "        # Mask out cosine similarity to itself\n",
    "        self_mask = torch.eye(cos_sim.shape[0], dtype=torch.bool, device=cos_sim.device)\n",
    "        cos_sim.masked_fill_(self_mask, -9e15)\n",
    "        # Find positive example -> batch_size//2 away from the original example\n",
    "        pos_mask = self_mask.roll(shifts=cos_sim.shape[0] // 2, dims=0)\n",
    "        # InfoNCE loss\n",
    "        cos_sim = cos_sim / self.hparams.temperature\n",
    "        nll = -cos_sim[pos_mask] + torch.logsumexp(cos_sim, dim=-1)\n",
    "        nll = nll.mean()\n",
    "\n",
    "        # Logging loss\n",
    "        self.log(mode + \"_loss\", nll)\n",
    "        # Get ranking position of positive example\n",
    "        comb_sim = torch.cat(\n",
    "            [cos_sim[pos_mask][:, None], cos_sim.masked_fill(pos_mask, -9e15)],  # First position positive example\n",
    "            dim=-1,\n",
    "        )\n",
    "        sim_argsort = comb_sim.argsort(dim=-1, descending=True).argmin(dim=-1)\n",
    "        # Logging ranking metrics\n",
    "        self.log(mode + \"_acc_top1\", (sim_argsort == 0).float().mean())\n",
    "        self.log(mode + \"_acc_top5\", (sim_argsort < 5).float().mean())\n",
    "        self.log(mode + \"_acc_mean_pos\", 1 + sim_argsort.float().mean())\n",
    "\n",
    "        return nll\n",
    "\n",
    "    def training_step(self, batch, batch_idx):\n",
    "        return self.info_nce_loss(batch, mode=\"train\")\n",
    "\n",
    "    def validation_step(self, batch, batch_idx):\n",
    "        self.info_nce_loss(batch, mode=\"val\")"
   ]
  },
  {
   "cell_type": "code",
   "execution_count": 107,
   "metadata": {},
   "outputs": [],
   "source": [
    "def train_simclr(batch_size, max_epochs=500, **kwargs):\n",
    "    trainer = pl.Trainer(\n",
    "        default_root_dir=os.path.join(CFG['CHECKPOINT_PATH'], \"SimCLR\"),\n",
    "        accelerator=\"auto\",\n",
    "        devices=1,\n",
    "        max_epochs=max_epochs,\n",
    "        callbacks=[\n",
    "            ModelCheckpoint(save_weights_only=True, mode=\"max\", monitor=\"val_acc_top5\"),\n",
    "            LearningRateMonitor(\"epoch\"),\n",
    "        ],\n",
    "    )\n",
    "    trainer.logger._default_hp_metric = None  # Optional logging argument that we don't need\n",
    "\n",
    "    # Check whether pretrained model exists. If yes, load it and skip training\n",
    "    pretrained_filename = os.path.join(CFG['CHECKPOINT_PATH'], \"SimCLR.ckpt\")\n",
    "    if os.path.isfile(pretrained_filename):\n",
    "        print(f\"Found pretrained model at {pretrained_filename}, loading...\")\n",
    "        # Automatically loads the model with the saved hyperparameters\n",
    "        model = SimCLR.load_from_checkpoint(pretrained_filename)\n",
    "    else:\n",
    "        train_loader = DataLoader(\n",
    "            train_dataset,\n",
    "            batch_size=batch_size,\n",
    "            shuffle=True,\n",
    "            drop_last=True,\n",
    "            pin_memory=True,\n",
    "            num_workers=CFG['NUM_WORKERS'],\n",
    "        )\n",
    "        val_loader = DataLoader(\n",
    "            val_dataset,\n",
    "            batch_size=batch_size,\n",
    "            shuffle=False,\n",
    "            drop_last=False,\n",
    "            pin_memory=True,\n",
    "            num_workers=CFG['NUM_WORKERS'],\n",
    "        )\n",
    "        pl.seed_everything(42)  # To be reproducable\n",
    "        model = SimCLR(max_epochs=max_epochs, **kwargs)\n",
    "        trainer.fit(model, train_loader, val_loader)\n",
    "        # Load best checkpoint after training\n",
    "        model = SimCLR.load_from_checkpoint(trainer.checkpoint_callback.best_model_path)\n",
    "\n",
    "    return model"
   ]
  },
  {
   "cell_type": "code",
   "execution_count": 69,
   "metadata": {},
   "outputs": [
    {
     "name": "stderr",
     "output_type": "stream",
     "text": [
      "GPU available: True (cuda), used: True\n",
      "TPU available: False, using: 0 TPU cores\n",
      "IPU available: False, using: 0 IPUs\n",
      "HPU available: False, using: 0 HPUs\n",
      "Global seed set to 42\n",
      "LOCAL_RANK: 0 - CUDA_VISIBLE_DEVICES: [0]\n",
      "\n",
      "  | Name    | Type   | Params\n",
      "-----------------------------------\n",
      "0 | convnet | ResNet | 11.5 M\n",
      "-----------------------------------\n",
      "11.5 M    Trainable params\n",
      "0         Non-trainable params\n",
      "11.5 M    Total params\n",
      "46.019    Total estimated model params size (MB)\n"
     ]
    },
    {
     "data": {
      "application/vnd.jupyter.widget-view+json": {
       "model_id": "a7bcf4fb3b4b4b79bfe9b0308f2edbfc",
       "version_major": 2,
       "version_minor": 0
      },
      "text/plain": [
       "Sanity Checking: 0it [00:00, ?it/s]"
      ]
     },
     "metadata": {},
     "output_type": "display_data"
    },
    {
     "data": {
      "application/vnd.jupyter.widget-view+json": {
       "model_id": "b58b049f4fc847b0bbb443dff81bed79",
       "version_major": 2,
       "version_minor": 0
      },
      "text/plain": [
       "Training: 0it [00:00, ?it/s]"
      ]
     },
     "metadata": {},
     "output_type": "display_data"
    },
    {
     "data": {
      "application/vnd.jupyter.widget-view+json": {
       "model_id": "18ba7f949f424ae38b1c3d1a3f0c12d5",
       "version_major": 2,
       "version_minor": 0
      },
      "text/plain": [
       "Validation: 0it [00:00, ?it/s]"
      ]
     },
     "metadata": {},
     "output_type": "display_data"
    },
    {
     "data": {
      "application/vnd.jupyter.widget-view+json": {
       "model_id": "f2f113fe9eda459382f37527ba902e4d",
       "version_major": 2,
       "version_minor": 0
      },
      "text/plain": [
       "Validation: 0it [00:00, ?it/s]"
      ]
     },
     "metadata": {},
     "output_type": "display_data"
    },
    {
     "data": {
      "application/vnd.jupyter.widget-view+json": {
       "model_id": "8ff186ed6cd045a296df236d0e285297",
       "version_major": 2,
       "version_minor": 0
      },
      "text/plain": [
       "Validation: 0it [00:00, ?it/s]"
      ]
     },
     "metadata": {},
     "output_type": "display_data"
    },
    {
     "data": {
      "application/vnd.jupyter.widget-view+json": {
       "model_id": "33eb21ceff524093939d693d6e4467e3",
       "version_major": 2,
       "version_minor": 0
      },
      "text/plain": [
       "Validation: 0it [00:00, ?it/s]"
      ]
     },
     "metadata": {},
     "output_type": "display_data"
    },
    {
     "data": {
      "application/vnd.jupyter.widget-view+json": {
       "model_id": "66a8db9d06be49238dfb8789e237d49e",
       "version_major": 2,
       "version_minor": 0
      },
      "text/plain": [
       "Validation: 0it [00:00, ?it/s]"
      ]
     },
     "metadata": {},
     "output_type": "display_data"
    },
    {
     "data": {
      "application/vnd.jupyter.widget-view+json": {
       "model_id": "70fb2e6c151a43a09b8aa13bc31ddb1b",
       "version_major": 2,
       "version_minor": 0
      },
      "text/plain": [
       "Validation: 0it [00:00, ?it/s]"
      ]
     },
     "metadata": {},
     "output_type": "display_data"
    },
    {
     "data": {
      "application/vnd.jupyter.widget-view+json": {
       "model_id": "48262e5b85cf4816b371dbd1ee9314e5",
       "version_major": 2,
       "version_minor": 0
      },
      "text/plain": [
       "Validation: 0it [00:00, ?it/s]"
      ]
     },
     "metadata": {},
     "output_type": "display_data"
    },
    {
     "data": {
      "application/vnd.jupyter.widget-view+json": {
       "model_id": "4b324ce5afac4f58aa5bc6a8d2b2cc6a",
       "version_major": 2,
       "version_minor": 0
      },
      "text/plain": [
       "Validation: 0it [00:00, ?it/s]"
      ]
     },
     "metadata": {},
     "output_type": "display_data"
    },
    {
     "data": {
      "application/vnd.jupyter.widget-view+json": {
       "model_id": "5e0efffa124d43b59c0f0926f1a494f5",
       "version_major": 2,
       "version_minor": 0
      },
      "text/plain": [
       "Validation: 0it [00:00, ?it/s]"
      ]
     },
     "metadata": {},
     "output_type": "display_data"
    },
    {
     "data": {
      "application/vnd.jupyter.widget-view+json": {
       "model_id": "e27aaf4a6260450a8d0f53c8e7af518c",
       "version_major": 2,
       "version_minor": 0
      },
      "text/plain": [
       "Validation: 0it [00:00, ?it/s]"
      ]
     },
     "metadata": {},
     "output_type": "display_data"
    },
    {
     "data": {
      "application/vnd.jupyter.widget-view+json": {
       "model_id": "8100497f3b3345aa96d4cb8f580bc3ea",
       "version_major": 2,
       "version_minor": 0
      },
      "text/plain": [
       "Validation: 0it [00:00, ?it/s]"
      ]
     },
     "metadata": {},
     "output_type": "display_data"
    },
    {
     "data": {
      "application/vnd.jupyter.widget-view+json": {
       "model_id": "2273ccebbef746d4ba57ea5fa0cb4c6d",
       "version_major": 2,
       "version_minor": 0
      },
      "text/plain": [
       "Validation: 0it [00:00, ?it/s]"
      ]
     },
     "metadata": {},
     "output_type": "display_data"
    },
    {
     "data": {
      "application/vnd.jupyter.widget-view+json": {
       "model_id": "a6eb5d927722415fa5830dabd71e204c",
       "version_major": 2,
       "version_minor": 0
      },
      "text/plain": [
       "Validation: 0it [00:00, ?it/s]"
      ]
     },
     "metadata": {},
     "output_type": "display_data"
    },
    {
     "data": {
      "application/vnd.jupyter.widget-view+json": {
       "model_id": "a26b12c6263e44e7bb05a7095894952c",
       "version_major": 2,
       "version_minor": 0
      },
      "text/plain": [
       "Validation: 0it [00:00, ?it/s]"
      ]
     },
     "metadata": {},
     "output_type": "display_data"
    },
    {
     "data": {
      "application/vnd.jupyter.widget-view+json": {
       "model_id": "1dd3e39e44174e969a354ff532b6e08b",
       "version_major": 2,
       "version_minor": 0
      },
      "text/plain": [
       "Validation: 0it [00:00, ?it/s]"
      ]
     },
     "metadata": {},
     "output_type": "display_data"
    },
    {
     "data": {
      "application/vnd.jupyter.widget-view+json": {
       "model_id": "fa812a03511348068f8fef24defba201",
       "version_major": 2,
       "version_minor": 0
      },
      "text/plain": [
       "Validation: 0it [00:00, ?it/s]"
      ]
     },
     "metadata": {},
     "output_type": "display_data"
    },
    {
     "data": {
      "application/vnd.jupyter.widget-view+json": {
       "model_id": "f20ec82ee01b4be08f7644ab134aeac9",
       "version_major": 2,
       "version_minor": 0
      },
      "text/plain": [
       "Validation: 0it [00:00, ?it/s]"
      ]
     },
     "metadata": {},
     "output_type": "display_data"
    },
    {
     "data": {
      "application/vnd.jupyter.widget-view+json": {
       "model_id": "3fa4d6687e7541c3a25e95defc1ec098",
       "version_major": 2,
       "version_minor": 0
      },
      "text/plain": [
       "Validation: 0it [00:00, ?it/s]"
      ]
     },
     "metadata": {},
     "output_type": "display_data"
    },
    {
     "data": {
      "application/vnd.jupyter.widget-view+json": {
       "model_id": "30f70a0f1412455887512cc9746225cd",
       "version_major": 2,
       "version_minor": 0
      },
      "text/plain": [
       "Validation: 0it [00:00, ?it/s]"
      ]
     },
     "metadata": {},
     "output_type": "display_data"
    },
    {
     "data": {
      "application/vnd.jupyter.widget-view+json": {
       "model_id": "45b8adb9931147d595386c8309365de4",
       "version_major": 2,
       "version_minor": 0
      },
      "text/plain": [
       "Validation: 0it [00:00, ?it/s]"
      ]
     },
     "metadata": {},
     "output_type": "display_data"
    },
    {
     "data": {
      "application/vnd.jupyter.widget-view+json": {
       "model_id": "4f9bdcda40fa410590483d321b711211",
       "version_major": 2,
       "version_minor": 0
      },
      "text/plain": [
       "Validation: 0it [00:00, ?it/s]"
      ]
     },
     "metadata": {},
     "output_type": "display_data"
    },
    {
     "data": {
      "application/vnd.jupyter.widget-view+json": {
       "model_id": "4272903fc0e54d508c857994c49dc071",
       "version_major": 2,
       "version_minor": 0
      },
      "text/plain": [
       "Validation: 0it [00:00, ?it/s]"
      ]
     },
     "metadata": {},
     "output_type": "display_data"
    },
    {
     "data": {
      "application/vnd.jupyter.widget-view+json": {
       "model_id": "164fa8dac4d1444287dd2843188d2a40",
       "version_major": 2,
       "version_minor": 0
      },
      "text/plain": [
       "Validation: 0it [00:00, ?it/s]"
      ]
     },
     "metadata": {},
     "output_type": "display_data"
    },
    {
     "data": {
      "application/vnd.jupyter.widget-view+json": {
       "model_id": "d6bc6755235b4040b0c1f0470c0dffbd",
       "version_major": 2,
       "version_minor": 0
      },
      "text/plain": [
       "Validation: 0it [00:00, ?it/s]"
      ]
     },
     "metadata": {},
     "output_type": "display_data"
    },
    {
     "data": {
      "application/vnd.jupyter.widget-view+json": {
       "model_id": "3a09b8f4a9c14db68814e9f7a9cafb64",
       "version_major": 2,
       "version_minor": 0
      },
      "text/plain": [
       "Validation: 0it [00:00, ?it/s]"
      ]
     },
     "metadata": {},
     "output_type": "display_data"
    },
    {
     "data": {
      "application/vnd.jupyter.widget-view+json": {
       "model_id": "267ad0bb056c4c58aa2f62c326e0a79c",
       "version_major": 2,
       "version_minor": 0
      },
      "text/plain": [
       "Validation: 0it [00:00, ?it/s]"
      ]
     },
     "metadata": {},
     "output_type": "display_data"
    },
    {
     "data": {
      "application/vnd.jupyter.widget-view+json": {
       "model_id": "f3700eb903bf49de8218621e956c884a",
       "version_major": 2,
       "version_minor": 0
      },
      "text/plain": [
       "Validation: 0it [00:00, ?it/s]"
      ]
     },
     "metadata": {},
     "output_type": "display_data"
    },
    {
     "data": {
      "application/vnd.jupyter.widget-view+json": {
       "model_id": "f90ce0ea46634d29bb72ff320245b72a",
       "version_major": 2,
       "version_minor": 0
      },
      "text/plain": [
       "Validation: 0it [00:00, ?it/s]"
      ]
     },
     "metadata": {},
     "output_type": "display_data"
    },
    {
     "data": {
      "application/vnd.jupyter.widget-view+json": {
       "model_id": "f8ad3323206946b3bcb3d81d410c9c50",
       "version_major": 2,
       "version_minor": 0
      },
      "text/plain": [
       "Validation: 0it [00:00, ?it/s]"
      ]
     },
     "metadata": {},
     "output_type": "display_data"
    },
    {
     "data": {
      "application/vnd.jupyter.widget-view+json": {
       "model_id": "da369caa82414a2682af584b7efb4732",
       "version_major": 2,
       "version_minor": 0
      },
      "text/plain": [
       "Validation: 0it [00:00, ?it/s]"
      ]
     },
     "metadata": {},
     "output_type": "display_data"
    },
    {
     "data": {
      "application/vnd.jupyter.widget-view+json": {
       "model_id": "7202e7cf47f44c869256d694c6f91292",
       "version_major": 2,
       "version_minor": 0
      },
      "text/plain": [
       "Validation: 0it [00:00, ?it/s]"
      ]
     },
     "metadata": {},
     "output_type": "display_data"
    },
    {
     "data": {
      "application/vnd.jupyter.widget-view+json": {
       "model_id": "d7d928dd698f4eee97cd4fc881ca0fcf",
       "version_major": 2,
       "version_minor": 0
      },
      "text/plain": [
       "Validation: 0it [00:00, ?it/s]"
      ]
     },
     "metadata": {},
     "output_type": "display_data"
    },
    {
     "data": {
      "application/vnd.jupyter.widget-view+json": {
       "model_id": "bbb6781bf8f44b3cbe5f253aca27c74c",
       "version_major": 2,
       "version_minor": 0
      },
      "text/plain": [
       "Validation: 0it [00:00, ?it/s]"
      ]
     },
     "metadata": {},
     "output_type": "display_data"
    },
    {
     "data": {
      "application/vnd.jupyter.widget-view+json": {
       "model_id": "1d7f0584a1cf4cfca6fc72266978d8eb",
       "version_major": 2,
       "version_minor": 0
      },
      "text/plain": [
       "Validation: 0it [00:00, ?it/s]"
      ]
     },
     "metadata": {},
     "output_type": "display_data"
    },
    {
     "data": {
      "application/vnd.jupyter.widget-view+json": {
       "model_id": "4d30d4ef15964a9f8c8368e8e654fb14",
       "version_major": 2,
       "version_minor": 0
      },
      "text/plain": [
       "Validation: 0it [00:00, ?it/s]"
      ]
     },
     "metadata": {},
     "output_type": "display_data"
    },
    {
     "data": {
      "application/vnd.jupyter.widget-view+json": {
       "model_id": "91ecf2e5746842c58ac2445d7f9829bb",
       "version_major": 2,
       "version_minor": 0
      },
      "text/plain": [
       "Validation: 0it [00:00, ?it/s]"
      ]
     },
     "metadata": {},
     "output_type": "display_data"
    },
    {
     "data": {
      "application/vnd.jupyter.widget-view+json": {
       "model_id": "ea398bcaae9f41529696e2a1f9f321c3",
       "version_major": 2,
       "version_minor": 0
      },
      "text/plain": [
       "Validation: 0it [00:00, ?it/s]"
      ]
     },
     "metadata": {},
     "output_type": "display_data"
    },
    {
     "data": {
      "application/vnd.jupyter.widget-view+json": {
       "model_id": "b6350ec22eca405d8fb17e146821096e",
       "version_major": 2,
       "version_minor": 0
      },
      "text/plain": [
       "Validation: 0it [00:00, ?it/s]"
      ]
     },
     "metadata": {},
     "output_type": "display_data"
    },
    {
     "data": {
      "application/vnd.jupyter.widget-view+json": {
       "model_id": "7db469b27c1f4dcdae7335a0fbcbae7a",
       "version_major": 2,
       "version_minor": 0
      },
      "text/plain": [
       "Validation: 0it [00:00, ?it/s]"
      ]
     },
     "metadata": {},
     "output_type": "display_data"
    },
    {
     "data": {
      "application/vnd.jupyter.widget-view+json": {
       "model_id": "0abb387e170a49ecb87cefdb7211dc13",
       "version_major": 2,
       "version_minor": 0
      },
      "text/plain": [
       "Validation: 0it [00:00, ?it/s]"
      ]
     },
     "metadata": {},
     "output_type": "display_data"
    },
    {
     "data": {
      "application/vnd.jupyter.widget-view+json": {
       "model_id": "39bdba1ffa1448eab9604c4207bac4fd",
       "version_major": 2,
       "version_minor": 0
      },
      "text/plain": [
       "Validation: 0it [00:00, ?it/s]"
      ]
     },
     "metadata": {},
     "output_type": "display_data"
    },
    {
     "data": {
      "application/vnd.jupyter.widget-view+json": {
       "model_id": "2cf505cc5d134edea2eb90e22a9975fb",
       "version_major": 2,
       "version_minor": 0
      },
      "text/plain": [
       "Validation: 0it [00:00, ?it/s]"
      ]
     },
     "metadata": {},
     "output_type": "display_data"
    },
    {
     "data": {
      "application/vnd.jupyter.widget-view+json": {
       "model_id": "523a821ef6534de88dbd1e106635332c",
       "version_major": 2,
       "version_minor": 0
      },
      "text/plain": [
       "Validation: 0it [00:00, ?it/s]"
      ]
     },
     "metadata": {},
     "output_type": "display_data"
    },
    {
     "data": {
      "application/vnd.jupyter.widget-view+json": {
       "model_id": "fe3c0b0043ef46cfade5e88383ec4984",
       "version_major": 2,
       "version_minor": 0
      },
      "text/plain": [
       "Validation: 0it [00:00, ?it/s]"
      ]
     },
     "metadata": {},
     "output_type": "display_data"
    },
    {
     "data": {
      "application/vnd.jupyter.widget-view+json": {
       "model_id": "73a617139cd4457cb23ff9d90f70c098",
       "version_major": 2,
       "version_minor": 0
      },
      "text/plain": [
       "Validation: 0it [00:00, ?it/s]"
      ]
     },
     "metadata": {},
     "output_type": "display_data"
    },
    {
     "data": {
      "application/vnd.jupyter.widget-view+json": {
       "model_id": "3208702e4c024a6799d57d38e2ad5f65",
       "version_major": 2,
       "version_minor": 0
      },
      "text/plain": [
       "Validation: 0it [00:00, ?it/s]"
      ]
     },
     "metadata": {},
     "output_type": "display_data"
    },
    {
     "data": {
      "application/vnd.jupyter.widget-view+json": {
       "model_id": "19c8edc1809a4ef2b9bb12846ae693f9",
       "version_major": 2,
       "version_minor": 0
      },
      "text/plain": [
       "Validation: 0it [00:00, ?it/s]"
      ]
     },
     "metadata": {},
     "output_type": "display_data"
    },
    {
     "data": {
      "application/vnd.jupyter.widget-view+json": {
       "model_id": "e790cb99b52f4fa7b7849bd77aa3a1d7",
       "version_major": 2,
       "version_minor": 0
      },
      "text/plain": [
       "Validation: 0it [00:00, ?it/s]"
      ]
     },
     "metadata": {},
     "output_type": "display_data"
    },
    {
     "data": {
      "application/vnd.jupyter.widget-view+json": {
       "model_id": "d414547018cf43309e3b0de95d8aee7f",
       "version_major": 2,
       "version_minor": 0
      },
      "text/plain": [
       "Validation: 0it [00:00, ?it/s]"
      ]
     },
     "metadata": {},
     "output_type": "display_data"
    },
    {
     "data": {
      "application/vnd.jupyter.widget-view+json": {
       "model_id": "974cffd1767a48c98e99ff54eea4ccf3",
       "version_major": 2,
       "version_minor": 0
      },
      "text/plain": [
       "Validation: 0it [00:00, ?it/s]"
      ]
     },
     "metadata": {},
     "output_type": "display_data"
    },
    {
     "data": {
      "application/vnd.jupyter.widget-view+json": {
       "model_id": "59515b17a1b3479cb86e414714ff079e",
       "version_major": 2,
       "version_minor": 0
      },
      "text/plain": [
       "Validation: 0it [00:00, ?it/s]"
      ]
     },
     "metadata": {},
     "output_type": "display_data"
    },
    {
     "data": {
      "application/vnd.jupyter.widget-view+json": {
       "model_id": "54388b1b2dda4b26817d19e83183c192",
       "version_major": 2,
       "version_minor": 0
      },
      "text/plain": [
       "Validation: 0it [00:00, ?it/s]"
      ]
     },
     "metadata": {},
     "output_type": "display_data"
    },
    {
     "data": {
      "application/vnd.jupyter.widget-view+json": {
       "model_id": "11307b6b3427426a8a0325be9c1442f3",
       "version_major": 2,
       "version_minor": 0
      },
      "text/plain": [
       "Validation: 0it [00:00, ?it/s]"
      ]
     },
     "metadata": {},
     "output_type": "display_data"
    },
    {
     "data": {
      "application/vnd.jupyter.widget-view+json": {
       "model_id": "f26a45281bf2474fb4a6259b05e5950b",
       "version_major": 2,
       "version_minor": 0
      },
      "text/plain": [
       "Validation: 0it [00:00, ?it/s]"
      ]
     },
     "metadata": {},
     "output_type": "display_data"
    },
    {
     "data": {
      "application/vnd.jupyter.widget-view+json": {
       "model_id": "07c7f881e7624160b219b1c486431626",
       "version_major": 2,
       "version_minor": 0
      },
      "text/plain": [
       "Validation: 0it [00:00, ?it/s]"
      ]
     },
     "metadata": {},
     "output_type": "display_data"
    },
    {
     "data": {
      "application/vnd.jupyter.widget-view+json": {
       "model_id": "5f324301d5cb42fcb8b885540a72d47e",
       "version_major": 2,
       "version_minor": 0
      },
      "text/plain": [
       "Validation: 0it [00:00, ?it/s]"
      ]
     },
     "metadata": {},
     "output_type": "display_data"
    },
    {
     "data": {
      "application/vnd.jupyter.widget-view+json": {
       "model_id": "1ec4492d91924eb9957bb9f49a2673a9",
       "version_major": 2,
       "version_minor": 0
      },
      "text/plain": [
       "Validation: 0it [00:00, ?it/s]"
      ]
     },
     "metadata": {},
     "output_type": "display_data"
    },
    {
     "data": {
      "application/vnd.jupyter.widget-view+json": {
       "model_id": "6a4d096df40149f1b686ff059c417d91",
       "version_major": 2,
       "version_minor": 0
      },
      "text/plain": [
       "Validation: 0it [00:00, ?it/s]"
      ]
     },
     "metadata": {},
     "output_type": "display_data"
    },
    {
     "data": {
      "application/vnd.jupyter.widget-view+json": {
       "model_id": "cc7839703c1e4d63b4257f5c1506ab81",
       "version_major": 2,
       "version_minor": 0
      },
      "text/plain": [
       "Validation: 0it [00:00, ?it/s]"
      ]
     },
     "metadata": {},
     "output_type": "display_data"
    },
    {
     "data": {
      "application/vnd.jupyter.widget-view+json": {
       "model_id": "b81ea869a5694f6f81e4295bd9ecfa9d",
       "version_major": 2,
       "version_minor": 0
      },
      "text/plain": [
       "Validation: 0it [00:00, ?it/s]"
      ]
     },
     "metadata": {},
     "output_type": "display_data"
    },
    {
     "data": {
      "application/vnd.jupyter.widget-view+json": {
       "model_id": "31ed5156393a4e8082c3f78ff050c0e6",
       "version_major": 2,
       "version_minor": 0
      },
      "text/plain": [
       "Validation: 0it [00:00, ?it/s]"
      ]
     },
     "metadata": {},
     "output_type": "display_data"
    },
    {
     "data": {
      "application/vnd.jupyter.widget-view+json": {
       "model_id": "35fe3c9196224a8baa32d26b911f0f48",
       "version_major": 2,
       "version_minor": 0
      },
      "text/plain": [
       "Validation: 0it [00:00, ?it/s]"
      ]
     },
     "metadata": {},
     "output_type": "display_data"
    },
    {
     "data": {
      "application/vnd.jupyter.widget-view+json": {
       "model_id": "f0029246365e46ed871d54c891df992c",
       "version_major": 2,
       "version_minor": 0
      },
      "text/plain": [
       "Validation: 0it [00:00, ?it/s]"
      ]
     },
     "metadata": {},
     "output_type": "display_data"
    },
    {
     "data": {
      "application/vnd.jupyter.widget-view+json": {
       "model_id": "ef14db38af48439fae6f7300c64c1499",
       "version_major": 2,
       "version_minor": 0
      },
      "text/plain": [
       "Validation: 0it [00:00, ?it/s]"
      ]
     },
     "metadata": {},
     "output_type": "display_data"
    },
    {
     "data": {
      "application/vnd.jupyter.widget-view+json": {
       "model_id": "8a9ee6bf35354c19984f180d3cd1d338",
       "version_major": 2,
       "version_minor": 0
      },
      "text/plain": [
       "Validation: 0it [00:00, ?it/s]"
      ]
     },
     "metadata": {},
     "output_type": "display_data"
    },
    {
     "data": {
      "application/vnd.jupyter.widget-view+json": {
       "model_id": "2380c731b5664e438413da2aa1b361ed",
       "version_major": 2,
       "version_minor": 0
      },
      "text/plain": [
       "Validation: 0it [00:00, ?it/s]"
      ]
     },
     "metadata": {},
     "output_type": "display_data"
    },
    {
     "data": {
      "application/vnd.jupyter.widget-view+json": {
       "model_id": "5531d65bf738419ba482aeefe5f020ca",
       "version_major": 2,
       "version_minor": 0
      },
      "text/plain": [
       "Validation: 0it [00:00, ?it/s]"
      ]
     },
     "metadata": {},
     "output_type": "display_data"
    },
    {
     "data": {
      "application/vnd.jupyter.widget-view+json": {
       "model_id": "50c0e5dd9c7a404eb9350f0946ed6f63",
       "version_major": 2,
       "version_minor": 0
      },
      "text/plain": [
       "Validation: 0it [00:00, ?it/s]"
      ]
     },
     "metadata": {},
     "output_type": "display_data"
    },
    {
     "data": {
      "application/vnd.jupyter.widget-view+json": {
       "model_id": "9deb51438f40490b8ccb0437b8c40708",
       "version_major": 2,
       "version_minor": 0
      },
      "text/plain": [
       "Validation: 0it [00:00, ?it/s]"
      ]
     },
     "metadata": {},
     "output_type": "display_data"
    },
    {
     "data": {
      "application/vnd.jupyter.widget-view+json": {
       "model_id": "57f3e75e9ec040b4b1dd52bc24ee2bb4",
       "version_major": 2,
       "version_minor": 0
      },
      "text/plain": [
       "Validation: 0it [00:00, ?it/s]"
      ]
     },
     "metadata": {},
     "output_type": "display_data"
    },
    {
     "data": {
      "application/vnd.jupyter.widget-view+json": {
       "model_id": "4705f34231d944659fb8830c677987cc",
       "version_major": 2,
       "version_minor": 0
      },
      "text/plain": [
       "Validation: 0it [00:00, ?it/s]"
      ]
     },
     "metadata": {},
     "output_type": "display_data"
    },
    {
     "data": {
      "application/vnd.jupyter.widget-view+json": {
       "model_id": "c88470e474ed40aeb219248263e0047f",
       "version_major": 2,
       "version_minor": 0
      },
      "text/plain": [
       "Validation: 0it [00:00, ?it/s]"
      ]
     },
     "metadata": {},
     "output_type": "display_data"
    },
    {
     "data": {
      "application/vnd.jupyter.widget-view+json": {
       "model_id": "db758b30569440daa094e28751183036",
       "version_major": 2,
       "version_minor": 0
      },
      "text/plain": [
       "Validation: 0it [00:00, ?it/s]"
      ]
     },
     "metadata": {},
     "output_type": "display_data"
    },
    {
     "data": {
      "application/vnd.jupyter.widget-view+json": {
       "model_id": "85acc4074acd4a878b614153311f380a",
       "version_major": 2,
       "version_minor": 0
      },
      "text/plain": [
       "Validation: 0it [00:00, ?it/s]"
      ]
     },
     "metadata": {},
     "output_type": "display_data"
    },
    {
     "data": {
      "application/vnd.jupyter.widget-view+json": {
       "model_id": "1179925e382b4599b90e9356fee9a9ef",
       "version_major": 2,
       "version_minor": 0
      },
      "text/plain": [
       "Validation: 0it [00:00, ?it/s]"
      ]
     },
     "metadata": {},
     "output_type": "display_data"
    },
    {
     "data": {
      "application/vnd.jupyter.widget-view+json": {
       "model_id": "c652a71d493745afabf797f62bf270b4",
       "version_major": 2,
       "version_minor": 0
      },
      "text/plain": [
       "Validation: 0it [00:00, ?it/s]"
      ]
     },
     "metadata": {},
     "output_type": "display_data"
    },
    {
     "data": {
      "application/vnd.jupyter.widget-view+json": {
       "model_id": "919a02263f274ab1b09587846072262f",
       "version_major": 2,
       "version_minor": 0
      },
      "text/plain": [
       "Validation: 0it [00:00, ?it/s]"
      ]
     },
     "metadata": {},
     "output_type": "display_data"
    },
    {
     "data": {
      "application/vnd.jupyter.widget-view+json": {
       "model_id": "802892cc9f9f4e5696a0fb825f12e6b1",
       "version_major": 2,
       "version_minor": 0
      },
      "text/plain": [
       "Validation: 0it [00:00, ?it/s]"
      ]
     },
     "metadata": {},
     "output_type": "display_data"
    },
    {
     "data": {
      "application/vnd.jupyter.widget-view+json": {
       "model_id": "12853d74a241414690f7bd3d89ce29e6",
       "version_major": 2,
       "version_minor": 0
      },
      "text/plain": [
       "Validation: 0it [00:00, ?it/s]"
      ]
     },
     "metadata": {},
     "output_type": "display_data"
    },
    {
     "data": {
      "application/vnd.jupyter.widget-view+json": {
       "model_id": "a642335634e8471eb1553cef461dfdb1",
       "version_major": 2,
       "version_minor": 0
      },
      "text/plain": [
       "Validation: 0it [00:00, ?it/s]"
      ]
     },
     "metadata": {},
     "output_type": "display_data"
    },
    {
     "data": {
      "application/vnd.jupyter.widget-view+json": {
       "model_id": "0525065a03b546c7b73eaa0d4b42ef6e",
       "version_major": 2,
       "version_minor": 0
      },
      "text/plain": [
       "Validation: 0it [00:00, ?it/s]"
      ]
     },
     "metadata": {},
     "output_type": "display_data"
    },
    {
     "data": {
      "application/vnd.jupyter.widget-view+json": {
       "model_id": "b9c31c4c2bcf411eae9b567be346378a",
       "version_major": 2,
       "version_minor": 0
      },
      "text/plain": [
       "Validation: 0it [00:00, ?it/s]"
      ]
     },
     "metadata": {},
     "output_type": "display_data"
    },
    {
     "data": {
      "application/vnd.jupyter.widget-view+json": {
       "model_id": "40443050a03b42fb9d7f4d8e1651bd89",
       "version_major": 2,
       "version_minor": 0
      },
      "text/plain": [
       "Validation: 0it [00:00, ?it/s]"
      ]
     },
     "metadata": {},
     "output_type": "display_data"
    },
    {
     "data": {
      "application/vnd.jupyter.widget-view+json": {
       "model_id": "bd8d8b81b099437d8c346bcf594ade60",
       "version_major": 2,
       "version_minor": 0
      },
      "text/plain": [
       "Validation: 0it [00:00, ?it/s]"
      ]
     },
     "metadata": {},
     "output_type": "display_data"
    },
    {
     "data": {
      "application/vnd.jupyter.widget-view+json": {
       "model_id": "e782845e98ca48a88ad8d7ea2b310943",
       "version_major": 2,
       "version_minor": 0
      },
      "text/plain": [
       "Validation: 0it [00:00, ?it/s]"
      ]
     },
     "metadata": {},
     "output_type": "display_data"
    },
    {
     "data": {
      "application/vnd.jupyter.widget-view+json": {
       "model_id": "09ebcdd1255149d79f29316426c68f2d",
       "version_major": 2,
       "version_minor": 0
      },
      "text/plain": [
       "Validation: 0it [00:00, ?it/s]"
      ]
     },
     "metadata": {},
     "output_type": "display_data"
    },
    {
     "data": {
      "application/vnd.jupyter.widget-view+json": {
       "model_id": "272a6d4e943e4957ad5e3622249b7b47",
       "version_major": 2,
       "version_minor": 0
      },
      "text/plain": [
       "Validation: 0it [00:00, ?it/s]"
      ]
     },
     "metadata": {},
     "output_type": "display_data"
    },
    {
     "data": {
      "application/vnd.jupyter.widget-view+json": {
       "model_id": "669331c828014cb4a5551a1d179943a2",
       "version_major": 2,
       "version_minor": 0
      },
      "text/plain": [
       "Validation: 0it [00:00, ?it/s]"
      ]
     },
     "metadata": {},
     "output_type": "display_data"
    },
    {
     "data": {
      "application/vnd.jupyter.widget-view+json": {
       "model_id": "983c77a846564cfe84f31875182d9e86",
       "version_major": 2,
       "version_minor": 0
      },
      "text/plain": [
       "Validation: 0it [00:00, ?it/s]"
      ]
     },
     "metadata": {},
     "output_type": "display_data"
    },
    {
     "data": {
      "application/vnd.jupyter.widget-view+json": {
       "model_id": "32b339e85c6747c49f9bf5f5b69991e5",
       "version_major": 2,
       "version_minor": 0
      },
      "text/plain": [
       "Validation: 0it [00:00, ?it/s]"
      ]
     },
     "metadata": {},
     "output_type": "display_data"
    },
    {
     "data": {
      "application/vnd.jupyter.widget-view+json": {
       "model_id": "9d22ca06f3364d92a836953a6679e96d",
       "version_major": 2,
       "version_minor": 0
      },
      "text/plain": [
       "Validation: 0it [00:00, ?it/s]"
      ]
     },
     "metadata": {},
     "output_type": "display_data"
    },
    {
     "data": {
      "application/vnd.jupyter.widget-view+json": {
       "model_id": "d42885526a0d432fa63e3fcb5d15fb85",
       "version_major": 2,
       "version_minor": 0
      },
      "text/plain": [
       "Validation: 0it [00:00, ?it/s]"
      ]
     },
     "metadata": {},
     "output_type": "display_data"
    },
    {
     "data": {
      "application/vnd.jupyter.widget-view+json": {
       "model_id": "d230cec1fb1b4502bd7b49abeb62efb0",
       "version_major": 2,
       "version_minor": 0
      },
      "text/plain": [
       "Validation: 0it [00:00, ?it/s]"
      ]
     },
     "metadata": {},
     "output_type": "display_data"
    },
    {
     "data": {
      "application/vnd.jupyter.widget-view+json": {
       "model_id": "76c4cc3da2ed4d5483c6c6f68dc96dcb",
       "version_major": 2,
       "version_minor": 0
      },
      "text/plain": [
       "Validation: 0it [00:00, ?it/s]"
      ]
     },
     "metadata": {},
     "output_type": "display_data"
    },
    {
     "data": {
      "application/vnd.jupyter.widget-view+json": {
       "model_id": "53e5698f9c8b457a945e89ab33e4bda3",
       "version_major": 2,
       "version_minor": 0
      },
      "text/plain": [
       "Validation: 0it [00:00, ?it/s]"
      ]
     },
     "metadata": {},
     "output_type": "display_data"
    },
    {
     "data": {
      "application/vnd.jupyter.widget-view+json": {
       "model_id": "708885c098bf460197931a671e4b6f18",
       "version_major": 2,
       "version_minor": 0
      },
      "text/plain": [
       "Validation: 0it [00:00, ?it/s]"
      ]
     },
     "metadata": {},
     "output_type": "display_data"
    },
    {
     "data": {
      "application/vnd.jupyter.widget-view+json": {
       "model_id": "3b31d038cd8841959819e88a092c2280",
       "version_major": 2,
       "version_minor": 0
      },
      "text/plain": [
       "Validation: 0it [00:00, ?it/s]"
      ]
     },
     "metadata": {},
     "output_type": "display_data"
    },
    {
     "data": {
      "application/vnd.jupyter.widget-view+json": {
       "model_id": "f44b9460844441769709cfbac6aaf63b",
       "version_major": 2,
       "version_minor": 0
      },
      "text/plain": [
       "Validation: 0it [00:00, ?it/s]"
      ]
     },
     "metadata": {},
     "output_type": "display_data"
    },
    {
     "data": {
      "application/vnd.jupyter.widget-view+json": {
       "model_id": "775d2192dadc453d8702e87c0dc8faf9",
       "version_major": 2,
       "version_minor": 0
      },
      "text/plain": [
       "Validation: 0it [00:00, ?it/s]"
      ]
     },
     "metadata": {},
     "output_type": "display_data"
    },
    {
     "data": {
      "application/vnd.jupyter.widget-view+json": {
       "model_id": "b6eb75dc64c04cd8a2fb232dd7c3e0c6",
       "version_major": 2,
       "version_minor": 0
      },
      "text/plain": [
       "Validation: 0it [00:00, ?it/s]"
      ]
     },
     "metadata": {},
     "output_type": "display_data"
    },
    {
     "data": {
      "application/vnd.jupyter.widget-view+json": {
       "model_id": "887eab68f65449afad26f9da2d046f9c",
       "version_major": 2,
       "version_minor": 0
      },
      "text/plain": [
       "Validation: 0it [00:00, ?it/s]"
      ]
     },
     "metadata": {},
     "output_type": "display_data"
    },
    {
     "data": {
      "application/vnd.jupyter.widget-view+json": {
       "model_id": "f5faf26a04ef4995b6c2cb07ac0f6998",
       "version_major": 2,
       "version_minor": 0
      },
      "text/plain": [
       "Validation: 0it [00:00, ?it/s]"
      ]
     },
     "metadata": {},
     "output_type": "display_data"
    },
    {
     "data": {
      "application/vnd.jupyter.widget-view+json": {
       "model_id": "8384b40323984cf28456f66a121e8fa4",
       "version_major": 2,
       "version_minor": 0
      },
      "text/plain": [
       "Validation: 0it [00:00, ?it/s]"
      ]
     },
     "metadata": {},
     "output_type": "display_data"
    },
    {
     "data": {
      "application/vnd.jupyter.widget-view+json": {
       "model_id": "1ec6452fd2404cb0a14ef10a92cabfa9",
       "version_major": 2,
       "version_minor": 0
      },
      "text/plain": [
       "Validation: 0it [00:00, ?it/s]"
      ]
     },
     "metadata": {},
     "output_type": "display_data"
    },
    {
     "data": {
      "application/vnd.jupyter.widget-view+json": {
       "model_id": "72ecf5f8c67b4373a01daa345fdb8497",
       "version_major": 2,
       "version_minor": 0
      },
      "text/plain": [
       "Validation: 0it [00:00, ?it/s]"
      ]
     },
     "metadata": {},
     "output_type": "display_data"
    },
    {
     "data": {
      "application/vnd.jupyter.widget-view+json": {
       "model_id": "6bb3f7d14e5546debb0b5ded2821805e",
       "version_major": 2,
       "version_minor": 0
      },
      "text/plain": [
       "Validation: 0it [00:00, ?it/s]"
      ]
     },
     "metadata": {},
     "output_type": "display_data"
    },
    {
     "data": {
      "application/vnd.jupyter.widget-view+json": {
       "model_id": "c6bf04de507f48a999881cd05a9be66d",
       "version_major": 2,
       "version_minor": 0
      },
      "text/plain": [
       "Validation: 0it [00:00, ?it/s]"
      ]
     },
     "metadata": {},
     "output_type": "display_data"
    },
    {
     "data": {
      "application/vnd.jupyter.widget-view+json": {
       "model_id": "dd60e635fb1a4ee9957ce412bbb763de",
       "version_major": 2,
       "version_minor": 0
      },
      "text/plain": [
       "Validation: 0it [00:00, ?it/s]"
      ]
     },
     "metadata": {},
     "output_type": "display_data"
    },
    {
     "data": {
      "application/vnd.jupyter.widget-view+json": {
       "model_id": "e34c6e70428f428db28ce8a8973a4ccd",
       "version_major": 2,
       "version_minor": 0
      },
      "text/plain": [
       "Validation: 0it [00:00, ?it/s]"
      ]
     },
     "metadata": {},
     "output_type": "display_data"
    },
    {
     "data": {
      "application/vnd.jupyter.widget-view+json": {
       "model_id": "30e14310473a46e9bcadd06b1a3c055e",
       "version_major": 2,
       "version_minor": 0
      },
      "text/plain": [
       "Validation: 0it [00:00, ?it/s]"
      ]
     },
     "metadata": {},
     "output_type": "display_data"
    },
    {
     "data": {
      "application/vnd.jupyter.widget-view+json": {
       "model_id": "d5eb78b7c4cd468da9626ae7e72ca765",
       "version_major": 2,
       "version_minor": 0
      },
      "text/plain": [
       "Validation: 0it [00:00, ?it/s]"
      ]
     },
     "metadata": {},
     "output_type": "display_data"
    },
    {
     "data": {
      "application/vnd.jupyter.widget-view+json": {
       "model_id": "5454805c59904135a1a0b0c1409b95ff",
       "version_major": 2,
       "version_minor": 0
      },
      "text/plain": [
       "Validation: 0it [00:00, ?it/s]"
      ]
     },
     "metadata": {},
     "output_type": "display_data"
    },
    {
     "data": {
      "application/vnd.jupyter.widget-view+json": {
       "model_id": "32ac42050050457fb56091b7439127d5",
       "version_major": 2,
       "version_minor": 0
      },
      "text/plain": [
       "Validation: 0it [00:00, ?it/s]"
      ]
     },
     "metadata": {},
     "output_type": "display_data"
    },
    {
     "data": {
      "application/vnd.jupyter.widget-view+json": {
       "model_id": "a9166fc544de4883a2d4d67cc9fd25b8",
       "version_major": 2,
       "version_minor": 0
      },
      "text/plain": [
       "Validation: 0it [00:00, ?it/s]"
      ]
     },
     "metadata": {},
     "output_type": "display_data"
    },
    {
     "data": {
      "application/vnd.jupyter.widget-view+json": {
       "model_id": "45ecc45003e44321a67a03248f371aa8",
       "version_major": 2,
       "version_minor": 0
      },
      "text/plain": [
       "Validation: 0it [00:00, ?it/s]"
      ]
     },
     "metadata": {},
     "output_type": "display_data"
    },
    {
     "data": {
      "application/vnd.jupyter.widget-view+json": {
       "model_id": "0e4f48d2785c42bb85082f5cccd8c8c0",
       "version_major": 2,
       "version_minor": 0
      },
      "text/plain": [
       "Validation: 0it [00:00, ?it/s]"
      ]
     },
     "metadata": {},
     "output_type": "display_data"
    },
    {
     "data": {
      "application/vnd.jupyter.widget-view+json": {
       "model_id": "aa4c44784eab4be1afd5f4b279d5e04c",
       "version_major": 2,
       "version_minor": 0
      },
      "text/plain": [
       "Validation: 0it [00:00, ?it/s]"
      ]
     },
     "metadata": {},
     "output_type": "display_data"
    },
    {
     "data": {
      "application/vnd.jupyter.widget-view+json": {
       "model_id": "e50de15f18784782844990c653954da4",
       "version_major": 2,
       "version_minor": 0
      },
      "text/plain": [
       "Validation: 0it [00:00, ?it/s]"
      ]
     },
     "metadata": {},
     "output_type": "display_data"
    },
    {
     "data": {
      "application/vnd.jupyter.widget-view+json": {
       "model_id": "a8f6d0ca878941cc8ce9224484c0dde1",
       "version_major": 2,
       "version_minor": 0
      },
      "text/plain": [
       "Validation: 0it [00:00, ?it/s]"
      ]
     },
     "metadata": {},
     "output_type": "display_data"
    },
    {
     "data": {
      "application/vnd.jupyter.widget-view+json": {
       "model_id": "cb4132e0707645efa6119d613224e642",
       "version_major": 2,
       "version_minor": 0
      },
      "text/plain": [
       "Validation: 0it [00:00, ?it/s]"
      ]
     },
     "metadata": {},
     "output_type": "display_data"
    },
    {
     "data": {
      "application/vnd.jupyter.widget-view+json": {
       "model_id": "6a4938027a774c309032c4158e1acb69",
       "version_major": 2,
       "version_minor": 0
      },
      "text/plain": [
       "Validation: 0it [00:00, ?it/s]"
      ]
     },
     "metadata": {},
     "output_type": "display_data"
    },
    {
     "data": {
      "application/vnd.jupyter.widget-view+json": {
       "model_id": "b37a7d7f69004e3fac69883797a13a2c",
       "version_major": 2,
       "version_minor": 0
      },
      "text/plain": [
       "Validation: 0it [00:00, ?it/s]"
      ]
     },
     "metadata": {},
     "output_type": "display_data"
    },
    {
     "data": {
      "application/vnd.jupyter.widget-view+json": {
       "model_id": "77ce7de686f048eaa2c488373ebf4da2",
       "version_major": 2,
       "version_minor": 0
      },
      "text/plain": [
       "Validation: 0it [00:00, ?it/s]"
      ]
     },
     "metadata": {},
     "output_type": "display_data"
    },
    {
     "data": {
      "application/vnd.jupyter.widget-view+json": {
       "model_id": "7edf128adc814671b10720c8d4c15844",
       "version_major": 2,
       "version_minor": 0
      },
      "text/plain": [
       "Validation: 0it [00:00, ?it/s]"
      ]
     },
     "metadata": {},
     "output_type": "display_data"
    },
    {
     "data": {
      "application/vnd.jupyter.widget-view+json": {
       "model_id": "7b74d70733d04ac99a72033cfce9d7eb",
       "version_major": 2,
       "version_minor": 0
      },
      "text/plain": [
       "Validation: 0it [00:00, ?it/s]"
      ]
     },
     "metadata": {},
     "output_type": "display_data"
    },
    {
     "data": {
      "application/vnd.jupyter.widget-view+json": {
       "model_id": "f2913cc4085f4d7b957f71ae3b5375c9",
       "version_major": 2,
       "version_minor": 0
      },
      "text/plain": [
       "Validation: 0it [00:00, ?it/s]"
      ]
     },
     "metadata": {},
     "output_type": "display_data"
    },
    {
     "data": {
      "application/vnd.jupyter.widget-view+json": {
       "model_id": "9761af8e1220432580e2243813de8d83",
       "version_major": 2,
       "version_minor": 0
      },
      "text/plain": [
       "Validation: 0it [00:00, ?it/s]"
      ]
     },
     "metadata": {},
     "output_type": "display_data"
    },
    {
     "data": {
      "application/vnd.jupyter.widget-view+json": {
       "model_id": "c7d9f029121a421a81cd417f5a551b51",
       "version_major": 2,
       "version_minor": 0
      },
      "text/plain": [
       "Validation: 0it [00:00, ?it/s]"
      ]
     },
     "metadata": {},
     "output_type": "display_data"
    },
    {
     "data": {
      "application/vnd.jupyter.widget-view+json": {
       "model_id": "5780c8379dba48c9b1078f60eadc3c68",
       "version_major": 2,
       "version_minor": 0
      },
      "text/plain": [
       "Validation: 0it [00:00, ?it/s]"
      ]
     },
     "metadata": {},
     "output_type": "display_data"
    },
    {
     "data": {
      "application/vnd.jupyter.widget-view+json": {
       "model_id": "7fd00d0f5b804a60a023097e761ac4ee",
       "version_major": 2,
       "version_minor": 0
      },
      "text/plain": [
       "Validation: 0it [00:00, ?it/s]"
      ]
     },
     "metadata": {},
     "output_type": "display_data"
    },
    {
     "data": {
      "application/vnd.jupyter.widget-view+json": {
       "model_id": "43087d9db8454be6a2fce87d75f5dc2a",
       "version_major": 2,
       "version_minor": 0
      },
      "text/plain": [
       "Validation: 0it [00:00, ?it/s]"
      ]
     },
     "metadata": {},
     "output_type": "display_data"
    },
    {
     "data": {
      "application/vnd.jupyter.widget-view+json": {
       "model_id": "ba82abc0dcc149ab89fe8c3e313c82d5",
       "version_major": 2,
       "version_minor": 0
      },
      "text/plain": [
       "Validation: 0it [00:00, ?it/s]"
      ]
     },
     "metadata": {},
     "output_type": "display_data"
    },
    {
     "data": {
      "application/vnd.jupyter.widget-view+json": {
       "model_id": "b7526a5961414669bd959abdccd1781b",
       "version_major": 2,
       "version_minor": 0
      },
      "text/plain": [
       "Validation: 0it [00:00, ?it/s]"
      ]
     },
     "metadata": {},
     "output_type": "display_data"
    },
    {
     "data": {
      "application/vnd.jupyter.widget-view+json": {
       "model_id": "f3f70b3124a74cfc8563e4cbcaf79b66",
       "version_major": 2,
       "version_minor": 0
      },
      "text/plain": [
       "Validation: 0it [00:00, ?it/s]"
      ]
     },
     "metadata": {},
     "output_type": "display_data"
    },
    {
     "data": {
      "application/vnd.jupyter.widget-view+json": {
       "model_id": "27b9dd9f8e1e4d31a9f2a0eb9640cf93",
       "version_major": 2,
       "version_minor": 0
      },
      "text/plain": [
       "Validation: 0it [00:00, ?it/s]"
      ]
     },
     "metadata": {},
     "output_type": "display_data"
    },
    {
     "data": {
      "application/vnd.jupyter.widget-view+json": {
       "model_id": "c3aae1b9e16c43f7b0d3ab48a2e775eb",
       "version_major": 2,
       "version_minor": 0
      },
      "text/plain": [
       "Validation: 0it [00:00, ?it/s]"
      ]
     },
     "metadata": {},
     "output_type": "display_data"
    },
    {
     "data": {
      "application/vnd.jupyter.widget-view+json": {
       "model_id": "90d9f43351ab43078e3f5ff0c73a2a9b",
       "version_major": 2,
       "version_minor": 0
      },
      "text/plain": [
       "Validation: 0it [00:00, ?it/s]"
      ]
     },
     "metadata": {},
     "output_type": "display_data"
    },
    {
     "data": {
      "application/vnd.jupyter.widget-view+json": {
       "model_id": "16f1b1b63590486cb6c86227a1e1e2d8",
       "version_major": 2,
       "version_minor": 0
      },
      "text/plain": [
       "Validation: 0it [00:00, ?it/s]"
      ]
     },
     "metadata": {},
     "output_type": "display_data"
    },
    {
     "data": {
      "application/vnd.jupyter.widget-view+json": {
       "model_id": "22ca7e6f05bf405587f3597f8aef6c9c",
       "version_major": 2,
       "version_minor": 0
      },
      "text/plain": [
       "Validation: 0it [00:00, ?it/s]"
      ]
     },
     "metadata": {},
     "output_type": "display_data"
    },
    {
     "data": {
      "application/vnd.jupyter.widget-view+json": {
       "model_id": "8437eb808c7d4622a902f460dff926d0",
       "version_major": 2,
       "version_minor": 0
      },
      "text/plain": [
       "Validation: 0it [00:00, ?it/s]"
      ]
     },
     "metadata": {},
     "output_type": "display_data"
    },
    {
     "data": {
      "application/vnd.jupyter.widget-view+json": {
       "model_id": "3793d575043a4aaead228b85721ffaf3",
       "version_major": 2,
       "version_minor": 0
      },
      "text/plain": [
       "Validation: 0it [00:00, ?it/s]"
      ]
     },
     "metadata": {},
     "output_type": "display_data"
    },
    {
     "data": {
      "application/vnd.jupyter.widget-view+json": {
       "model_id": "ef9bbb2ea448439d9120c7364a387515",
       "version_major": 2,
       "version_minor": 0
      },
      "text/plain": [
       "Validation: 0it [00:00, ?it/s]"
      ]
     },
     "metadata": {},
     "output_type": "display_data"
    },
    {
     "data": {
      "application/vnd.jupyter.widget-view+json": {
       "model_id": "127c01cdef604ca9aa92b1449551e308",
       "version_major": 2,
       "version_minor": 0
      },
      "text/plain": [
       "Validation: 0it [00:00, ?it/s]"
      ]
     },
     "metadata": {},
     "output_type": "display_data"
    },
    {
     "data": {
      "application/vnd.jupyter.widget-view+json": {
       "model_id": "ebf20dd22bf3477eb4d08c3c9d9cf3d3",
       "version_major": 2,
       "version_minor": 0
      },
      "text/plain": [
       "Validation: 0it [00:00, ?it/s]"
      ]
     },
     "metadata": {},
     "output_type": "display_data"
    },
    {
     "data": {
      "application/vnd.jupyter.widget-view+json": {
       "model_id": "e7639426ae8d4c4f9d6e6a3e4411f32a",
       "version_major": 2,
       "version_minor": 0
      },
      "text/plain": [
       "Validation: 0it [00:00, ?it/s]"
      ]
     },
     "metadata": {},
     "output_type": "display_data"
    },
    {
     "data": {
      "application/vnd.jupyter.widget-view+json": {
       "model_id": "a35283901f244679923bed5ceeefc0d2",
       "version_major": 2,
       "version_minor": 0
      },
      "text/plain": [
       "Validation: 0it [00:00, ?it/s]"
      ]
     },
     "metadata": {},
     "output_type": "display_data"
    },
    {
     "data": {
      "application/vnd.jupyter.widget-view+json": {
       "model_id": "a1c6ed1c05774c66a2147e2a55af7d16",
       "version_major": 2,
       "version_minor": 0
      },
      "text/plain": [
       "Validation: 0it [00:00, ?it/s]"
      ]
     },
     "metadata": {},
     "output_type": "display_data"
    },
    {
     "data": {
      "application/vnd.jupyter.widget-view+json": {
       "model_id": "b156298f6c884bc8a03dc076d5ee9c6c",
       "version_major": 2,
       "version_minor": 0
      },
      "text/plain": [
       "Validation: 0it [00:00, ?it/s]"
      ]
     },
     "metadata": {},
     "output_type": "display_data"
    },
    {
     "data": {
      "application/vnd.jupyter.widget-view+json": {
       "model_id": "f28dd3a356404ac19cca7f791aad9700",
       "version_major": 2,
       "version_minor": 0
      },
      "text/plain": [
       "Validation: 0it [00:00, ?it/s]"
      ]
     },
     "metadata": {},
     "output_type": "display_data"
    },
    {
     "data": {
      "application/vnd.jupyter.widget-view+json": {
       "model_id": "bd5eed6c53dc4b6d8244336c9364e6c2",
       "version_major": 2,
       "version_minor": 0
      },
      "text/plain": [
       "Validation: 0it [00:00, ?it/s]"
      ]
     },
     "metadata": {},
     "output_type": "display_data"
    },
    {
     "data": {
      "application/vnd.jupyter.widget-view+json": {
       "model_id": "27c78e6dfce74d94852b8e2bd49eb185",
       "version_major": 2,
       "version_minor": 0
      },
      "text/plain": [
       "Validation: 0it [00:00, ?it/s]"
      ]
     },
     "metadata": {},
     "output_type": "display_data"
    },
    {
     "data": {
      "application/vnd.jupyter.widget-view+json": {
       "model_id": "f263f16f136549caaae1852c38f30db2",
       "version_major": 2,
       "version_minor": 0
      },
      "text/plain": [
       "Validation: 0it [00:00, ?it/s]"
      ]
     },
     "metadata": {},
     "output_type": "display_data"
    },
    {
     "data": {
      "application/vnd.jupyter.widget-view+json": {
       "model_id": "14221af1265a47ea9cfa4b3b8fd71a24",
       "version_major": 2,
       "version_minor": 0
      },
      "text/plain": [
       "Validation: 0it [00:00, ?it/s]"
      ]
     },
     "metadata": {},
     "output_type": "display_data"
    },
    {
     "data": {
      "application/vnd.jupyter.widget-view+json": {
       "model_id": "c0c73eece72543eb821b4113201826ff",
       "version_major": 2,
       "version_minor": 0
      },
      "text/plain": [
       "Validation: 0it [00:00, ?it/s]"
      ]
     },
     "metadata": {},
     "output_type": "display_data"
    },
    {
     "data": {
      "application/vnd.jupyter.widget-view+json": {
       "model_id": "c7a300d1f5d64e36882513c514636c43",
       "version_major": 2,
       "version_minor": 0
      },
      "text/plain": [
       "Validation: 0it [00:00, ?it/s]"
      ]
     },
     "metadata": {},
     "output_type": "display_data"
    },
    {
     "data": {
      "application/vnd.jupyter.widget-view+json": {
       "model_id": "6e86b304f3f24405ac53000f535acb5b",
       "version_major": 2,
       "version_minor": 0
      },
      "text/plain": [
       "Validation: 0it [00:00, ?it/s]"
      ]
     },
     "metadata": {},
     "output_type": "display_data"
    },
    {
     "data": {
      "application/vnd.jupyter.widget-view+json": {
       "model_id": "dd78bfc088d44c9896d5b28ee5525993",
       "version_major": 2,
       "version_minor": 0
      },
      "text/plain": [
       "Validation: 0it [00:00, ?it/s]"
      ]
     },
     "metadata": {},
     "output_type": "display_data"
    },
    {
     "data": {
      "application/vnd.jupyter.widget-view+json": {
       "model_id": "92d0bc00006641a294cd6619bae478b4",
       "version_major": 2,
       "version_minor": 0
      },
      "text/plain": [
       "Validation: 0it [00:00, ?it/s]"
      ]
     },
     "metadata": {},
     "output_type": "display_data"
    },
    {
     "data": {
      "application/vnd.jupyter.widget-view+json": {
       "model_id": "e3fb4f00e9d049b9816cb87adcee613b",
       "version_major": 2,
       "version_minor": 0
      },
      "text/plain": [
       "Validation: 0it [00:00, ?it/s]"
      ]
     },
     "metadata": {},
     "output_type": "display_data"
    },
    {
     "data": {
      "application/vnd.jupyter.widget-view+json": {
       "model_id": "59b303a90e844660a244309e2670a44c",
       "version_major": 2,
       "version_minor": 0
      },
      "text/plain": [
       "Validation: 0it [00:00, ?it/s]"
      ]
     },
     "metadata": {},
     "output_type": "display_data"
    },
    {
     "data": {
      "application/vnd.jupyter.widget-view+json": {
       "model_id": "f3413d4f84cf42668e0b44ff78f32d32",
       "version_major": 2,
       "version_minor": 0
      },
      "text/plain": [
       "Validation: 0it [00:00, ?it/s]"
      ]
     },
     "metadata": {},
     "output_type": "display_data"
    },
    {
     "data": {
      "application/vnd.jupyter.widget-view+json": {
       "model_id": "2e7dda6ea0244a02865bc55c9eb75e1a",
       "version_major": 2,
       "version_minor": 0
      },
      "text/plain": [
       "Validation: 0it [00:00, ?it/s]"
      ]
     },
     "metadata": {},
     "output_type": "display_data"
    },
    {
     "data": {
      "application/vnd.jupyter.widget-view+json": {
       "model_id": "323c6b147214451097a2f32acf909aef",
       "version_major": 2,
       "version_minor": 0
      },
      "text/plain": [
       "Validation: 0it [00:00, ?it/s]"
      ]
     },
     "metadata": {},
     "output_type": "display_data"
    },
    {
     "data": {
      "application/vnd.jupyter.widget-view+json": {
       "model_id": "adffc09e81c54f7284fcee4206ba72f1",
       "version_major": 2,
       "version_minor": 0
      },
      "text/plain": [
       "Validation: 0it [00:00, ?it/s]"
      ]
     },
     "metadata": {},
     "output_type": "display_data"
    },
    {
     "data": {
      "application/vnd.jupyter.widget-view+json": {
       "model_id": "69471d1600a14663a3664897d1f6b82c",
       "version_major": 2,
       "version_minor": 0
      },
      "text/plain": [
       "Validation: 0it [00:00, ?it/s]"
      ]
     },
     "metadata": {},
     "output_type": "display_data"
    },
    {
     "data": {
      "application/vnd.jupyter.widget-view+json": {
       "model_id": "5fdbd5bfcf3045f8bdf384ee693f44c1",
       "version_major": 2,
       "version_minor": 0
      },
      "text/plain": [
       "Validation: 0it [00:00, ?it/s]"
      ]
     },
     "metadata": {},
     "output_type": "display_data"
    },
    {
     "data": {
      "application/vnd.jupyter.widget-view+json": {
       "model_id": "ccc459d6ec53425da5aa5b3707a7d9f0",
       "version_major": 2,
       "version_minor": 0
      },
      "text/plain": [
       "Validation: 0it [00:00, ?it/s]"
      ]
     },
     "metadata": {},
     "output_type": "display_data"
    },
    {
     "data": {
      "application/vnd.jupyter.widget-view+json": {
       "model_id": "df5dfc677a22489cbdfa9b60265f3e17",
       "version_major": 2,
       "version_minor": 0
      },
      "text/plain": [
       "Validation: 0it [00:00, ?it/s]"
      ]
     },
     "metadata": {},
     "output_type": "display_data"
    },
    {
     "data": {
      "application/vnd.jupyter.widget-view+json": {
       "model_id": "f5d79f51837a43a09ebdba172509b4eb",
       "version_major": 2,
       "version_minor": 0
      },
      "text/plain": [
       "Validation: 0it [00:00, ?it/s]"
      ]
     },
     "metadata": {},
     "output_type": "display_data"
    },
    {
     "data": {
      "application/vnd.jupyter.widget-view+json": {
       "model_id": "b1c0c6d4bb5b4e11b0845662b0ad7267",
       "version_major": 2,
       "version_minor": 0
      },
      "text/plain": [
       "Validation: 0it [00:00, ?it/s]"
      ]
     },
     "metadata": {},
     "output_type": "display_data"
    },
    {
     "data": {
      "application/vnd.jupyter.widget-view+json": {
       "model_id": "24f6d415738f4e8aa890ace067130002",
       "version_major": 2,
       "version_minor": 0
      },
      "text/plain": [
       "Validation: 0it [00:00, ?it/s]"
      ]
     },
     "metadata": {},
     "output_type": "display_data"
    },
    {
     "data": {
      "application/vnd.jupyter.widget-view+json": {
       "model_id": "f556a2fd909f4695b0f2434e5bffe3c2",
       "version_major": 2,
       "version_minor": 0
      },
      "text/plain": [
       "Validation: 0it [00:00, ?it/s]"
      ]
     },
     "metadata": {},
     "output_type": "display_data"
    },
    {
     "data": {
      "application/vnd.jupyter.widget-view+json": {
       "model_id": "9ed3566b5d97466b9fc3895723f356c4",
       "version_major": 2,
       "version_minor": 0
      },
      "text/plain": [
       "Validation: 0it [00:00, ?it/s]"
      ]
     },
     "metadata": {},
     "output_type": "display_data"
    },
    {
     "data": {
      "application/vnd.jupyter.widget-view+json": {
       "model_id": "244219b036be4eb7a00edee548d6c19e",
       "version_major": 2,
       "version_minor": 0
      },
      "text/plain": [
       "Validation: 0it [00:00, ?it/s]"
      ]
     },
     "metadata": {},
     "output_type": "display_data"
    },
    {
     "data": {
      "application/vnd.jupyter.widget-view+json": {
       "model_id": "083a73e9cf3f4add9540ab2797c857fc",
       "version_major": 2,
       "version_minor": 0
      },
      "text/plain": [
       "Validation: 0it [00:00, ?it/s]"
      ]
     },
     "metadata": {},
     "output_type": "display_data"
    },
    {
     "data": {
      "application/vnd.jupyter.widget-view+json": {
       "model_id": "de60673fb52f4b0985fc8c4ae29456ba",
       "version_major": 2,
       "version_minor": 0
      },
      "text/plain": [
       "Validation: 0it [00:00, ?it/s]"
      ]
     },
     "metadata": {},
     "output_type": "display_data"
    },
    {
     "data": {
      "application/vnd.jupyter.widget-view+json": {
       "model_id": "5f72b52affa94db9b415cac960b0b1ab",
       "version_major": 2,
       "version_minor": 0
      },
      "text/plain": [
       "Validation: 0it [00:00, ?it/s]"
      ]
     },
     "metadata": {},
     "output_type": "display_data"
    },
    {
     "data": {
      "application/vnd.jupyter.widget-view+json": {
       "model_id": "ae2d787ee5484305babbaf590e036001",
       "version_major": 2,
       "version_minor": 0
      },
      "text/plain": [
       "Validation: 0it [00:00, ?it/s]"
      ]
     },
     "metadata": {},
     "output_type": "display_data"
    },
    {
     "data": {
      "application/vnd.jupyter.widget-view+json": {
       "model_id": "579b8375dd5d4c209a18639707986a09",
       "version_major": 2,
       "version_minor": 0
      },
      "text/plain": [
       "Validation: 0it [00:00, ?it/s]"
      ]
     },
     "metadata": {},
     "output_type": "display_data"
    },
    {
     "data": {
      "application/vnd.jupyter.widget-view+json": {
       "model_id": "faf84daddaf04ee897532ed0b0dc3156",
       "version_major": 2,
       "version_minor": 0
      },
      "text/plain": [
       "Validation: 0it [00:00, ?it/s]"
      ]
     },
     "metadata": {},
     "output_type": "display_data"
    },
    {
     "data": {
      "application/vnd.jupyter.widget-view+json": {
       "model_id": "d7c49083f7f5418a82724f4082a723ea",
       "version_major": 2,
       "version_minor": 0
      },
      "text/plain": [
       "Validation: 0it [00:00, ?it/s]"
      ]
     },
     "metadata": {},
     "output_type": "display_data"
    },
    {
     "data": {
      "application/vnd.jupyter.widget-view+json": {
       "model_id": "d5c1ae03781e4c19afa0aa2f6028cde6",
       "version_major": 2,
       "version_minor": 0
      },
      "text/plain": [
       "Validation: 0it [00:00, ?it/s]"
      ]
     },
     "metadata": {},
     "output_type": "display_data"
    },
    {
     "data": {
      "application/vnd.jupyter.widget-view+json": {
       "model_id": "6cb6763b1f244834a4146aee07d19ba3",
       "version_major": 2,
       "version_minor": 0
      },
      "text/plain": [
       "Validation: 0it [00:00, ?it/s]"
      ]
     },
     "metadata": {},
     "output_type": "display_data"
    },
    {
     "data": {
      "application/vnd.jupyter.widget-view+json": {
       "model_id": "0a5f3261e2854171aa9191162ac26745",
       "version_major": 2,
       "version_minor": 0
      },
      "text/plain": [
       "Validation: 0it [00:00, ?it/s]"
      ]
     },
     "metadata": {},
     "output_type": "display_data"
    },
    {
     "data": {
      "application/vnd.jupyter.widget-view+json": {
       "model_id": "b4d3d50d15864d308a6e66443a66125f",
       "version_major": 2,
       "version_minor": 0
      },
      "text/plain": [
       "Validation: 0it [00:00, ?it/s]"
      ]
     },
     "metadata": {},
     "output_type": "display_data"
    },
    {
     "data": {
      "application/vnd.jupyter.widget-view+json": {
       "model_id": "b39fb6daea454d2fba55c0393f8f0bbe",
       "version_major": 2,
       "version_minor": 0
      },
      "text/plain": [
       "Validation: 0it [00:00, ?it/s]"
      ]
     },
     "metadata": {},
     "output_type": "display_data"
    },
    {
     "data": {
      "application/vnd.jupyter.widget-view+json": {
       "model_id": "4704fd415e564c20a6aca5d601a92cd1",
       "version_major": 2,
       "version_minor": 0
      },
      "text/plain": [
       "Validation: 0it [00:00, ?it/s]"
      ]
     },
     "metadata": {},
     "output_type": "display_data"
    },
    {
     "data": {
      "application/vnd.jupyter.widget-view+json": {
       "model_id": "e4405b53acb545e48d4d79e708a68719",
       "version_major": 2,
       "version_minor": 0
      },
      "text/plain": [
       "Validation: 0it [00:00, ?it/s]"
      ]
     },
     "metadata": {},
     "output_type": "display_data"
    },
    {
     "data": {
      "application/vnd.jupyter.widget-view+json": {
       "model_id": "5dd4977c803c409b94c131ca7e343f01",
       "version_major": 2,
       "version_minor": 0
      },
      "text/plain": [
       "Validation: 0it [00:00, ?it/s]"
      ]
     },
     "metadata": {},
     "output_type": "display_data"
    },
    {
     "data": {
      "application/vnd.jupyter.widget-view+json": {
       "model_id": "642ecf92745e41f1991a88637d8ba5dc",
       "version_major": 2,
       "version_minor": 0
      },
      "text/plain": [
       "Validation: 0it [00:00, ?it/s]"
      ]
     },
     "metadata": {},
     "output_type": "display_data"
    },
    {
     "data": {
      "application/vnd.jupyter.widget-view+json": {
       "model_id": "37a2a584533d477390af762715103a8d",
       "version_major": 2,
       "version_minor": 0
      },
      "text/plain": [
       "Validation: 0it [00:00, ?it/s]"
      ]
     },
     "metadata": {},
     "output_type": "display_data"
    },
    {
     "data": {
      "application/vnd.jupyter.widget-view+json": {
       "model_id": "10fa8e99936649dc9f36ea09f896ce5f",
       "version_major": 2,
       "version_minor": 0
      },
      "text/plain": [
       "Validation: 0it [00:00, ?it/s]"
      ]
     },
     "metadata": {},
     "output_type": "display_data"
    },
    {
     "data": {
      "application/vnd.jupyter.widget-view+json": {
       "model_id": "18af1fee794d44b1a718985afac49ba3",
       "version_major": 2,
       "version_minor": 0
      },
      "text/plain": [
       "Validation: 0it [00:00, ?it/s]"
      ]
     },
     "metadata": {},
     "output_type": "display_data"
    },
    {
     "data": {
      "application/vnd.jupyter.widget-view+json": {
       "model_id": "309be7d33aa84f9989609b2074164ca7",
       "version_major": 2,
       "version_minor": 0
      },
      "text/plain": [
       "Validation: 0it [00:00, ?it/s]"
      ]
     },
     "metadata": {},
     "output_type": "display_data"
    },
    {
     "data": {
      "application/vnd.jupyter.widget-view+json": {
       "model_id": "76002f7f7f274062bfc4e49c221cfe93",
       "version_major": 2,
       "version_minor": 0
      },
      "text/plain": [
       "Validation: 0it [00:00, ?it/s]"
      ]
     },
     "metadata": {},
     "output_type": "display_data"
    },
    {
     "data": {
      "application/vnd.jupyter.widget-view+json": {
       "model_id": "a63683704a9f4f22ad2a44bbd5329e65",
       "version_major": 2,
       "version_minor": 0
      },
      "text/plain": [
       "Validation: 0it [00:00, ?it/s]"
      ]
     },
     "metadata": {},
     "output_type": "display_data"
    },
    {
     "data": {
      "application/vnd.jupyter.widget-view+json": {
       "model_id": "67e8985fd4204ac4813cabd144dc370f",
       "version_major": 2,
       "version_minor": 0
      },
      "text/plain": [
       "Validation: 0it [00:00, ?it/s]"
      ]
     },
     "metadata": {},
     "output_type": "display_data"
    },
    {
     "data": {
      "application/vnd.jupyter.widget-view+json": {
       "model_id": "a5f6d6c8ba3143c790fbfeda480e2edd",
       "version_major": 2,
       "version_minor": 0
      },
      "text/plain": [
       "Validation: 0it [00:00, ?it/s]"
      ]
     },
     "metadata": {},
     "output_type": "display_data"
    },
    {
     "data": {
      "application/vnd.jupyter.widget-view+json": {
       "model_id": "4797b26a0b294ec793a6b9a8f9988930",
       "version_major": 2,
       "version_minor": 0
      },
      "text/plain": [
       "Validation: 0it [00:00, ?it/s]"
      ]
     },
     "metadata": {},
     "output_type": "display_data"
    },
    {
     "data": {
      "application/vnd.jupyter.widget-view+json": {
       "model_id": "50ab999fdd084c27a9c005e7253842ce",
       "version_major": 2,
       "version_minor": 0
      },
      "text/plain": [
       "Validation: 0it [00:00, ?it/s]"
      ]
     },
     "metadata": {},
     "output_type": "display_data"
    },
    {
     "data": {
      "application/vnd.jupyter.widget-view+json": {
       "model_id": "89e7c04533e74928b89ae7103edfc90b",
       "version_major": 2,
       "version_minor": 0
      },
      "text/plain": [
       "Validation: 0it [00:00, ?it/s]"
      ]
     },
     "metadata": {},
     "output_type": "display_data"
    },
    {
     "data": {
      "application/vnd.jupyter.widget-view+json": {
       "model_id": "08f9101780634c62a3fd4ad004b7efee",
       "version_major": 2,
       "version_minor": 0
      },
      "text/plain": [
       "Validation: 0it [00:00, ?it/s]"
      ]
     },
     "metadata": {},
     "output_type": "display_data"
    },
    {
     "data": {
      "application/vnd.jupyter.widget-view+json": {
       "model_id": "4eceafc6ed3141da9f7e361375d604fe",
       "version_major": 2,
       "version_minor": 0
      },
      "text/plain": [
       "Validation: 0it [00:00, ?it/s]"
      ]
     },
     "metadata": {},
     "output_type": "display_data"
    },
    {
     "data": {
      "application/vnd.jupyter.widget-view+json": {
       "model_id": "95a797d58db2431899822c9a57297964",
       "version_major": 2,
       "version_minor": 0
      },
      "text/plain": [
       "Validation: 0it [00:00, ?it/s]"
      ]
     },
     "metadata": {},
     "output_type": "display_data"
    },
    {
     "data": {
      "application/vnd.jupyter.widget-view+json": {
       "model_id": "40b0ba2bf7f04974a1ec541a8f9797c6",
       "version_major": 2,
       "version_minor": 0
      },
      "text/plain": [
       "Validation: 0it [00:00, ?it/s]"
      ]
     },
     "metadata": {},
     "output_type": "display_data"
    },
    {
     "data": {
      "application/vnd.jupyter.widget-view+json": {
       "model_id": "eed2d03b6db3473da81c243c5919c038",
       "version_major": 2,
       "version_minor": 0
      },
      "text/plain": [
       "Validation: 0it [00:00, ?it/s]"
      ]
     },
     "metadata": {},
     "output_type": "display_data"
    },
    {
     "data": {
      "application/vnd.jupyter.widget-view+json": {
       "model_id": "02b4d238f43d46c9a6818ec2b2208f68",
       "version_major": 2,
       "version_minor": 0
      },
      "text/plain": [
       "Validation: 0it [00:00, ?it/s]"
      ]
     },
     "metadata": {},
     "output_type": "display_data"
    },
    {
     "data": {
      "application/vnd.jupyter.widget-view+json": {
       "model_id": "57bff241325f4c7988205ac6c72d5877",
       "version_major": 2,
       "version_minor": 0
      },
      "text/plain": [
       "Validation: 0it [00:00, ?it/s]"
      ]
     },
     "metadata": {},
     "output_type": "display_data"
    },
    {
     "data": {
      "application/vnd.jupyter.widget-view+json": {
       "model_id": "d006283e719f4fdb9dc21146f1dea85a",
       "version_major": 2,
       "version_minor": 0
      },
      "text/plain": [
       "Validation: 0it [00:00, ?it/s]"
      ]
     },
     "metadata": {},
     "output_type": "display_data"
    },
    {
     "data": {
      "application/vnd.jupyter.widget-view+json": {
       "model_id": "641f376bd0134fb7babb03232b550b37",
       "version_major": 2,
       "version_minor": 0
      },
      "text/plain": [
       "Validation: 0it [00:00, ?it/s]"
      ]
     },
     "metadata": {},
     "output_type": "display_data"
    },
    {
     "data": {
      "application/vnd.jupyter.widget-view+json": {
       "model_id": "90980f05eb2d455a977b2629726e604e",
       "version_major": 2,
       "version_minor": 0
      },
      "text/plain": [
       "Validation: 0it [00:00, ?it/s]"
      ]
     },
     "metadata": {},
     "output_type": "display_data"
    },
    {
     "data": {
      "application/vnd.jupyter.widget-view+json": {
       "model_id": "d78fa0b3d4c749a2bbab0ad889ff9930",
       "version_major": 2,
       "version_minor": 0
      },
      "text/plain": [
       "Validation: 0it [00:00, ?it/s]"
      ]
     },
     "metadata": {},
     "output_type": "display_data"
    },
    {
     "data": {
      "application/vnd.jupyter.widget-view+json": {
       "model_id": "e23f0543eccd457ea3a21335ff563ad2",
       "version_major": 2,
       "version_minor": 0
      },
      "text/plain": [
       "Validation: 0it [00:00, ?it/s]"
      ]
     },
     "metadata": {},
     "output_type": "display_data"
    },
    {
     "data": {
      "application/vnd.jupyter.widget-view+json": {
       "model_id": "9cb1b9f33821412e945d375934f82f39",
       "version_major": 2,
       "version_minor": 0
      },
      "text/plain": [
       "Validation: 0it [00:00, ?it/s]"
      ]
     },
     "metadata": {},
     "output_type": "display_data"
    },
    {
     "data": {
      "application/vnd.jupyter.widget-view+json": {
       "model_id": "c03732c4691148b8b0cbe5b4212a96c8",
       "version_major": 2,
       "version_minor": 0
      },
      "text/plain": [
       "Validation: 0it [00:00, ?it/s]"
      ]
     },
     "metadata": {},
     "output_type": "display_data"
    },
    {
     "data": {
      "application/vnd.jupyter.widget-view+json": {
       "model_id": "f227eb3a74904cda9012a75f72238b9b",
       "version_major": 2,
       "version_minor": 0
      },
      "text/plain": [
       "Validation: 0it [00:00, ?it/s]"
      ]
     },
     "metadata": {},
     "output_type": "display_data"
    },
    {
     "data": {
      "application/vnd.jupyter.widget-view+json": {
       "model_id": "13f60d300e3149299ac143f71285aed3",
       "version_major": 2,
       "version_minor": 0
      },
      "text/plain": [
       "Validation: 0it [00:00, ?it/s]"
      ]
     },
     "metadata": {},
     "output_type": "display_data"
    },
    {
     "data": {
      "application/vnd.jupyter.widget-view+json": {
       "model_id": "c33d155bfbf147519050374b4a5cd0d3",
       "version_major": 2,
       "version_minor": 0
      },
      "text/plain": [
       "Validation: 0it [00:00, ?it/s]"
      ]
     },
     "metadata": {},
     "output_type": "display_data"
    },
    {
     "data": {
      "application/vnd.jupyter.widget-view+json": {
       "model_id": "e1783493569b41708eb94bbe96861bfe",
       "version_major": 2,
       "version_minor": 0
      },
      "text/plain": [
       "Validation: 0it [00:00, ?it/s]"
      ]
     },
     "metadata": {},
     "output_type": "display_data"
    },
    {
     "data": {
      "application/vnd.jupyter.widget-view+json": {
       "model_id": "54bc1c766ff541e697aa8a4f718bd83a",
       "version_major": 2,
       "version_minor": 0
      },
      "text/plain": [
       "Validation: 0it [00:00, ?it/s]"
      ]
     },
     "metadata": {},
     "output_type": "display_data"
    },
    {
     "data": {
      "application/vnd.jupyter.widget-view+json": {
       "model_id": "c12faa5aabf1491c8657a468dad03c49",
       "version_major": 2,
       "version_minor": 0
      },
      "text/plain": [
       "Validation: 0it [00:00, ?it/s]"
      ]
     },
     "metadata": {},
     "output_type": "display_data"
    },
    {
     "data": {
      "application/vnd.jupyter.widget-view+json": {
       "model_id": "287e61e23e6948af84b923ceef431892",
       "version_major": 2,
       "version_minor": 0
      },
      "text/plain": [
       "Validation: 0it [00:00, ?it/s]"
      ]
     },
     "metadata": {},
     "output_type": "display_data"
    },
    {
     "data": {
      "application/vnd.jupyter.widget-view+json": {
       "model_id": "1db4b7f81d15453eb7733e94e9fa6812",
       "version_major": 2,
       "version_minor": 0
      },
      "text/plain": [
       "Validation: 0it [00:00, ?it/s]"
      ]
     },
     "metadata": {},
     "output_type": "display_data"
    },
    {
     "data": {
      "application/vnd.jupyter.widget-view+json": {
       "model_id": "7c4df34790ec4dd8bda8eebbd61470c7",
       "version_major": 2,
       "version_minor": 0
      },
      "text/plain": [
       "Validation: 0it [00:00, ?it/s]"
      ]
     },
     "metadata": {},
     "output_type": "display_data"
    },
    {
     "data": {
      "application/vnd.jupyter.widget-view+json": {
       "model_id": "c476100ec0164b399e6141e6b1ab0b80",
       "version_major": 2,
       "version_minor": 0
      },
      "text/plain": [
       "Validation: 0it [00:00, ?it/s]"
      ]
     },
     "metadata": {},
     "output_type": "display_data"
    },
    {
     "data": {
      "application/vnd.jupyter.widget-view+json": {
       "model_id": "bce1345aee744c31975ddf6963bad44a",
       "version_major": 2,
       "version_minor": 0
      },
      "text/plain": [
       "Validation: 0it [00:00, ?it/s]"
      ]
     },
     "metadata": {},
     "output_type": "display_data"
    },
    {
     "data": {
      "application/vnd.jupyter.widget-view+json": {
       "model_id": "cb00ad8dc3a342c28dd41bc6b9c84083",
       "version_major": 2,
       "version_minor": 0
      },
      "text/plain": [
       "Validation: 0it [00:00, ?it/s]"
      ]
     },
     "metadata": {},
     "output_type": "display_data"
    },
    {
     "data": {
      "application/vnd.jupyter.widget-view+json": {
       "model_id": "002a0035083f47d4b80d58e44e79a9b8",
       "version_major": 2,
       "version_minor": 0
      },
      "text/plain": [
       "Validation: 0it [00:00, ?it/s]"
      ]
     },
     "metadata": {},
     "output_type": "display_data"
    },
    {
     "data": {
      "application/vnd.jupyter.widget-view+json": {
       "model_id": "2ebbaefd7c2d40f2b3df70ede21572e1",
       "version_major": 2,
       "version_minor": 0
      },
      "text/plain": [
       "Validation: 0it [00:00, ?it/s]"
      ]
     },
     "metadata": {},
     "output_type": "display_data"
    },
    {
     "data": {
      "application/vnd.jupyter.widget-view+json": {
       "model_id": "c271b9746f124ff58e9e6ab16017db78",
       "version_major": 2,
       "version_minor": 0
      },
      "text/plain": [
       "Validation: 0it [00:00, ?it/s]"
      ]
     },
     "metadata": {},
     "output_type": "display_data"
    },
    {
     "data": {
      "application/vnd.jupyter.widget-view+json": {
       "model_id": "6aaa93d1c0d847519a927ab8cb8e182b",
       "version_major": 2,
       "version_minor": 0
      },
      "text/plain": [
       "Validation: 0it [00:00, ?it/s]"
      ]
     },
     "metadata": {},
     "output_type": "display_data"
    },
    {
     "data": {
      "application/vnd.jupyter.widget-view+json": {
       "model_id": "7467790e7fac487da5ddd7d372547f2f",
       "version_major": 2,
       "version_minor": 0
      },
      "text/plain": [
       "Validation: 0it [00:00, ?it/s]"
      ]
     },
     "metadata": {},
     "output_type": "display_data"
    },
    {
     "data": {
      "application/vnd.jupyter.widget-view+json": {
       "model_id": "5a14d7a8ba094ae29e68b0e994705095",
       "version_major": 2,
       "version_minor": 0
      },
      "text/plain": [
       "Validation: 0it [00:00, ?it/s]"
      ]
     },
     "metadata": {},
     "output_type": "display_data"
    },
    {
     "data": {
      "application/vnd.jupyter.widget-view+json": {
       "model_id": "99bdb72fc30e41f8938cabf4fe888763",
       "version_major": 2,
       "version_minor": 0
      },
      "text/plain": [
       "Validation: 0it [00:00, ?it/s]"
      ]
     },
     "metadata": {},
     "output_type": "display_data"
    },
    {
     "data": {
      "application/vnd.jupyter.widget-view+json": {
       "model_id": "fd170bedf1b743879f28f12a4808cede",
       "version_major": 2,
       "version_minor": 0
      },
      "text/plain": [
       "Validation: 0it [00:00, ?it/s]"
      ]
     },
     "metadata": {},
     "output_type": "display_data"
    },
    {
     "data": {
      "application/vnd.jupyter.widget-view+json": {
       "model_id": "da17ae6b83a74db3b763b5e016609b60",
       "version_major": 2,
       "version_minor": 0
      },
      "text/plain": [
       "Validation: 0it [00:00, ?it/s]"
      ]
     },
     "metadata": {},
     "output_type": "display_data"
    },
    {
     "data": {
      "application/vnd.jupyter.widget-view+json": {
       "model_id": "e3c5a51f2e7d4a79b9ab9e4ec140a8cb",
       "version_major": 2,
       "version_minor": 0
      },
      "text/plain": [
       "Validation: 0it [00:00, ?it/s]"
      ]
     },
     "metadata": {},
     "output_type": "display_data"
    },
    {
     "data": {
      "application/vnd.jupyter.widget-view+json": {
       "model_id": "e6e194b278404cc99cf246e36c225846",
       "version_major": 2,
       "version_minor": 0
      },
      "text/plain": [
       "Validation: 0it [00:00, ?it/s]"
      ]
     },
     "metadata": {},
     "output_type": "display_data"
    },
    {
     "data": {
      "application/vnd.jupyter.widget-view+json": {
       "model_id": "94aced9a00164c2b9c3a05b5b5af3fbb",
       "version_major": 2,
       "version_minor": 0
      },
      "text/plain": [
       "Validation: 0it [00:00, ?it/s]"
      ]
     },
     "metadata": {},
     "output_type": "display_data"
    },
    {
     "data": {
      "application/vnd.jupyter.widget-view+json": {
       "model_id": "a92564fcff0b4dc8ae3a750d936672fc",
       "version_major": 2,
       "version_minor": 0
      },
      "text/plain": [
       "Validation: 0it [00:00, ?it/s]"
      ]
     },
     "metadata": {},
     "output_type": "display_data"
    },
    {
     "data": {
      "application/vnd.jupyter.widget-view+json": {
       "model_id": "9d28160215cd42db8c496c846bcc8bbb",
       "version_major": 2,
       "version_minor": 0
      },
      "text/plain": [
       "Validation: 0it [00:00, ?it/s]"
      ]
     },
     "metadata": {},
     "output_type": "display_data"
    },
    {
     "data": {
      "application/vnd.jupyter.widget-view+json": {
       "model_id": "82d724ba6207449981ef10f200ee25a9",
       "version_major": 2,
       "version_minor": 0
      },
      "text/plain": [
       "Validation: 0it [00:00, ?it/s]"
      ]
     },
     "metadata": {},
     "output_type": "display_data"
    },
    {
     "data": {
      "application/vnd.jupyter.widget-view+json": {
       "model_id": "58e1ffd2d84f463685f155deb6858d01",
       "version_major": 2,
       "version_minor": 0
      },
      "text/plain": [
       "Validation: 0it [00:00, ?it/s]"
      ]
     },
     "metadata": {},
     "output_type": "display_data"
    }
   ],
   "source": [
    "basemodel = models.efficientnet_b0(pretrained=False, num_classes = 4 * CFG['HIDDEN_DIM'])\n",
    "\n",
    "simclr_model = train_simclr(\n",
    "                            batch_size= CFG['BATCH_SIZE'], \n",
    "                            hidden_dim= CFG['HIDDEN_DIM'], \n",
    "                            lr=CFG['LR'], \n",
    "                            temperature=CFG['TEMP'], \n",
    "                            weight_decay= CFG['WEIGHT_DECAY'], \n",
    "                            max_epochs= CFG['MAX_EPOCHS']\n",
    "                        )\n",
    "\n",
    "\n"
   ]
  },
  {
   "cell_type": "code",
   "execution_count": 108,
   "metadata": {},
   "outputs": [],
   "source": [
    "class LogisticRegression(pl.LightningModule):\n",
    "    def __init__(self, feature_dim, num_classes, lr, weight_decay, max_epochs=100):\n",
    "        super().__init__()\n",
    "        self.save_hyperparameters()\n",
    "        # Mapping from representation h to classes\n",
    "        self.model = nn.Linear(feature_dim, num_classes)\n",
    "\n",
    "    def configure_optimizers(self):\n",
    "        optimizer = optim.AdamW(self.parameters(), lr=self.hparams.lr, weight_decay=self.hparams.weight_decay)\n",
    "        lr_scheduler = optim.lr_scheduler.MultiStepLR(\n",
    "            optimizer, milestones=[int(self.hparams.max_epochs * 0.6), int(self.hparams.max_epochs * 0.8)], gamma=0.1\n",
    "        )\n",
    "        return [optimizer], [lr_scheduler]\n",
    "    \n",
    "    def forward(self, x) :\n",
    "        return self.model(x)\n",
    "\n",
    "    def _calculate_loss(self, batch, mode=\"train\"):\n",
    "        feats, labels = batch\n",
    "        preds = self.model(feats)\n",
    "        loss = F.cross_entropy(preds, labels)\n",
    "        acc = (preds.argmax(dim=-1) == labels).float().mean()\n",
    "\n",
    "        self.log(mode + \"_loss\", loss)\n",
    "        self.log(mode + \"_acc\", acc)\n",
    "        return loss\n",
    "\n",
    "    def training_step(self, batch, batch_idx):\n",
    "        return self._calculate_loss(batch, mode=\"train\")\n",
    "\n",
    "    def validation_step(self, batch, batch_idx):\n",
    "        self._calculate_loss(batch, mode=\"val\")\n",
    "\n",
    "    def test_step(self, batch, batch_idx):\n",
    "        self._calculate_loss(batch, mode=\"test\")"
   ]
  },
  {
   "cell_type": "code",
   "execution_count": 110,
   "metadata": {},
   "outputs": [],
   "source": [
    "img_transforms = A.Compose([A.Resize(width = CFG['IMG_SIZE'], height = CFG['IMG_SIZE']),\n",
    "                            A.Normalize((0.5,), (0.5)),\n",
    "                            ToTensorV2() ])\n",
    "\n",
    "train_img_dataset = CustomDataset(train['img_path'].values, label_list = train['label'].values, \n",
    "                        transforms = img_transforms)\n",
    "test = pd.read_csv('./test.csv')\n",
    "test_dataset = CustomDataset(test['img_path'].values, None, img_transforms)\n",
    "test_loader = DataLoader(test_dataset, batch_size=CFG['BATCH_SIZE'], shuffle=False, num_workers=0)\n"
   ]
  },
  {
   "cell_type": "code",
   "execution_count": 111,
   "metadata": {},
   "outputs": [],
   "source": [
    "@torch.no_grad()\n",
    "def prepare_data_features(model, dataset, infer = False):\n",
    "    # Prepare model\n",
    "    network = deepcopy(model.convnet)\n",
    "    network.fc = nn.Identity()  # Removing projection head g(.)\n",
    "    network.eval()\n",
    "    network.to(device)\n",
    "\n",
    "    # Encode all images\n",
    "    data_loader = DataLoader(dataset, batch_size=64, num_workers=CFG['NUM_WORKERS'], shuffle=False, drop_last=False)\n",
    "    feats, labels = [], []\n",
    "    if infer :\n",
    "        for batch_imgs in tqdm(data_loader):\n",
    "            batch_imgs = batch_imgs.to(device)\n",
    "            batch_feats = network(batch_imgs)\n",
    "            feats.append(batch_feats.detach().cpu())\n",
    "\n",
    "        feats = torch.cat(feats, dim=0)\n",
    "        return TensorDataset(feats)\n",
    "\n",
    "    else : \n",
    "\n",
    "        for batch_imgs, batch_labels in tqdm(data_loader):\n",
    "            batch_imgs = batch_imgs.to(device)\n",
    "            batch_feats = network(batch_imgs)\n",
    "            feats.append(batch_feats.detach().cpu())\n",
    "            labels.append(batch_labels.type(torch.LongTensor))\n",
    "\n",
    "        feats = torch.cat(feats, dim=0)\n",
    "        labels = torch.cat(labels, dim=0)\n",
    "\n",
    "        # Sort images by labels\n",
    "        labels, idxs = labels.sort()\n",
    "        feats = feats[idxs]\n",
    "\n",
    "        return TensorDataset(feats, labels)"
   ]
  },
  {
   "cell_type": "code",
   "execution_count": 141,
   "metadata": {},
   "outputs": [
    {
     "data": {
      "application/vnd.jupyter.widget-view+json": {
       "model_id": "c8b271a24c4045e585ff8d0e51885523",
       "version_major": 2,
       "version_minor": 0
      },
      "text/plain": [
       "  0%|          | 0/38 [00:00<?, ?it/s]"
      ]
     },
     "metadata": {},
     "output_type": "display_data"
    }
   ],
   "source": [
    "from copy import deepcopy\n",
    "\n",
    "train_feats_simclr = prepare_data_features(simclr_model, train_img_dataset)\n"
   ]
  },
  {
   "cell_type": "code",
   "execution_count": 142,
   "metadata": {},
   "outputs": [
    {
     "data": {
      "application/vnd.jupyter.widget-view+json": {
       "model_id": "1f8bfa6a66c041c99f8366dffc9ccd83",
       "version_major": 2,
       "version_minor": 0
      },
      "text/plain": [
       "  0%|          | 0/17 [00:00<?, ?it/s]"
      ]
     },
     "metadata": {},
     "output_type": "display_data"
    }
   ],
   "source": [
    "test_feats_simclr = prepare_data_features(simclr_model, test_img_dataset)"
   ]
  },
  {
   "cell_type": "code",
   "execution_count": 112,
   "metadata": {},
   "outputs": [],
   "source": [
    "def train_logreg(batch_size, train_feats_data, test_feats_data, model_suffix, max_epochs=500, **kwargs):\n",
    "    trainer = pl.Trainer(\n",
    "        default_root_dir=os.path.join(CFG['CHECKPOINT_PATH'], \"LogisticRegression\"),\n",
    "        accelerator=\"auto\",\n",
    "        devices=1,\n",
    "        max_epochs=max_epochs,\n",
    "        callbacks=[\n",
    "            ModelCheckpoint(save_weights_only=True, mode=\"max\", monitor=\"val_acc\"),\n",
    "            LearningRateMonitor(\"epoch\"),\n",
    "        ],\n",
    "        enable_progress_bar=False,\n",
    "        check_val_every_n_epoch=10,\n",
    "    )\n",
    "    trainer.logger._default_hp_metric = None\n",
    "\n",
    "    # Data loaders\n",
    "    train_loader = DataLoader(\n",
    "        train_feats_data, batch_size=batch_size, shuffle=True, drop_last=False, pin_memory=True, num_workers=0\n",
    "    )\n",
    "    test_loader = DataLoader(\n",
    "        test_feats_data, batch_size=batch_size, shuffle=False, drop_last=False, pin_memory=True, num_workers=0\n",
    "    )\n",
    "\n",
    "    # Check whether pretrained model exists. If yes, load it and skip training\n",
    "    pretrained_filename = os.path.join(CFG['CHECKPOINT_PATH'], f\"LogisticRegression_{model_suffix}.ckpt\")\n",
    "    if os.path.isfile(pretrained_filename):\n",
    "        print(f\"Found pretrained model at {pretrained_filename}, loading...\")\n",
    "        model = LogisticRegression.load_from_checkpoint(pretrained_filename)\n",
    "    else:\n",
    "        pl.seed_everything(42)  # To be reproducable\n",
    "        model = LogisticRegression(**kwargs)\n",
    "        trainer.fit(model, train_loader, test_loader)\n",
    "        model = LogisticRegression.load_from_checkpoint(trainer.checkpoint_callback.best_model_path)\n",
    "\n",
    "    # Test best model on train and validation set\n",
    "    train_result = trainer.test(model, dataloaders=train_loader, verbose=False)\n",
    "    test_result = trainer.test(model, dataloaders=test_loader, verbose=False)\n",
    "    test_result = trainer.predict(model, dataloaders=test_loader)\n",
    "    # result = {\"train\": train_result[0][\"test_acc\"], \"test\": test_result[0][\"test_acc\"]}\n",
    "\n",
    "    return model, test_result"
   ]
  },
  {
   "cell_type": "code",
   "execution_count": 163,
   "metadata": {},
   "outputs": [],
   "source": [
    "def get_smaller_dataset(original_dataset, num_imgs_per_label):\n",
    "    new_dataset = TensorDataset(\n",
    "        *(t.unflatten(0, (10, 500))[:, :num_imgs_per_label].flatten(0, 1) for t in original_dataset.tensors)\n",
    "    )\n",
    "    return new_dataset"
   ]
  },
  {
   "cell_type": "code",
   "execution_count": 164,
   "metadata": {},
   "outputs": [
    {
     "name": "stderr",
     "output_type": "stream",
     "text": [
      "GPU available: True (cuda), used: True\n",
      "TPU available: False, using: 0 TPU cores\n",
      "IPU available: False, using: 0 IPUs\n",
      "HPU available: False, using: 0 HPUs\n",
      "Global seed set to 42\n",
      "LOCAL_RANK: 0 - CUDA_VISIBLE_DEVICES: [0]\n",
      "\n",
      "  | Name  | Type   | Params\n",
      "---------------------------------\n",
      "0 | model | Linear | 9.7 K \n",
      "---------------------------------\n",
      "9.7 K     Trainable params\n",
      "0         Non-trainable params\n",
      "9.7 K     Total params\n",
      "0.039     Total estimated model params size (MB)\n",
      "`Trainer.fit` stopped: `max_epochs=800` reached.\n",
      "LOCAL_RANK: 0 - CUDA_VISIBLE_DEVICES: [0]\n",
      "LOCAL_RANK: 0 - CUDA_VISIBLE_DEVICES: [0]\n"
     ]
    },
    {
     "ename": "MisconfigurationException",
     "evalue": "`Trainer.predict` requires `forward` method to run.",
     "output_type": "error",
     "traceback": [
      "\u001b[1;31m---------------------------------------------------------------------------\u001b[0m",
      "\u001b[1;31mMisconfigurationException\u001b[0m                 Traceback (most recent call last)",
      "Cell \u001b[1;32mIn[164], line 4\u001b[0m\n\u001b[0;32m      1\u001b[0m results \u001b[39m=\u001b[39m {}\n\u001b[0;32m      2\u001b[0m \u001b[39m# for num_imgs_per_label in [10, 20]:\u001b[39;00m\n\u001b[0;32m      3\u001b[0m \u001b[39m#     sub_train_set = get_smaller_dataset(train_feats_simclr, num_imgs_per_label)\u001b[39;00m\n\u001b[1;32m----> 4\u001b[0m _, small_set_results, test_result \u001b[39m=\u001b[39m train_logreg(\n\u001b[0;32m      5\u001b[0m     batch_size\u001b[39m=\u001b[39;49m\u001b[39m64\u001b[39;49m,\n\u001b[0;32m      6\u001b[0m     train_feats_data\u001b[39m=\u001b[39;49mtrain_feats_simclr, \u001b[39m# sub_train_set,\u001b[39;49;00m\n\u001b[0;32m      7\u001b[0m     test_feats_data\u001b[39m=\u001b[39;49mtest_feats_simclr,\n\u001b[0;32m      8\u001b[0m     model_suffix\u001b[39m=\u001b[39;49mnum_imgs_per_label,\n\u001b[0;32m      9\u001b[0m     feature_dim\u001b[39m=\u001b[39;49mtrain_feats_simclr\u001b[39m.\u001b[39;49mtensors[\u001b[39m0\u001b[39;49m]\u001b[39m.\u001b[39;49mshape[\u001b[39m1\u001b[39;49m],\n\u001b[0;32m     10\u001b[0m     num_classes\u001b[39m=\u001b[39;49m\u001b[39m19\u001b[39;49m,\n\u001b[0;32m     11\u001b[0m     lr\u001b[39m=\u001b[39;49m\u001b[39m1e-3\u001b[39;49m,\n\u001b[0;32m     12\u001b[0m     weight_decay\u001b[39m=\u001b[39;49m\u001b[39m1e-3\u001b[39;49m,\n\u001b[0;32m     13\u001b[0m     max_epochs \u001b[39m=\u001b[39;49m \u001b[39m800\u001b[39;49m\n\u001b[0;32m     14\u001b[0m )\n\u001b[0;32m     15\u001b[0m \u001b[39m# results[num_imgs_per_label] = small_set_results\u001b[39;00m\n",
      "Cell \u001b[1;32mIn[162], line 38\u001b[0m, in \u001b[0;36mtrain_logreg\u001b[1;34m(batch_size, train_feats_data, test_feats_data, model_suffix, max_epochs, **kwargs)\u001b[0m\n\u001b[0;32m     36\u001b[0m train_result \u001b[39m=\u001b[39m trainer\u001b[39m.\u001b[39mtest(model, dataloaders\u001b[39m=\u001b[39mtrain_loader, verbose\u001b[39m=\u001b[39m\u001b[39mFalse\u001b[39;00m)\n\u001b[0;32m     37\u001b[0m test_result \u001b[39m=\u001b[39m trainer\u001b[39m.\u001b[39mtest(model, dataloaders\u001b[39m=\u001b[39mtest_loader, verbose\u001b[39m=\u001b[39m\u001b[39mFalse\u001b[39;00m)\n\u001b[1;32m---> 38\u001b[0m test_result \u001b[39m=\u001b[39m trainer\u001b[39m.\u001b[39;49mpredict(model, dataloaders\u001b[39m=\u001b[39;49mtest_loader)\n\u001b[0;32m     39\u001b[0m \u001b[39m# result = {\"train\": train_result[0][\"test_acc\"], \"test\": test_result[0][\"test_acc\"]}\u001b[39;00m\n\u001b[0;32m     41\u001b[0m \u001b[39mreturn\u001b[39;00m model, test_result\n",
      "File \u001b[1;32m~\\AppData\\Local\\Packages\\PythonSoftwareFoundation.Python.3.10_qbz5n2kfra8p0\\LocalCache\\local-packages\\Python310\\site-packages\\lightning\\pytorch\\trainer\\trainer.py:805\u001b[0m, in \u001b[0;36mTrainer.predict\u001b[1;34m(self, model, dataloaders, datamodule, return_predictions, ckpt_path)\u001b[0m\n\u001b[0;32m    803\u001b[0m     model \u001b[39m=\u001b[39m _maybe_unwrap_optimized(model)\n\u001b[0;32m    804\u001b[0m     \u001b[39mself\u001b[39m\u001b[39m.\u001b[39mstrategy\u001b[39m.\u001b[39m_lightning_module \u001b[39m=\u001b[39m model\n\u001b[1;32m--> 805\u001b[0m \u001b[39mreturn\u001b[39;00m call\u001b[39m.\u001b[39;49m_call_and_handle_interrupt(\n\u001b[0;32m    806\u001b[0m     \u001b[39mself\u001b[39;49m, \u001b[39mself\u001b[39;49m\u001b[39m.\u001b[39;49m_predict_impl, model, dataloaders, datamodule, return_predictions, ckpt_path\n\u001b[0;32m    807\u001b[0m )\n",
      "File \u001b[1;32m~\\AppData\\Local\\Packages\\PythonSoftwareFoundation.Python.3.10_qbz5n2kfra8p0\\LocalCache\\local-packages\\Python310\\site-packages\\lightning\\pytorch\\trainer\\call.py:44\u001b[0m, in \u001b[0;36m_call_and_handle_interrupt\u001b[1;34m(trainer, trainer_fn, *args, **kwargs)\u001b[0m\n\u001b[0;32m     42\u001b[0m         \u001b[39mreturn\u001b[39;00m trainer\u001b[39m.\u001b[39mstrategy\u001b[39m.\u001b[39mlauncher\u001b[39m.\u001b[39mlaunch(trainer_fn, \u001b[39m*\u001b[39margs, trainer\u001b[39m=\u001b[39mtrainer, \u001b[39m*\u001b[39m\u001b[39m*\u001b[39mkwargs)\n\u001b[0;32m     43\u001b[0m     \u001b[39melse\u001b[39;00m:\n\u001b[1;32m---> 44\u001b[0m         \u001b[39mreturn\u001b[39;00m trainer_fn(\u001b[39m*\u001b[39margs, \u001b[39m*\u001b[39m\u001b[39m*\u001b[39mkwargs)\n\u001b[0;32m     46\u001b[0m \u001b[39mexcept\u001b[39;00m _TunerExitException:\n\u001b[0;32m     47\u001b[0m     _call_teardown_hook(trainer)\n",
      "File \u001b[1;32m~\\AppData\\Local\\Packages\\PythonSoftwareFoundation.Python.3.10_qbz5n2kfra8p0\\LocalCache\\local-packages\\Python310\\site-packages\\lightning\\pytorch\\trainer\\trainer.py:847\u001b[0m, in \u001b[0;36mTrainer._predict_impl\u001b[1;34m(self, model, dataloaders, datamodule, return_predictions, ckpt_path)\u001b[0m\n\u001b[0;32m    842\u001b[0m \u001b[39mself\u001b[39m\u001b[39m.\u001b[39m_data_connector\u001b[39m.\u001b[39mattach_data(model, predict_dataloaders\u001b[39m=\u001b[39mdataloaders, datamodule\u001b[39m=\u001b[39mdatamodule)\n\u001b[0;32m    844\u001b[0m ckpt_path \u001b[39m=\u001b[39m \u001b[39mself\u001b[39m\u001b[39m.\u001b[39m_checkpoint_connector\u001b[39m.\u001b[39m_select_ckpt_path(\n\u001b[0;32m    845\u001b[0m     \u001b[39mself\u001b[39m\u001b[39m.\u001b[39mstate\u001b[39m.\u001b[39mfn, ckpt_path, model_provided\u001b[39m=\u001b[39mmodel_provided, model_connected\u001b[39m=\u001b[39m\u001b[39mself\u001b[39m\u001b[39m.\u001b[39mlightning_module \u001b[39mis\u001b[39;00m \u001b[39mnot\u001b[39;00m \u001b[39mNone\u001b[39;00m\n\u001b[0;32m    846\u001b[0m )\n\u001b[1;32m--> 847\u001b[0m results \u001b[39m=\u001b[39m \u001b[39mself\u001b[39;49m\u001b[39m.\u001b[39;49m_run(model, ckpt_path\u001b[39m=\u001b[39;49mckpt_path)\n\u001b[0;32m    849\u001b[0m \u001b[39massert\u001b[39;00m \u001b[39mself\u001b[39m\u001b[39m.\u001b[39mstate\u001b[39m.\u001b[39mstopped\n\u001b[0;32m    850\u001b[0m \u001b[39mself\u001b[39m\u001b[39m.\u001b[39mpredicting \u001b[39m=\u001b[39m \u001b[39mFalse\u001b[39;00m\n",
      "File \u001b[1;32m~\\AppData\\Local\\Packages\\PythonSoftwareFoundation.Python.3.10_qbz5n2kfra8p0\\LocalCache\\local-packages\\Python310\\site-packages\\lightning\\pytorch\\trainer\\trainer.py:883\u001b[0m, in \u001b[0;36mTrainer._run\u001b[1;34m(self, model, ckpt_path)\u001b[0m\n\u001b[0;32m    880\u001b[0m \u001b[39mself\u001b[39m\u001b[39m.\u001b[39m_callback_connector\u001b[39m.\u001b[39m_attach_model_callbacks()\n\u001b[0;32m    881\u001b[0m \u001b[39mself\u001b[39m\u001b[39m.\u001b[39m_callback_connector\u001b[39m.\u001b[39m_attach_model_logging_functions()\n\u001b[1;32m--> 883\u001b[0m _verify_loop_configurations(\u001b[39mself\u001b[39;49m)\n\u001b[0;32m    885\u001b[0m \u001b[39m# hook\u001b[39;00m\n\u001b[0;32m    886\u001b[0m log\u001b[39m.\u001b[39mdebug(\u001b[39mf\u001b[39m\u001b[39m\"\u001b[39m\u001b[39m{\u001b[39;00m\u001b[39mself\u001b[39m\u001b[39m.\u001b[39m\u001b[39m__class__\u001b[39m\u001b[39m.\u001b[39m\u001b[39m__name__\u001b[39m\u001b[39m}\u001b[39;00m\u001b[39m: preparing data\u001b[39m\u001b[39m\"\u001b[39m)\n",
      "File \u001b[1;32m~\\AppData\\Local\\Packages\\PythonSoftwareFoundation.Python.3.10_qbz5n2kfra8p0\\LocalCache\\local-packages\\Python310\\site-packages\\lightning\\pytorch\\trainer\\configuration_validator.py:46\u001b[0m, in \u001b[0;36m_verify_loop_configurations\u001b[1;34m(trainer)\u001b[0m\n\u001b[0;32m     44\u001b[0m     __verify_eval_loop_configuration(model, \u001b[39m\"\u001b[39m\u001b[39mtest\u001b[39m\u001b[39m\"\u001b[39m)\n\u001b[0;32m     45\u001b[0m \u001b[39melif\u001b[39;00m trainer\u001b[39m.\u001b[39mstate\u001b[39m.\u001b[39mfn \u001b[39m==\u001b[39m TrainerFn\u001b[39m.\u001b[39mPREDICTING:\n\u001b[1;32m---> 46\u001b[0m     __verify_eval_loop_configuration(model, \u001b[39m\"\u001b[39;49m\u001b[39mpredict\u001b[39;49m\u001b[39m\"\u001b[39;49m)\n\u001b[0;32m     48\u001b[0m __verify_batch_transfer_support(trainer)\n",
      "File \u001b[1;32m~\\AppData\\Local\\Packages\\PythonSoftwareFoundation.Python.3.10_qbz5n2kfra8p0\\LocalCache\\local-packages\\Python310\\site-packages\\lightning\\pytorch\\trainer\\configuration_validator.py:103\u001b[0m, in \u001b[0;36m__verify_eval_loop_configuration\u001b[1;34m(model, stage)\u001b[0m\n\u001b[0;32m    101\u001b[0m         \u001b[39mraise\u001b[39;00m MisconfigurationException(\u001b[39m\"\u001b[39m\u001b[39m`predict_step` cannot be None to run `Trainer.predict`\u001b[39m\u001b[39m\"\u001b[39m)\n\u001b[0;32m    102\u001b[0m     \u001b[39melif\u001b[39;00m \u001b[39mnot\u001b[39;00m has_step \u001b[39mand\u001b[39;00m \u001b[39mnot\u001b[39;00m is_overridden(\u001b[39m\"\u001b[39m\u001b[39mforward\u001b[39m\u001b[39m\"\u001b[39m, model):\n\u001b[1;32m--> 103\u001b[0m         \u001b[39mraise\u001b[39;00m MisconfigurationException(\u001b[39m\"\u001b[39m\u001b[39m`Trainer.predict` requires `forward` method to run.\u001b[39m\u001b[39m\"\u001b[39m)\n\u001b[0;32m    104\u001b[0m \u001b[39melse\u001b[39;00m:\n\u001b[0;32m    105\u001b[0m     \u001b[39m# verify minimum evaluation requirements\u001b[39;00m\n\u001b[0;32m    106\u001b[0m     \u001b[39mif\u001b[39;00m \u001b[39mnot\u001b[39;00m has_step:\n",
      "\u001b[1;31mMisconfigurationException\u001b[0m: `Trainer.predict` requires `forward` method to run."
     ]
    }
   ],
   "source": [
    "results = {}\n",
    "# for num_imgs_per_label in [10, 20]:\n",
    "#     sub_train_set = get_smaller_dataset(train_feats_simclr, num_imgs_per_label)\n",
    "_, small_set_results, test_result = train_logreg(\n",
    "    batch_size=64,\n",
    "    train_feats_data=train_feats_simclr, # sub_train_set,\n",
    "    test_feats_data=test_feats_simclr,\n",
    "    model_suffix=num_imgs_per_label,\n",
    "    feature_dim=train_feats_simclr.tensors[0].shape[1],\n",
    "    num_classes=19,\n",
    "    lr=1e-3,\n",
    "    weight_decay=1e-3,\n",
    "    max_epochs = 800\n",
    ")\n",
    "# results[num_imgs_per_label] = small_set_results"
   ]
  },
  {
   "cell_type": "code",
   "execution_count": 153,
   "metadata": {},
   "outputs": [
    {
     "data": {
      "text/plain": [
       "{'train': 0.5320380330085754, 'test': 0.5038535594940186}"
      ]
     },
     "execution_count": 153,
     "metadata": {},
     "output_type": "execute_result"
    }
   ],
   "source": [
    "SimCLR"
   ]
  },
  {
   "cell_type": "code",
   "execution_count": 124,
   "metadata": {},
   "outputs": [
    {
     "data": {
      "text/plain": [
       "tensor(0)"
      ]
     },
     "execution_count": 124,
     "metadata": {},
     "output_type": "execute_result"
    }
   ],
   "source": [
    "next(iter(test_feats_simclr))[1]"
   ]
  },
  {
   "cell_type": "code",
   "execution_count": 118,
   "metadata": {},
   "outputs": [
    {
     "data": {
      "application/vnd.jupyter.widget-view+json": {
       "model_id": "e5aca470f6eb4e10bd8f026e61f875d1",
       "version_major": 2,
       "version_minor": 0
      },
      "text/plain": [
       "  0%|          | 0/17 [00:00<?, ?it/s]"
      ]
     },
     "metadata": {},
     "output_type": "display_data"
    }
   ],
   "source": [
    "# prepare_data_features(model, dataset)\n",
    "from copy import deepcopy\n",
    "simclr_model = SimCLR(CFG['HIDDEN_DIM'], CFG['LR'], CFG['TEMP'], CFG['WEIGHT_DECAY'])\n",
    "test_feats_simclr = prepare_data_features(simclr_model, test_img_dataset)\n",
    "\n",
    "\n",
    "feature_dim = 512\n",
    "num_classes = 19\n",
    "lr = 1e-4\n",
    "weight_decay = CFG['WEIGHT_DECAY']\n",
    "\n",
    "logistic_model = LogisticRegression(feature_dim, num_classes, lr, weight_decay, max_epochs=100)"
   ]
  },
  {
   "cell_type": "code",
   "execution_count": 120,
   "metadata": {},
   "outputs": [
    {
     "data": {
      "text/plain": [
       "LogisticRegression(\n",
       "  (model): Linear(in_features=512, out_features=19, bias=True)\n",
       ")"
      ]
     },
     "execution_count": 120,
     "metadata": {},
     "output_type": "execute_result"
    }
   ],
   "source": [
    "logistic_model.load_from_checkpoint('LogisticRegression/lightning_logs/version_8/checkpoints/epoch=69-step=2660.ckpt')"
   ]
  },
  {
   "cell_type": "code",
   "execution_count": 121,
   "metadata": {},
   "outputs": [
    {
     "name": "stdout",
     "output_type": "stream",
     "text": [
      "tensor(9) tensor(0)\n",
      "tensor(9) tensor(0)\n",
      "tensor(9) tensor(0)\n",
      "tensor(9) tensor(0)\n",
      "tensor(9) tensor(1)\n",
      "tensor(9) tensor(1)\n",
      "tensor(9) tensor(1)\n",
      "tensor(9) tensor(1)\n",
      "tensor(9) tensor(1)\n",
      "tensor(9) tensor(1)\n",
      "tensor(9) tensor(1)\n",
      "tensor(9) tensor(1)\n",
      "tensor(9) tensor(1)\n",
      "tensor(9) tensor(1)\n",
      "tensor(9) tensor(1)\n",
      "tensor(9) tensor(1)\n",
      "tensor(9) tensor(1)\n",
      "tensor(9) tensor(1)\n",
      "tensor(9) tensor(1)\n",
      "tensor(9) tensor(1)\n",
      "tensor(9) tensor(1)\n",
      "tensor(9) tensor(1)\n",
      "tensor(9) tensor(1)\n",
      "tensor(9) tensor(1)\n",
      "tensor(9) tensor(1)\n",
      "tensor(9) tensor(1)\n",
      "tensor(9) tensor(1)\n",
      "tensor(9) tensor(1)\n",
      "tensor(9) tensor(1)\n",
      "tensor(9) tensor(1)\n",
      "tensor(9) tensor(1)\n",
      "tensor(9) tensor(1)\n",
      "tensor(9) tensor(1)\n",
      "tensor(9) tensor(1)\n",
      "tensor(9) tensor(1)\n",
      "tensor(9) tensor(1)\n",
      "tensor(9) tensor(1)\n",
      "tensor(9) tensor(1)\n",
      "tensor(9) tensor(1)\n",
      "tensor(9) tensor(1)\n",
      "tensor(9) tensor(1)\n",
      "tensor(9) tensor(1)\n",
      "tensor(9) tensor(1)\n",
      "tensor(9) tensor(1)\n",
      "tensor(9) tensor(1)\n",
      "tensor(9) tensor(1)\n",
      "tensor(9) tensor(1)\n",
      "tensor(9) tensor(1)\n",
      "tensor(9) tensor(1)\n",
      "tensor(9) tensor(1)\n",
      "tensor(9) tensor(1)\n",
      "tensor(9) tensor(1)\n",
      "tensor(9) tensor(1)\n",
      "tensor(9) tensor(1)\n",
      "tensor(9) tensor(1)\n",
      "tensor(9) tensor(1)\n",
      "tensor(9) tensor(1)\n",
      "tensor(9) tensor(1)\n",
      "tensor(9) tensor(1)\n",
      "tensor(9) tensor(1)\n",
      "tensor(9) tensor(1)\n",
      "tensor(9) tensor(1)\n",
      "tensor(9) tensor(1)\n",
      "tensor(9) tensor(1)\n",
      "tensor(9) tensor(1)\n",
      "tensor(9) tensor(1)\n",
      "tensor(9) tensor(1)\n",
      "tensor(9) tensor(1)\n",
      "tensor(9) tensor(1)\n",
      "tensor(9) tensor(1)\n",
      "tensor(9) tensor(1)\n",
      "tensor(9) tensor(1)\n",
      "tensor(9) tensor(1)\n",
      "tensor(9) tensor(1)\n",
      "tensor(9) tensor(1)\n",
      "tensor(9) tensor(1)\n",
      "tensor(9) tensor(1)\n",
      "tensor(9) tensor(1)\n",
      "tensor(9) tensor(1)\n",
      "tensor(9) tensor(1)\n",
      "tensor(9) tensor(1)\n",
      "tensor(9) tensor(1)\n",
      "tensor(9) tensor(1)\n",
      "tensor(9) tensor(1)\n",
      "tensor(9) tensor(1)\n",
      "tensor(9) tensor(1)\n",
      "tensor(9) tensor(1)\n",
      "tensor(9) tensor(1)\n",
      "tensor(9) tensor(1)\n",
      "tensor(9) tensor(1)\n",
      "tensor(9) tensor(1)\n",
      "tensor(9) tensor(1)\n",
      "tensor(9) tensor(1)\n",
      "tensor(9) tensor(1)\n",
      "tensor(9) tensor(1)\n",
      "tensor(9) tensor(1)\n",
      "tensor(9) tensor(2)\n",
      "tensor(9) tensor(2)\n",
      "tensor(9) tensor(2)\n",
      "tensor(9) tensor(2)\n",
      "tensor(9) tensor(2)\n",
      "tensor(9) tensor(2)\n",
      "tensor(9) tensor(2)\n",
      "tensor(9) tensor(2)\n",
      "tensor(9) tensor(2)\n",
      "tensor(9) tensor(2)\n",
      "tensor(9) tensor(2)\n",
      "tensor(9) tensor(2)\n",
      "tensor(9) tensor(2)\n",
      "tensor(9) tensor(2)\n",
      "tensor(9) tensor(2)\n",
      "tensor(9) tensor(2)\n",
      "tensor(9) tensor(2)\n",
      "tensor(9) tensor(2)\n",
      "tensor(9) tensor(2)\n",
      "tensor(9) tensor(2)\n",
      "tensor(9) tensor(2)\n",
      "tensor(9) tensor(2)\n",
      "tensor(9) tensor(2)\n",
      "tensor(9) tensor(2)\n",
      "tensor(9) tensor(2)\n",
      "tensor(9) tensor(2)\n",
      "tensor(9) tensor(2)\n",
      "tensor(9) tensor(2)\n",
      "tensor(9) tensor(2)\n",
      "tensor(9) tensor(2)\n",
      "tensor(9) tensor(2)\n",
      "tensor(9) tensor(2)\n",
      "tensor(9) tensor(2)\n",
      "tensor(9) tensor(2)\n",
      "tensor(9) tensor(2)\n",
      "tensor(9) tensor(2)\n",
      "tensor(9) tensor(2)\n",
      "tensor(9) tensor(2)\n",
      "tensor(9) tensor(2)\n",
      "tensor(9) tensor(2)\n",
      "tensor(9) tensor(2)\n",
      "tensor(9) tensor(2)\n",
      "tensor(9) tensor(2)\n",
      "tensor(9) tensor(3)\n",
      "tensor(9) tensor(3)\n",
      "tensor(9) tensor(3)\n",
      "tensor(9) tensor(3)\n",
      "tensor(9) tensor(3)\n",
      "tensor(9) tensor(3)\n",
      "tensor(9) tensor(3)\n",
      "tensor(9) tensor(3)\n",
      "tensor(9) tensor(3)\n",
      "tensor(9) tensor(3)\n",
      "tensor(9) tensor(3)\n",
      "tensor(9) tensor(3)\n",
      "tensor(9) tensor(3)\n",
      "tensor(9) tensor(3)\n",
      "tensor(9) tensor(3)\n",
      "tensor(9) tensor(3)\n",
      "tensor(9) tensor(3)\n",
      "tensor(9) tensor(3)\n",
      "tensor(9) tensor(3)\n",
      "tensor(9) tensor(3)\n",
      "tensor(9) tensor(3)\n",
      "tensor(9) tensor(3)\n",
      "tensor(9) tensor(3)\n",
      "tensor(9) tensor(3)\n",
      "tensor(9) tensor(3)\n",
      "tensor(9) tensor(3)\n",
      "tensor(9) tensor(3)\n",
      "tensor(9) tensor(3)\n",
      "tensor(9) tensor(3)\n",
      "tensor(9) tensor(3)\n",
      "tensor(9) tensor(3)\n",
      "tensor(9) tensor(3)\n",
      "tensor(9) tensor(3)\n",
      "tensor(9) tensor(3)\n",
      "tensor(9) tensor(3)\n",
      "tensor(9) tensor(3)\n",
      "tensor(9) tensor(3)\n",
      "tensor(9) tensor(3)\n",
      "tensor(9) tensor(3)\n",
      "tensor(9) tensor(3)\n",
      "tensor(9) tensor(3)\n",
      "tensor(9) tensor(3)\n",
      "tensor(9) tensor(3)\n",
      "tensor(9) tensor(3)\n",
      "tensor(9) tensor(3)\n",
      "tensor(9) tensor(3)\n",
      "tensor(9) tensor(3)\n",
      "tensor(9) tensor(3)\n",
      "tensor(9) tensor(3)\n",
      "tensor(9) tensor(3)\n",
      "tensor(9) tensor(3)\n",
      "tensor(9) tensor(3)\n",
      "tensor(9) tensor(3)\n",
      "tensor(9) tensor(3)\n",
      "tensor(9) tensor(3)\n",
      "tensor(9) tensor(3)\n",
      "tensor(9) tensor(3)\n",
      "tensor(9) tensor(3)\n",
      "tensor(9) tensor(3)\n",
      "tensor(9) tensor(3)\n",
      "tensor(9) tensor(3)\n",
      "tensor(9) tensor(3)\n",
      "tensor(9) tensor(3)\n",
      "tensor(9) tensor(4)\n",
      "tensor(9) tensor(4)\n",
      "tensor(9) tensor(4)\n",
      "tensor(9) tensor(4)\n",
      "tensor(9) tensor(5)\n",
      "tensor(9) tensor(5)\n",
      "tensor(9) tensor(5)\n",
      "tensor(9) tensor(5)\n",
      "tensor(9) tensor(5)\n",
      "tensor(9) tensor(5)\n",
      "tensor(9) tensor(5)\n",
      "tensor(9) tensor(5)\n",
      "tensor(9) tensor(5)\n",
      "tensor(9) tensor(5)\n",
      "tensor(9) tensor(5)\n",
      "tensor(9) tensor(5)\n",
      "tensor(9) tensor(5)\n",
      "tensor(9) tensor(5)\n",
      "tensor(9) tensor(5)\n",
      "tensor(9) tensor(5)\n",
      "tensor(9) tensor(6)\n",
      "tensor(9) tensor(6)\n",
      "tensor(9) tensor(6)\n",
      "tensor(9) tensor(6)\n",
      "tensor(9) tensor(6)\n",
      "tensor(9) tensor(6)\n",
      "tensor(9) tensor(6)\n",
      "tensor(9) tensor(6)\n",
      "tensor(9) tensor(6)\n",
      "tensor(9) tensor(6)\n",
      "tensor(9) tensor(6)\n",
      "tensor(9) tensor(6)\n",
      "tensor(9) tensor(6)\n",
      "tensor(9) tensor(6)\n",
      "tensor(9) tensor(6)\n",
      "tensor(9) tensor(6)\n",
      "tensor(9) tensor(6)\n",
      "tensor(9) tensor(6)\n",
      "tensor(9) tensor(6)\n",
      "tensor(9) tensor(6)\n",
      "tensor(9) tensor(6)\n",
      "tensor(9) tensor(6)\n",
      "tensor(9) tensor(6)\n",
      "tensor(9) tensor(6)\n",
      "tensor(9) tensor(6)\n",
      "tensor(9) tensor(6)\n",
      "tensor(9) tensor(6)\n",
      "tensor(9) tensor(6)\n",
      "tensor(9) tensor(6)\n",
      "tensor(9) tensor(6)\n",
      "tensor(9) tensor(7)\n",
      "tensor(9) tensor(7)\n",
      "tensor(9) tensor(7)\n",
      "tensor(9) tensor(7)\n",
      "tensor(9) tensor(7)\n",
      "tensor(9) tensor(7)\n",
      "tensor(9) tensor(7)\n",
      "tensor(9) tensor(7)\n",
      "tensor(9) tensor(7)\n",
      "tensor(9) tensor(7)\n",
      "tensor(9) tensor(7)\n",
      "tensor(9) tensor(7)\n",
      "tensor(9) tensor(7)\n",
      "tensor(9) tensor(7)\n",
      "tensor(9) tensor(7)\n",
      "tensor(9) tensor(7)\n",
      "tensor(9) tensor(7)\n",
      "tensor(9) tensor(7)\n",
      "tensor(9) tensor(7)\n",
      "tensor(9) tensor(7)\n",
      "tensor(9) tensor(7)\n",
      "tensor(9) tensor(7)\n",
      "tensor(9) tensor(7)\n",
      "tensor(9) tensor(7)\n",
      "tensor(9) tensor(7)\n",
      "tensor(9) tensor(7)\n",
      "tensor(9) tensor(7)\n",
      "tensor(9) tensor(7)\n",
      "tensor(9) tensor(7)\n",
      "tensor(9) tensor(7)\n",
      "tensor(9) tensor(7)\n",
      "tensor(9) tensor(7)\n",
      "tensor(9) tensor(7)\n",
      "tensor(9) tensor(7)\n",
      "tensor(9) tensor(7)\n",
      "tensor(9) tensor(7)\n",
      "tensor(9) tensor(7)\n",
      "tensor(9) tensor(7)\n",
      "tensor(9) tensor(7)\n",
      "tensor(9) tensor(8)\n",
      "tensor(9) tensor(9)\n",
      "tensor(9) tensor(9)\n",
      "tensor(9) tensor(9)\n",
      "tensor(9) tensor(9)\n",
      "tensor(9) tensor(9)\n",
      "tensor(9) tensor(9)\n",
      "tensor(9) tensor(9)\n",
      "tensor(9) tensor(9)\n",
      "tensor(9) tensor(9)\n",
      "tensor(9) tensor(9)\n",
      "tensor(9) tensor(9)\n",
      "tensor(9) tensor(9)\n",
      "tensor(9) tensor(9)\n",
      "tensor(9) tensor(9)\n",
      "tensor(9) tensor(9)\n",
      "tensor(9) tensor(9)\n",
      "tensor(9) tensor(9)\n",
      "tensor(9) tensor(10)\n",
      "tensor(9) tensor(10)\n",
      "tensor(9) tensor(10)\n",
      "tensor(9) tensor(10)\n",
      "tensor(9) tensor(10)\n",
      "tensor(9) tensor(10)\n",
      "tensor(9) tensor(10)\n",
      "tensor(9) tensor(10)\n",
      "tensor(9) tensor(10)\n",
      "tensor(9) tensor(10)\n",
      "tensor(9) tensor(10)\n",
      "tensor(9) tensor(10)\n",
      "tensor(9) tensor(10)\n",
      "tensor(9) tensor(10)\n",
      "tensor(9) tensor(10)\n",
      "tensor(9) tensor(10)\n",
      "tensor(9) tensor(10)\n",
      "tensor(9) tensor(10)\n",
      "tensor(9) tensor(10)\n",
      "tensor(9) tensor(10)\n",
      "tensor(9) tensor(10)\n",
      "tensor(9) tensor(10)\n",
      "tensor(9) tensor(10)\n",
      "tensor(9) tensor(10)\n",
      "tensor(9) tensor(10)\n",
      "tensor(9) tensor(10)\n",
      "tensor(9) tensor(10)\n",
      "tensor(9) tensor(10)\n",
      "tensor(9) tensor(10)\n",
      "tensor(9) tensor(10)\n",
      "tensor(9) tensor(10)\n",
      "tensor(9) tensor(10)\n",
      "tensor(9) tensor(10)\n",
      "tensor(9) tensor(10)\n",
      "tensor(9) tensor(10)\n",
      "tensor(9) tensor(10)\n",
      "tensor(9) tensor(10)\n",
      "tensor(9) tensor(10)\n",
      "tensor(9) tensor(10)\n",
      "tensor(9) tensor(10)\n",
      "tensor(9) tensor(10)\n",
      "tensor(9) tensor(10)\n",
      "tensor(9) tensor(10)\n",
      "tensor(9) tensor(10)\n",
      "tensor(9) tensor(10)\n",
      "tensor(9) tensor(10)\n",
      "tensor(9) tensor(10)\n",
      "tensor(9) tensor(10)\n",
      "tensor(9) tensor(10)\n",
      "tensor(9) tensor(10)\n",
      "tensor(9) tensor(10)\n",
      "tensor(9) tensor(10)\n",
      "tensor(9) tensor(10)\n",
      "tensor(9) tensor(10)\n",
      "tensor(9) tensor(10)\n",
      "tensor(9) tensor(10)\n",
      "tensor(9) tensor(10)\n",
      "tensor(9) tensor(10)\n",
      "tensor(9) tensor(10)\n",
      "tensor(9) tensor(10)\n",
      "tensor(9) tensor(10)\n",
      "tensor(9) tensor(10)\n",
      "tensor(9) tensor(10)\n",
      "tensor(9) tensor(10)\n",
      "tensor(9) tensor(10)\n",
      "tensor(9) tensor(10)\n",
      "tensor(9) tensor(10)\n",
      "tensor(9) tensor(10)\n",
      "tensor(9) tensor(10)\n",
      "tensor(9) tensor(10)\n",
      "tensor(9) tensor(10)\n",
      "tensor(9) tensor(10)\n",
      "tensor(9) tensor(10)\n",
      "tensor(9) tensor(10)\n",
      "tensor(9) tensor(10)\n",
      "tensor(9) tensor(10)\n",
      "tensor(9) tensor(10)\n",
      "tensor(9) tensor(10)\n",
      "tensor(9) tensor(10)\n",
      "tensor(9) tensor(10)\n",
      "tensor(9) tensor(10)\n",
      "tensor(9) tensor(10)\n",
      "tensor(9) tensor(10)\n",
      "tensor(9) tensor(10)\n",
      "tensor(9) tensor(10)\n",
      "tensor(9) tensor(10)\n",
      "tensor(9) tensor(10)\n",
      "tensor(9) tensor(10)\n",
      "tensor(9) tensor(10)\n",
      "tensor(9) tensor(10)\n",
      "tensor(9) tensor(10)\n",
      "tensor(9) tensor(10)\n",
      "tensor(9) tensor(10)\n",
      "tensor(9) tensor(10)\n",
      "tensor(9) tensor(10)\n",
      "tensor(9) tensor(10)\n",
      "tensor(9) tensor(10)\n",
      "tensor(9) tensor(10)\n",
      "tensor(9) tensor(10)\n",
      "tensor(9) tensor(10)\n",
      "tensor(9) tensor(10)\n",
      "tensor(9) tensor(10)\n",
      "tensor(9) tensor(10)\n",
      "tensor(9) tensor(10)\n",
      "tensor(9) tensor(10)\n",
      "tensor(9) tensor(10)\n",
      "tensor(9) tensor(10)\n",
      "tensor(9) tensor(10)\n",
      "tensor(9) tensor(10)\n",
      "tensor(9) tensor(10)\n",
      "tensor(9) tensor(10)\n",
      "tensor(9) tensor(10)\n",
      "tensor(9) tensor(10)\n",
      "tensor(9) tensor(10)\n",
      "tensor(9) tensor(10)\n",
      "tensor(9) tensor(10)\n",
      "tensor(9) tensor(10)\n",
      "tensor(9) tensor(10)\n",
      "tensor(9) tensor(10)\n",
      "tensor(9) tensor(10)\n",
      "tensor(9) tensor(10)\n",
      "tensor(9) tensor(10)\n",
      "tensor(9) tensor(10)\n",
      "tensor(9) tensor(10)\n",
      "tensor(9) tensor(10)\n",
      "tensor(9) tensor(10)\n",
      "tensor(9) tensor(10)\n",
      "tensor(9) tensor(10)\n",
      "tensor(9) tensor(10)\n",
      "tensor(9) tensor(10)\n",
      "tensor(9) tensor(10)\n",
      "tensor(9) tensor(10)\n",
      "tensor(9) tensor(10)\n",
      "tensor(9) tensor(10)\n",
      "tensor(9) tensor(10)\n",
      "tensor(9) tensor(10)\n",
      "tensor(9) tensor(10)\n",
      "tensor(9) tensor(10)\n",
      "tensor(9) tensor(10)\n",
      "tensor(9) tensor(10)\n",
      "tensor(9) tensor(10)\n",
      "tensor(9) tensor(10)\n",
      "tensor(9) tensor(10)\n",
      "tensor(9) tensor(10)\n",
      "tensor(9) tensor(10)\n",
      "tensor(9) tensor(10)\n",
      "tensor(9) tensor(10)\n",
      "tensor(9) tensor(10)\n",
      "tensor(9) tensor(10)\n",
      "tensor(9) tensor(10)\n",
      "tensor(9) tensor(10)\n",
      "tensor(9) tensor(10)\n",
      "tensor(9) tensor(10)\n",
      "tensor(9) tensor(10)\n",
      "tensor(9) tensor(10)\n",
      "tensor(9) tensor(10)\n",
      "tensor(9) tensor(10)\n",
      "tensor(9) tensor(10)\n",
      "tensor(9) tensor(10)\n",
      "tensor(9) tensor(10)\n",
      "tensor(9) tensor(10)\n",
      "tensor(9) tensor(10)\n",
      "tensor(9) tensor(10)\n",
      "tensor(9) tensor(10)\n",
      "tensor(9) tensor(10)\n",
      "tensor(9) tensor(10)\n",
      "tensor(9) tensor(10)\n",
      "tensor(9) tensor(10)\n",
      "tensor(9) tensor(10)\n",
      "tensor(9) tensor(10)\n",
      "tensor(9) tensor(10)\n",
      "tensor(9) tensor(10)\n",
      "tensor(9) tensor(10)\n",
      "tensor(9) tensor(10)\n",
      "tensor(9) tensor(10)\n",
      "tensor(9) tensor(10)\n",
      "tensor(9) tensor(10)\n",
      "tensor(9) tensor(10)\n",
      "tensor(9) tensor(10)\n",
      "tensor(9) tensor(11)\n",
      "tensor(9) tensor(11)\n",
      "tensor(9) tensor(11)\n",
      "tensor(9) tensor(11)\n",
      "tensor(9) tensor(11)\n",
      "tensor(9) tensor(11)\n",
      "tensor(9) tensor(11)\n",
      "tensor(9) tensor(11)\n",
      "tensor(9) tensor(11)\n",
      "tensor(9) tensor(11)\n",
      "tensor(9) tensor(11)\n",
      "tensor(9) tensor(11)\n",
      "tensor(9) tensor(11)\n",
      "tensor(9) tensor(11)\n",
      "tensor(9) tensor(11)\n",
      "tensor(9) tensor(11)\n",
      "tensor(9) tensor(11)\n",
      "tensor(9) tensor(11)\n",
      "tensor(9) tensor(11)\n",
      "tensor(9) tensor(11)\n",
      "tensor(9) tensor(11)\n",
      "tensor(9) tensor(11)\n",
      "tensor(9) tensor(11)\n",
      "tensor(9) tensor(11)\n",
      "tensor(9) tensor(11)\n",
      "tensor(9) tensor(11)\n",
      "tensor(9) tensor(11)\n",
      "tensor(9) tensor(11)\n",
      "tensor(9) tensor(11)\n",
      "tensor(9) tensor(11)\n",
      "tensor(9) tensor(11)\n",
      "tensor(9) tensor(11)\n",
      "tensor(9) tensor(11)\n",
      "tensor(9) tensor(11)\n",
      "tensor(9) tensor(11)\n",
      "tensor(9) tensor(11)\n",
      "tensor(9) tensor(11)\n",
      "tensor(9) tensor(11)\n",
      "tensor(9) tensor(11)\n",
      "tensor(9) tensor(11)\n",
      "tensor(9) tensor(11)\n",
      "tensor(9) tensor(11)\n",
      "tensor(9) tensor(11)\n",
      "tensor(9) tensor(12)\n",
      "tensor(9) tensor(12)\n",
      "tensor(9) tensor(12)\n",
      "tensor(9) tensor(12)\n",
      "tensor(9) tensor(12)\n",
      "tensor(9) tensor(12)\n",
      "tensor(9) tensor(12)\n",
      "tensor(9) tensor(13)\n",
      "tensor(9) tensor(13)\n",
      "tensor(9) tensor(13)\n",
      "tensor(9) tensor(13)\n",
      "tensor(9) tensor(13)\n",
      "tensor(9) tensor(14)\n",
      "tensor(9) tensor(14)\n",
      "tensor(9) tensor(14)\n",
      "tensor(9) tensor(14)\n",
      "tensor(9) tensor(14)\n",
      "tensor(9) tensor(14)\n",
      "tensor(9) tensor(14)\n",
      "tensor(9) tensor(14)\n",
      "tensor(9) tensor(15)\n",
      "tensor(9) tensor(15)\n",
      "tensor(9) tensor(15)\n",
      "tensor(9) tensor(15)\n",
      "tensor(9) tensor(15)\n",
      "tensor(9) tensor(15)\n",
      "tensor(9) tensor(15)\n",
      "tensor(9) tensor(15)\n",
      "tensor(9) tensor(15)\n",
      "tensor(9) tensor(15)\n",
      "tensor(9) tensor(15)\n",
      "tensor(9) tensor(15)\n",
      "tensor(9) tensor(15)\n",
      "tensor(9) tensor(15)\n",
      "tensor(9) tensor(15)\n",
      "tensor(9) tensor(15)\n",
      "tensor(9) tensor(15)\n",
      "tensor(9) tensor(15)\n",
      "tensor(9) tensor(15)\n",
      "tensor(9) tensor(15)\n",
      "tensor(9) tensor(15)\n",
      "tensor(9) tensor(15)\n",
      "tensor(9) tensor(15)\n",
      "tensor(9) tensor(15)\n",
      "tensor(9) tensor(15)\n",
      "tensor(9) tensor(15)\n",
      "tensor(9) tensor(15)\n",
      "tensor(9) tensor(15)\n",
      "tensor(9) tensor(15)\n",
      "tensor(9) tensor(15)\n",
      "tensor(9) tensor(15)\n",
      "tensor(9) tensor(15)\n",
      "tensor(9) tensor(15)\n",
      "tensor(9) tensor(15)\n",
      "tensor(9) tensor(15)\n",
      "tensor(9) tensor(15)\n",
      "tensor(9) tensor(15)\n",
      "tensor(9) tensor(15)\n",
      "tensor(9) tensor(15)\n",
      "tensor(9) tensor(15)\n",
      "tensor(9) tensor(15)\n",
      "tensor(9) tensor(15)\n",
      "tensor(9) tensor(15)\n",
      "tensor(9) tensor(15)\n",
      "tensor(9) tensor(15)\n",
      "tensor(9) tensor(15)\n",
      "tensor(9) tensor(15)\n",
      "tensor(9) tensor(15)\n",
      "tensor(9) tensor(15)\n",
      "tensor(9) tensor(16)\n",
      "tensor(9) tensor(17)\n",
      "tensor(9) tensor(17)\n",
      "tensor(9) tensor(17)\n",
      "tensor(9) tensor(17)\n",
      "tensor(9) tensor(17)\n",
      "tensor(9) tensor(17)\n",
      "tensor(9) tensor(17)\n",
      "tensor(9) tensor(17)\n",
      "tensor(9) tensor(17)\n",
      "tensor(9) tensor(17)\n",
      "tensor(9) tensor(17)\n",
      "tensor(9) tensor(17)\n",
      "tensor(9) tensor(17)\n",
      "tensor(9) tensor(17)\n",
      "tensor(9) tensor(17)\n",
      "tensor(9) tensor(18)\n",
      "tensor(9) tensor(18)\n",
      "tensor(9) tensor(18)\n",
      "tensor(9) tensor(18)\n",
      "tensor(9) tensor(18)\n",
      "tensor(9) tensor(18)\n",
      "tensor(9) tensor(18)\n",
      "tensor(9) tensor(18)\n",
      "tensor(9) tensor(18)\n",
      "tensor(9) tensor(18)\n",
      "tensor(9) tensor(18)\n",
      "tensor(9) tensor(18)\n",
      "tensor(9) tensor(18)\n",
      "tensor(9) tensor(18)\n",
      "tensor(9) tensor(18)\n",
      "tensor(9) tensor(18)\n",
      "tensor(9) tensor(18)\n",
      "tensor(9) tensor(18)\n",
      "tensor(9) tensor(18)\n",
      "tensor(9) tensor(18)\n",
      "tensor(9) tensor(18)\n",
      "tensor(9) tensor(18)\n",
      "tensor(9) tensor(18)\n",
      "tensor(9) tensor(18)\n",
      "tensor(9) tensor(18)\n",
      "tensor(9) tensor(18)\n",
      "tensor(9) tensor(18)\n",
      "tensor(9) tensor(18)\n",
      "tensor(9) tensor(18)\n",
      "tensor(9) tensor(18)\n",
      "tensor(9) tensor(18)\n",
      "tensor(9) tensor(18)\n",
      "tensor(9) tensor(18)\n",
      "tensor(9) tensor(18)\n",
      "tensor(9) tensor(18)\n",
      "tensor(9) tensor(18)\n",
      "tensor(9) tensor(18)\n",
      "tensor(9) tensor(18)\n",
      "tensor(9) tensor(18)\n",
      "tensor(9) tensor(18)\n",
      "tensor(9) tensor(18)\n",
      "tensor(9) tensor(18)\n",
      "tensor(9) tensor(18)\n",
      "tensor(9) tensor(18)\n",
      "tensor(9) tensor(18)\n",
      "tensor(9) tensor(18)\n",
      "tensor(9) tensor(18)\n",
      "tensor(9) tensor(18)\n",
      "tensor(9) tensor(18)\n",
      "tensor(9) tensor(18)\n",
      "tensor(9) tensor(18)\n",
      "tensor(9) tensor(18)\n",
      "tensor(9) tensor(18)\n",
      "tensor(9) tensor(18)\n",
      "tensor(9) tensor(18)\n",
      "tensor(9) tensor(18)\n",
      "tensor(9) tensor(18)\n",
      "tensor(9) tensor(18)\n",
      "tensor(9) tensor(18)\n",
      "tensor(9) tensor(18)\n",
      "tensor(9) tensor(18)\n",
      "tensor(9) tensor(18)\n",
      "tensor(9) tensor(18)\n",
      "tensor(9) tensor(18)\n",
      "tensor(9) tensor(18)\n",
      "tensor(9) tensor(18)\n",
      "tensor(9) tensor(18)\n",
      "tensor(9) tensor(18)\n",
      "tensor(9) tensor(18)\n",
      "tensor(9) tensor(18)\n",
      "tensor(9) tensor(18)\n",
      "tensor(9) tensor(18)\n",
      "tensor(9) tensor(18)\n",
      "tensor(9) tensor(18)\n",
      "tensor(9) tensor(18)\n",
      "tensor(9) tensor(18)\n",
      "tensor(9) tensor(18)\n",
      "tensor(9) tensor(18)\n",
      "tensor(9) tensor(18)\n",
      "tensor(9) tensor(18)\n",
      "tensor(9) tensor(18)\n",
      "tensor(9) tensor(18)\n",
      "tensor(9) tensor(18)\n",
      "tensor(9) tensor(18)\n",
      "tensor(9) tensor(18)\n",
      "tensor(9) tensor(18)\n",
      "tensor(9) tensor(18)\n",
      "tensor(9) tensor(18)\n",
      "tensor(9) tensor(18)\n",
      "tensor(9) tensor(18)\n",
      "tensor(9) tensor(18)\n",
      "tensor(9) tensor(18)\n",
      "tensor(9) tensor(18)\n",
      "tensor(9) tensor(18)\n",
      "tensor(9) tensor(18)\n",
      "tensor(9) tensor(18)\n",
      "tensor(9) tensor(18)\n",
      "tensor(9) tensor(18)\n",
      "tensor(9) tensor(18)\n",
      "tensor(9) tensor(18)\n",
      "tensor(9) tensor(18)\n",
      "tensor(9) tensor(18)\n",
      "tensor(9) tensor(18)\n",
      "tensor(9) tensor(18)\n",
      "tensor(9) tensor(18)\n",
      "tensor(9) tensor(18)\n",
      "tensor(9) tensor(18)\n",
      "tensor(9) tensor(18)\n",
      "tensor(9) tensor(18)\n",
      "tensor(9) tensor(18)\n",
      "tensor(9) tensor(18)\n",
      "tensor(9) tensor(18)\n",
      "tensor(9) tensor(18)\n",
      "tensor(9) tensor(18)\n",
      "tensor(9) tensor(18)\n",
      "tensor(9) tensor(18)\n",
      "tensor(9) tensor(18)\n",
      "tensor(9) tensor(18)\n",
      "tensor(9) tensor(18)\n",
      "tensor(9) tensor(18)\n",
      "tensor(9) tensor(18)\n",
      "tensor(9) tensor(18)\n",
      "tensor(9) tensor(18)\n",
      "tensor(9) tensor(18)\n",
      "tensor(9) tensor(18)\n",
      "tensor(9) tensor(18)\n",
      "tensor(9) tensor(18)\n",
      "tensor(9) tensor(18)\n",
      "tensor(9) tensor(18)\n",
      "tensor(9) tensor(18)\n",
      "tensor(9) tensor(18)\n",
      "tensor(9) tensor(18)\n",
      "tensor(9) tensor(18)\n",
      "tensor(9) tensor(18)\n",
      "tensor(9) tensor(18)\n",
      "tensor(9) tensor(18)\n",
      "tensor(9) tensor(18)\n",
      "tensor(9) tensor(18)\n",
      "tensor(9) tensor(18)\n",
      "tensor(9) tensor(18)\n",
      "tensor(9) tensor(18)\n",
      "tensor(9) tensor(18)\n",
      "tensor(9) tensor(18)\n",
      "tensor(9) tensor(18)\n",
      "tensor(9) tensor(18)\n",
      "tensor(9) tensor(18)\n",
      "tensor(9) tensor(18)\n",
      "tensor(9) tensor(18)\n",
      "tensor(9) tensor(18)\n",
      "tensor(9) tensor(18)\n",
      "tensor(9) tensor(18)\n",
      "tensor(9) tensor(18)\n",
      "tensor(9) tensor(18)\n",
      "tensor(9) tensor(18)\n",
      "tensor(9) tensor(18)\n",
      "tensor(9) tensor(18)\n",
      "tensor(9) tensor(18)\n",
      "tensor(9) tensor(18)\n",
      "tensor(9) tensor(18)\n",
      "tensor(9) tensor(18)\n",
      "tensor(9) tensor(18)\n",
      "tensor(9) tensor(18)\n",
      "tensor(9) tensor(18)\n",
      "tensor(9) tensor(18)\n",
      "tensor(9) tensor(18)\n",
      "tensor(9) tensor(18)\n",
      "tensor(9) tensor(18)\n",
      "tensor(9) tensor(18)\n",
      "tensor(9) tensor(18)\n",
      "tensor(9) tensor(18)\n",
      "tensor(9) tensor(18)\n",
      "tensor(9) tensor(18)\n",
      "tensor(9) tensor(18)\n",
      "tensor(9) tensor(18)\n",
      "tensor(9) tensor(18)\n",
      "tensor(9) tensor(18)\n",
      "tensor(9) tensor(18)\n",
      "tensor(9) tensor(18)\n",
      "tensor(9) tensor(18)\n",
      "tensor(9) tensor(18)\n",
      "tensor(9) tensor(18)\n",
      "tensor(9) tensor(18)\n",
      "tensor(9) tensor(18)\n",
      "tensor(9) tensor(18)\n",
      "tensor(9) tensor(18)\n",
      "tensor(9) tensor(18)\n",
      "tensor(9) tensor(18)\n",
      "tensor(9) tensor(18)\n",
      "tensor(9) tensor(18)\n",
      "tensor(9) tensor(18)\n",
      "tensor(9) tensor(18)\n",
      "tensor(9) tensor(18)\n",
      "tensor(9) tensor(18)\n",
      "tensor(9) tensor(18)\n",
      "tensor(9) tensor(18)\n",
      "tensor(9) tensor(18)\n",
      "tensor(9) tensor(18)\n",
      "tensor(9) tensor(18)\n",
      "tensor(9) tensor(18)\n",
      "tensor(9) tensor(18)\n",
      "tensor(9) tensor(18)\n",
      "tensor(9) tensor(18)\n",
      "tensor(9) tensor(18)\n",
      "tensor(9) tensor(18)\n",
      "tensor(9) tensor(18)\n",
      "tensor(9) tensor(18)\n",
      "tensor(9) tensor(18)\n",
      "tensor(9) tensor(18)\n",
      "tensor(9) tensor(18)\n",
      "tensor(9) tensor(18)\n",
      "tensor(9) tensor(18)\n",
      "tensor(9) tensor(18)\n",
      "tensor(9) tensor(18)\n",
      "tensor(9) tensor(18)\n",
      "tensor(9) tensor(18)\n",
      "tensor(9) tensor(18)\n",
      "tensor(9) tensor(18)\n",
      "tensor(9) tensor(18)\n",
      "tensor(9) tensor(18)\n",
      "tensor(9) tensor(18)\n",
      "tensor(9) tensor(18)\n",
      "tensor(9) tensor(18)\n",
      "tensor(9) tensor(18)\n",
      "tensor(9) tensor(18)\n",
      "tensor(9) tensor(18)\n",
      "tensor(9) tensor(18)\n",
      "tensor(9) tensor(18)\n",
      "tensor(9) tensor(18)\n",
      "tensor(9) tensor(18)\n",
      "tensor(9) tensor(18)\n",
      "tensor(9) tensor(18)\n",
      "tensor(9) tensor(18)\n",
      "tensor(9) tensor(18)\n",
      "tensor(9) tensor(18)\n",
      "tensor(9) tensor(18)\n",
      "tensor(9) tensor(18)\n",
      "tensor(9) tensor(18)\n",
      "tensor(9) tensor(18)\n",
      "tensor(9) tensor(18)\n",
      "tensor(9) tensor(18)\n",
      "tensor(9) tensor(18)\n",
      "tensor(9) tensor(18)\n",
      "tensor(9) tensor(18)\n",
      "tensor(9) tensor(18)\n",
      "tensor(9) tensor(18)\n",
      "tensor(9) tensor(18)\n",
      "tensor(9) tensor(18)\n",
      "tensor(9) tensor(18)\n",
      "tensor(9) tensor(18)\n",
      "tensor(9) tensor(18)\n",
      "tensor(9) tensor(18)\n",
      "tensor(9) tensor(18)\n",
      "tensor(9) tensor(18)\n",
      "tensor(9) tensor(18)\n",
      "tensor(9) tensor(18)\n",
      "tensor(9) tensor(18)\n",
      "tensor(9) tensor(18)\n",
      "tensor(9) tensor(18)\n",
      "tensor(9) tensor(18)\n",
      "tensor(9) tensor(18)\n",
      "tensor(9) tensor(18)\n",
      "tensor(9) tensor(18)\n",
      "tensor(9) tensor(18)\n",
      "tensor(9) tensor(18)\n",
      "tensor(9) tensor(18)\n",
      "tensor(9) tensor(18)\n",
      "tensor(9) tensor(18)\n",
      "tensor(9) tensor(18)\n",
      "tensor(9) tensor(18)\n",
      "tensor(9) tensor(18)\n",
      "tensor(9) tensor(18)\n",
      "tensor(9) tensor(18)\n",
      "tensor(9) tensor(18)\n",
      "tensor(9) tensor(18)\n",
      "tensor(9) tensor(18)\n",
      "tensor(9) tensor(18)\n",
      "tensor(9) tensor(18)\n",
      "tensor(9) tensor(18)\n",
      "tensor(9) tensor(18)\n",
      "tensor(9) tensor(18)\n",
      "tensor(9) tensor(18)\n",
      "tensor(9) tensor(18)\n",
      "tensor(9) tensor(18)\n",
      "tensor(9) tensor(18)\n",
      "tensor(9) tensor(18)\n",
      "tensor(9) tensor(18)\n",
      "tensor(9) tensor(18)\n",
      "tensor(9) tensor(18)\n",
      "tensor(9) tensor(18)\n",
      "tensor(9) tensor(18)\n",
      "tensor(9) tensor(18)\n",
      "tensor(9) tensor(18)\n",
      "tensor(9) tensor(18)\n",
      "tensor(9) tensor(18)\n",
      "tensor(9) tensor(18)\n",
      "tensor(9) tensor(18)\n",
      "tensor(9) tensor(18)\n",
      "tensor(9) tensor(18)\n",
      "tensor(9) tensor(18)\n",
      "tensor(9) tensor(18)\n",
      "tensor(9) tensor(18)\n",
      "tensor(9) tensor(18)\n",
      "tensor(9) tensor(18)\n",
      "tensor(9) tensor(18)\n",
      "tensor(9) tensor(18)\n",
      "tensor(9) tensor(18)\n",
      "tensor(9) tensor(18)\n",
      "tensor(9) tensor(18)\n",
      "tensor(9) tensor(18)\n",
      "tensor(9) tensor(18)\n",
      "tensor(9) tensor(18)\n",
      "tensor(9) tensor(18)\n",
      "tensor(9) tensor(18)\n",
      "tensor(9) tensor(18)\n",
      "tensor(9) tensor(18)\n",
      "tensor(9) tensor(18)\n",
      "tensor(9) tensor(18)\n",
      "tensor(9) tensor(18)\n",
      "tensor(9) tensor(18)\n",
      "tensor(9) tensor(18)\n",
      "tensor(9) tensor(18)\n",
      "tensor(9) tensor(18)\n",
      "tensor(9) tensor(18)\n",
      "tensor(9) tensor(18)\n",
      "tensor(9) tensor(18)\n",
      "tensor(9) tensor(18)\n",
      "tensor(9) tensor(18)\n",
      "tensor(9) tensor(18)\n",
      "tensor(9) tensor(18)\n",
      "tensor(9) tensor(18)\n",
      "tensor(9) tensor(18)\n",
      "tensor(9) tensor(18)\n",
      "tensor(9) tensor(18)\n",
      "tensor(9) tensor(18)\n",
      "tensor(9) tensor(18)\n",
      "tensor(9) tensor(18)\n",
      "tensor(9) tensor(18)\n",
      "tensor(9) tensor(18)\n",
      "tensor(9) tensor(18)\n",
      "tensor(9) tensor(18)\n",
      "tensor(9) tensor(18)\n",
      "tensor(9) tensor(18)\n",
      "tensor(9) tensor(18)\n",
      "tensor(9) tensor(18)\n",
      "tensor(9) tensor(18)\n",
      "tensor(9) tensor(18)\n",
      "tensor(9) tensor(18)\n",
      "tensor(9) tensor(18)\n",
      "tensor(9) tensor(18)\n",
      "tensor(9) tensor(18)\n",
      "tensor(9) tensor(18)\n",
      "tensor(9) tensor(18)\n",
      "tensor(9) tensor(18)\n",
      "tensor(9) tensor(18)\n",
      "tensor(9) tensor(18)\n",
      "tensor(9) tensor(18)\n",
      "tensor(9) tensor(18)\n",
      "tensor(9) tensor(18)\n",
      "tensor(9) tensor(18)\n",
      "tensor(9) tensor(18)\n",
      "tensor(9) tensor(18)\n",
      "tensor(9) tensor(18)\n",
      "tensor(9) tensor(18)\n",
      "tensor(9) tensor(18)\n",
      "tensor(9) tensor(18)\n",
      "tensor(9) tensor(18)\n",
      "tensor(9) tensor(18)\n",
      "tensor(9) tensor(18)\n",
      "tensor(9) tensor(18)\n",
      "tensor(9) tensor(18)\n",
      "tensor(9) tensor(18)\n",
      "tensor(9) tensor(18)\n",
      "tensor(9) tensor(18)\n",
      "tensor(9) tensor(18)\n",
      "tensor(9) tensor(18)\n",
      "tensor(9) tensor(18)\n",
      "tensor(9) tensor(18)\n",
      "tensor(9) tensor(18)\n",
      "tensor(9) tensor(18)\n",
      "tensor(9) tensor(18)\n",
      "tensor(9) tensor(18)\n",
      "tensor(9) tensor(18)\n",
      "tensor(9) tensor(18)\n",
      "tensor(9) tensor(18)\n",
      "tensor(9) tensor(18)\n",
      "tensor(9) tensor(18)\n",
      "tensor(9) tensor(18)\n",
      "tensor(9) tensor(18)\n",
      "tensor(9) tensor(18)\n",
      "tensor(9) tensor(18)\n",
      "tensor(9) tensor(18)\n",
      "tensor(9) tensor(18)\n",
      "tensor(9) tensor(18)\n",
      "tensor(9) tensor(18)\n",
      "tensor(9) tensor(18)\n",
      "tensor(9) tensor(18)\n",
      "tensor(9) tensor(18)\n",
      "tensor(9) tensor(18)\n",
      "tensor(9) tensor(18)\n",
      "tensor(9) tensor(18)\n",
      "tensor(9) tensor(18)\n",
      "tensor(9) tensor(18)\n",
      "tensor(9) tensor(18)\n",
      "tensor(9) tensor(18)\n",
      "tensor(9) tensor(18)\n",
      "tensor(9) tensor(18)\n",
      "tensor(9) tensor(18)\n",
      "tensor(9) tensor(18)\n",
      "tensor(9) tensor(18)\n",
      "tensor(9) tensor(18)\n",
      "tensor(9) tensor(18)\n",
      "tensor(9) tensor(18)\n",
      "tensor(9) tensor(18)\n",
      "tensor(9) tensor(18)\n",
      "tensor(9) tensor(18)\n",
      "tensor(9) tensor(18)\n",
      "tensor(9) tensor(18)\n",
      "tensor(9) tensor(18)\n",
      "tensor(9) tensor(18)\n",
      "tensor(9) tensor(18)\n",
      "tensor(9) tensor(18)\n",
      "tensor(9) tensor(18)\n"
     ]
    }
   ],
   "source": [
    "for test_feats in test_feats_simclr :\n",
    "    feats, label = test_feats\n",
    "    output = logistic_model(feats)\n",
    "    print(output.argmax(-1), label)"
   ]
  },
  {
   "cell_type": "code",
   "execution_count": null,
   "metadata": {},
   "outputs": [],
   "source": []
  }
 ],
 "metadata": {
  "kernelspec": {
   "display_name": "Python 3",
   "language": "python",
   "name": "python3"
  },
  "language_info": {
   "codemirror_mode": {
    "name": "ipython",
    "version": 3
   },
   "file_extension": ".py",
   "mimetype": "text/x-python",
   "name": "python",
   "nbconvert_exporter": "python",
   "pygments_lexer": "ipython3",
   "version": "3.10.10"
  },
  "orig_nbformat": 4
 },
 "nbformat": 4,
 "nbformat_minor": 2
}
