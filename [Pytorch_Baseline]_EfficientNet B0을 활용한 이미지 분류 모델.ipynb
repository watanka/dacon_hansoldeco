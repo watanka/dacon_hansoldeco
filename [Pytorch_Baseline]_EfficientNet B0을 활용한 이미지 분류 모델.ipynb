{
 "cells": [
  {
   "attachments": {},
   "cell_type": "markdown",
   "id": "a2bcba5f-002e-4f49-9622-ada6117faf0a",
   "metadata": {},
   "source": [
    "## Import"
   ]
  },
  {
   "cell_type": "code",
   "execution_count": 2,
   "id": "2b0d9b68-7102-4eca-9543-3b9b8acafc6e",
   "metadata": {},
   "outputs": [],
   "source": [
    "import random\n",
    "import pandas as pd\n",
    "import numpy as np\n",
    "import os\n",
    "import re\n",
    "import glob\n",
    "import cv2\n",
    "import matplotlib.pyplot as plt\n",
    "from PIL import Image\n",
    "\n",
    "import torch\n",
    "import torch.nn as nn\n",
    "import torch.optim as optim\n",
    "import torch.nn.functional as F\n",
    "from torch.utils.data import Dataset, DataLoader, WeightedRandomSampler\n",
    "\n",
    "import albumentations as A\n",
    "from albumentations.pytorch.transforms import ToTensorV2\n",
    "import torchvision.models as models\n",
    "\n",
    "from sklearn.model_selection import train_test_split\n",
    "from sklearn import preprocessing\n",
    "from sklearn.metrics import f1_score\n",
    "from sklearn.metrics import classification_report\n",
    "from tqdm.auto import tqdm\n",
    "\n",
    "import warnings\n",
    "warnings.filterwarnings(action='ignore') "
   ]
  },
  {
   "cell_type": "code",
   "execution_count": 3,
   "id": "d13862e3-bb27-47af-9b58-a9fbf804df71",
   "metadata": {},
   "outputs": [],
   "source": [
    "device = torch.device('cuda') if torch.cuda.is_available() else torch.device('cpu')"
   ]
  },
  {
   "attachments": {},
   "cell_type": "markdown",
   "id": "fc7df3f2-62d0-4499-a46e-47d01699def0",
   "metadata": {},
   "source": [
    "## Hyperparameter Setting"
   ]
  },
  {
   "cell_type": "code",
   "execution_count": 4,
   "id": "c3367399-9798-4e38-967b-fd2320b9a2b2",
   "metadata": {},
   "outputs": [],
   "source": [
    "CFG = {\n",
    "    'IMG_SIZE':224,\n",
    "    'EPOCHS':50,\n",
    "    'LEARNING_RATE':3e-4,\n",
    "    'BATCH_SIZE':32,\n",
    "    'SEED':41\n",
    "}"
   ]
  },
  {
   "attachments": {},
   "cell_type": "markdown",
   "id": "4254e860-ff82-43ba-bfa3-fcee4eb3ddbd",
   "metadata": {},
   "source": [
    "## Fixed RandomSeed"
   ]
  },
  {
   "cell_type": "code",
   "execution_count": 5,
   "id": "101a714b-71b6-4475-a4ce-fa5f98bc2731",
   "metadata": {},
   "outputs": [],
   "source": [
    "def seed_everything(seed):\n",
    "    random.seed(seed)\n",
    "    os.environ['PYTHONHASHSEED'] = str(seed)\n",
    "    np.random.seed(seed)\n",
    "    torch.manual_seed(seed)\n",
    "    torch.cuda.manual_seed(seed)\n",
    "    torch.backends.cudnn.deterministic = True\n",
    "    torch.backends.cudnn.benchmark = True\n",
    "\n",
    "seed_everything(CFG['SEED']) # Seed 고정"
   ]
  },
  {
   "attachments": {},
   "cell_type": "markdown",
   "id": "05a4172e-5791-446f-9616-35c09d8bf25a",
   "metadata": {},
   "source": [
    "## Data Pre-processing"
   ]
  },
  {
   "cell_type": "code",
   "execution_count": 6,
   "id": "a62c78cd-4f40-4e98-b8a6-1b6f1d906b4d",
   "metadata": {},
   "outputs": [],
   "source": [
    "all_img_list = glob.glob('train/*/*')\n",
    "# all_img_list = [f.replace(os.sep, '/') for f in all_img_list]"
   ]
  },
  {
   "cell_type": "code",
   "execution_count": 7,
   "id": "b0f518ed",
   "metadata": {},
   "outputs": [
    {
     "data": {
      "text/plain": [
       "['train\\\\가구수정\\\\0.png',\n",
       " 'train\\\\가구수정\\\\1.png',\n",
       " 'train\\\\가구수정\\\\10.png',\n",
       " 'train\\\\가구수정\\\\11.png',\n",
       " 'train\\\\가구수정\\\\2.png',\n",
       " 'train\\\\가구수정\\\\3.png',\n",
       " 'train\\\\가구수정\\\\4.png',\n",
       " 'train\\\\가구수정\\\\5.png',\n",
       " 'train\\\\가구수정\\\\6.png',\n",
       " 'train\\\\가구수정\\\\7.png',\n",
       " 'train\\\\가구수정\\\\8.png',\n",
       " 'train\\\\가구수정\\\\9.png',\n",
       " 'train\\\\걸레받이수정\\\\0.png',\n",
       " 'train\\\\걸레받이수정\\\\1.png',\n",
       " 'train\\\\걸레받이수정\\\\10.png',\n",
       " 'train\\\\걸레받이수정\\\\100.png',\n",
       " 'train\\\\걸레받이수정\\\\101.png',\n",
       " 'train\\\\걸레받이수정\\\\102.png',\n",
       " 'train\\\\걸레받이수정\\\\103.png',\n",
       " 'train\\\\걸레받이수정\\\\104.png',\n",
       " 'train\\\\걸레받이수정\\\\105.png',\n",
       " 'train\\\\걸레받이수정\\\\106.png',\n",
       " 'train\\\\걸레받이수정\\\\107.png',\n",
       " 'train\\\\걸레받이수정\\\\108.png',\n",
       " 'train\\\\걸레받이수정\\\\109.png',\n",
       " 'train\\\\걸레받이수정\\\\11.png',\n",
       " 'train\\\\걸레받이수정\\\\110.png',\n",
       " 'train\\\\걸레받이수정\\\\111.png',\n",
       " 'train\\\\걸레받이수정\\\\112.png',\n",
       " 'train\\\\걸레받이수정\\\\113.png',\n",
       " 'train\\\\걸레받이수정\\\\114.png',\n",
       " 'train\\\\걸레받이수정\\\\115.png',\n",
       " 'train\\\\걸레받이수정\\\\116.png',\n",
       " 'train\\\\걸레받이수정\\\\117.png',\n",
       " 'train\\\\걸레받이수정\\\\118.png',\n",
       " 'train\\\\걸레받이수정\\\\119.png',\n",
       " 'train\\\\걸레받이수정\\\\12.png',\n",
       " 'train\\\\걸레받이수정\\\\120.png',\n",
       " 'train\\\\걸레받이수정\\\\121.png',\n",
       " 'train\\\\걸레받이수정\\\\122.png',\n",
       " 'train\\\\걸레받이수정\\\\123.png',\n",
       " 'train\\\\걸레받이수정\\\\124.png',\n",
       " 'train\\\\걸레받이수정\\\\125.png',\n",
       " 'train\\\\걸레받이수정\\\\126.png',\n",
       " 'train\\\\걸레받이수정\\\\127.png',\n",
       " 'train\\\\걸레받이수정\\\\128.png',\n",
       " 'train\\\\걸레받이수정\\\\129.png',\n",
       " 'train\\\\걸레받이수정\\\\13.png',\n",
       " 'train\\\\걸레받이수정\\\\130.png',\n",
       " 'train\\\\걸레받이수정\\\\131.png',\n",
       " 'train\\\\걸레받이수정\\\\132.png',\n",
       " 'train\\\\걸레받이수정\\\\133.png',\n",
       " 'train\\\\걸레받이수정\\\\134.png',\n",
       " 'train\\\\걸레받이수정\\\\135.png',\n",
       " 'train\\\\걸레받이수정\\\\136.png',\n",
       " 'train\\\\걸레받이수정\\\\137.png',\n",
       " 'train\\\\걸레받이수정\\\\138.png',\n",
       " 'train\\\\걸레받이수정\\\\139.png',\n",
       " 'train\\\\걸레받이수정\\\\14.png',\n",
       " 'train\\\\걸레받이수정\\\\140.png',\n",
       " 'train\\\\걸레받이수정\\\\141.png',\n",
       " 'train\\\\걸레받이수정\\\\142.png',\n",
       " 'train\\\\걸레받이수정\\\\143.png',\n",
       " 'train\\\\걸레받이수정\\\\144.png',\n",
       " 'train\\\\걸레받이수정\\\\145.png',\n",
       " 'train\\\\걸레받이수정\\\\146.png',\n",
       " 'train\\\\걸레받이수정\\\\147.png',\n",
       " 'train\\\\걸레받이수정\\\\148.png',\n",
       " 'train\\\\걸레받이수정\\\\149.png',\n",
       " 'train\\\\걸레받이수정\\\\15.png',\n",
       " 'train\\\\걸레받이수정\\\\150.png',\n",
       " 'train\\\\걸레받이수정\\\\151.png',\n",
       " 'train\\\\걸레받이수정\\\\152.png',\n",
       " 'train\\\\걸레받이수정\\\\153.png',\n",
       " 'train\\\\걸레받이수정\\\\154.png',\n",
       " 'train\\\\걸레받이수정\\\\155.png',\n",
       " 'train\\\\걸레받이수정\\\\156.png',\n",
       " 'train\\\\걸레받이수정\\\\157.png',\n",
       " 'train\\\\걸레받이수정\\\\158.png',\n",
       " 'train\\\\걸레받이수정\\\\159.png',\n",
       " 'train\\\\걸레받이수정\\\\16.png',\n",
       " 'train\\\\걸레받이수정\\\\160.png',\n",
       " 'train\\\\걸레받이수정\\\\161.png',\n",
       " 'train\\\\걸레받이수정\\\\162.png',\n",
       " 'train\\\\걸레받이수정\\\\163.png',\n",
       " 'train\\\\걸레받이수정\\\\164.png',\n",
       " 'train\\\\걸레받이수정\\\\165.png',\n",
       " 'train\\\\걸레받이수정\\\\166.png',\n",
       " 'train\\\\걸레받이수정\\\\167.png',\n",
       " 'train\\\\걸레받이수정\\\\168.png',\n",
       " 'train\\\\걸레받이수정\\\\169.png',\n",
       " 'train\\\\걸레받이수정\\\\17.png',\n",
       " 'train\\\\걸레받이수정\\\\170.png',\n",
       " 'train\\\\걸레받이수정\\\\171.png',\n",
       " 'train\\\\걸레받이수정\\\\172.png',\n",
       " 'train\\\\걸레받이수정\\\\173.png',\n",
       " 'train\\\\걸레받이수정\\\\174.png',\n",
       " 'train\\\\걸레받이수정\\\\175.png',\n",
       " 'train\\\\걸레받이수정\\\\176.png',\n",
       " 'train\\\\걸레받이수정\\\\177.png',\n",
       " 'train\\\\걸레받이수정\\\\178.png',\n",
       " 'train\\\\걸레받이수정\\\\179.png',\n",
       " 'train\\\\걸레받이수정\\\\18.png',\n",
       " 'train\\\\걸레받이수정\\\\180.png',\n",
       " 'train\\\\걸레받이수정\\\\181.png',\n",
       " 'train\\\\걸레받이수정\\\\182.png',\n",
       " 'train\\\\걸레받이수정\\\\183.png',\n",
       " 'train\\\\걸레받이수정\\\\184.png',\n",
       " 'train\\\\걸레받이수정\\\\185.png',\n",
       " 'train\\\\걸레받이수정\\\\186.png',\n",
       " 'train\\\\걸레받이수정\\\\187.png',\n",
       " 'train\\\\걸레받이수정\\\\188.png',\n",
       " 'train\\\\걸레받이수정\\\\189.png',\n",
       " 'train\\\\걸레받이수정\\\\19.png',\n",
       " 'train\\\\걸레받이수정\\\\190.png',\n",
       " 'train\\\\걸레받이수정\\\\191.png',\n",
       " 'train\\\\걸레받이수정\\\\192.png',\n",
       " 'train\\\\걸레받이수정\\\\193.png',\n",
       " 'train\\\\걸레받이수정\\\\194.png',\n",
       " 'train\\\\걸레받이수정\\\\195.png',\n",
       " 'train\\\\걸레받이수정\\\\196.png',\n",
       " 'train\\\\걸레받이수정\\\\197.png',\n",
       " 'train\\\\걸레받이수정\\\\198.png',\n",
       " 'train\\\\걸레받이수정\\\\199.png',\n",
       " 'train\\\\걸레받이수정\\\\2.png',\n",
       " 'train\\\\걸레받이수정\\\\20.png',\n",
       " 'train\\\\걸레받이수정\\\\200.png',\n",
       " 'train\\\\걸레받이수정\\\\201.png',\n",
       " 'train\\\\걸레받이수정\\\\202.png',\n",
       " 'train\\\\걸레받이수정\\\\203.png',\n",
       " 'train\\\\걸레받이수정\\\\204.png',\n",
       " 'train\\\\걸레받이수정\\\\205.png',\n",
       " 'train\\\\걸레받이수정\\\\206.png',\n",
       " 'train\\\\걸레받이수정\\\\207.png',\n",
       " 'train\\\\걸레받이수정\\\\208.png',\n",
       " 'train\\\\걸레받이수정\\\\209.png',\n",
       " 'train\\\\걸레받이수정\\\\21.png',\n",
       " 'train\\\\걸레받이수정\\\\210.png',\n",
       " 'train\\\\걸레받이수정\\\\211.png',\n",
       " 'train\\\\걸레받이수정\\\\212.png',\n",
       " 'train\\\\걸레받이수정\\\\213.png',\n",
       " 'train\\\\걸레받이수정\\\\214.png',\n",
       " 'train\\\\걸레받이수정\\\\215.png',\n",
       " 'train\\\\걸레받이수정\\\\216.png',\n",
       " 'train\\\\걸레받이수정\\\\217.png',\n",
       " 'train\\\\걸레받이수정\\\\218.png',\n",
       " 'train\\\\걸레받이수정\\\\219.png',\n",
       " 'train\\\\걸레받이수정\\\\22.png',\n",
       " 'train\\\\걸레받이수정\\\\220.png',\n",
       " 'train\\\\걸레받이수정\\\\221.png',\n",
       " 'train\\\\걸레받이수정\\\\222.png',\n",
       " 'train\\\\걸레받이수정\\\\223.png',\n",
       " 'train\\\\걸레받이수정\\\\224.png',\n",
       " 'train\\\\걸레받이수정\\\\225.png',\n",
       " 'train\\\\걸레받이수정\\\\226.png',\n",
       " 'train\\\\걸레받이수정\\\\227.png',\n",
       " 'train\\\\걸레받이수정\\\\228.png',\n",
       " 'train\\\\걸레받이수정\\\\229.png',\n",
       " 'train\\\\걸레받이수정\\\\23.png',\n",
       " 'train\\\\걸레받이수정\\\\230.png',\n",
       " 'train\\\\걸레받이수정\\\\231.png',\n",
       " 'train\\\\걸레받이수정\\\\232.png',\n",
       " 'train\\\\걸레받이수정\\\\233.png',\n",
       " 'train\\\\걸레받이수정\\\\234.png',\n",
       " 'train\\\\걸레받이수정\\\\235.png',\n",
       " 'train\\\\걸레받이수정\\\\236.png',\n",
       " 'train\\\\걸레받이수정\\\\237.png',\n",
       " 'train\\\\걸레받이수정\\\\238.png',\n",
       " 'train\\\\걸레받이수정\\\\239.png',\n",
       " 'train\\\\걸레받이수정\\\\24.png',\n",
       " 'train\\\\걸레받이수정\\\\240.png',\n",
       " 'train\\\\걸레받이수정\\\\241.png',\n",
       " 'train\\\\걸레받이수정\\\\242.png',\n",
       " 'train\\\\걸레받이수정\\\\243.png',\n",
       " 'train\\\\걸레받이수정\\\\244.png',\n",
       " 'train\\\\걸레받이수정\\\\245.png',\n",
       " 'train\\\\걸레받이수정\\\\246.png',\n",
       " 'train\\\\걸레받이수정\\\\247.png',\n",
       " 'train\\\\걸레받이수정\\\\248.png',\n",
       " 'train\\\\걸레받이수정\\\\249.png',\n",
       " 'train\\\\걸레받이수정\\\\25.png',\n",
       " 'train\\\\걸레받이수정\\\\250.png',\n",
       " 'train\\\\걸레받이수정\\\\251.png',\n",
       " 'train\\\\걸레받이수정\\\\252.png',\n",
       " 'train\\\\걸레받이수정\\\\253.png',\n",
       " 'train\\\\걸레받이수정\\\\254.png',\n",
       " 'train\\\\걸레받이수정\\\\255.png',\n",
       " 'train\\\\걸레받이수정\\\\256.png',\n",
       " 'train\\\\걸레받이수정\\\\257.png',\n",
       " 'train\\\\걸레받이수정\\\\258.png',\n",
       " 'train\\\\걸레받이수정\\\\259.png',\n",
       " 'train\\\\걸레받이수정\\\\26.png',\n",
       " 'train\\\\걸레받이수정\\\\260.png',\n",
       " 'train\\\\걸레받이수정\\\\261.png',\n",
       " 'train\\\\걸레받이수정\\\\262.png',\n",
       " 'train\\\\걸레받이수정\\\\263.png',\n",
       " 'train\\\\걸레받이수정\\\\264.png',\n",
       " 'train\\\\걸레받이수정\\\\265.png',\n",
       " 'train\\\\걸레받이수정\\\\266.png',\n",
       " 'train\\\\걸레받이수정\\\\267.png',\n",
       " 'train\\\\걸레받이수정\\\\268.png',\n",
       " 'train\\\\걸레받이수정\\\\269.png',\n",
       " 'train\\\\걸레받이수정\\\\27.png',\n",
       " 'train\\\\걸레받이수정\\\\270.png',\n",
       " 'train\\\\걸레받이수정\\\\271.png',\n",
       " 'train\\\\걸레받이수정\\\\272.png',\n",
       " 'train\\\\걸레받이수정\\\\273.png',\n",
       " 'train\\\\걸레받이수정\\\\274.png',\n",
       " 'train\\\\걸레받이수정\\\\275.png',\n",
       " 'train\\\\걸레받이수정\\\\276.png',\n",
       " 'train\\\\걸레받이수정\\\\277.png',\n",
       " 'train\\\\걸레받이수정\\\\278.png',\n",
       " 'train\\\\걸레받이수정\\\\279.png',\n",
       " 'train\\\\걸레받이수정\\\\28.png',\n",
       " 'train\\\\걸레받이수정\\\\280.png',\n",
       " 'train\\\\걸레받이수정\\\\281.png',\n",
       " 'train\\\\걸레받이수정\\\\282.png',\n",
       " 'train\\\\걸레받이수정\\\\283.png',\n",
       " 'train\\\\걸레받이수정\\\\284.png',\n",
       " 'train\\\\걸레받이수정\\\\285.png',\n",
       " 'train\\\\걸레받이수정\\\\286.png',\n",
       " 'train\\\\걸레받이수정\\\\287.png',\n",
       " 'train\\\\걸레받이수정\\\\288.png',\n",
       " 'train\\\\걸레받이수정\\\\289.png',\n",
       " 'train\\\\걸레받이수정\\\\29.png',\n",
       " 'train\\\\걸레받이수정\\\\290.png',\n",
       " 'train\\\\걸레받이수정\\\\291.png',\n",
       " 'train\\\\걸레받이수정\\\\292.png',\n",
       " 'train\\\\걸레받이수정\\\\293.png',\n",
       " 'train\\\\걸레받이수정\\\\294.png',\n",
       " 'train\\\\걸레받이수정\\\\295.png',\n",
       " 'train\\\\걸레받이수정\\\\296.png',\n",
       " 'train\\\\걸레받이수정\\\\297.png',\n",
       " 'train\\\\걸레받이수정\\\\298.png',\n",
       " 'train\\\\걸레받이수정\\\\299.png',\n",
       " 'train\\\\걸레받이수정\\\\3.png',\n",
       " 'train\\\\걸레받이수정\\\\30.png',\n",
       " 'train\\\\걸레받이수정\\\\300.png',\n",
       " 'train\\\\걸레받이수정\\\\301.png',\n",
       " 'train\\\\걸레받이수정\\\\302.png',\n",
       " 'train\\\\걸레받이수정\\\\303.png',\n",
       " 'train\\\\걸레받이수정\\\\304.png',\n",
       " 'train\\\\걸레받이수정\\\\305.png',\n",
       " 'train\\\\걸레받이수정\\\\306.png',\n",
       " 'train\\\\걸레받이수정\\\\31.png',\n",
       " 'train\\\\걸레받이수정\\\\32.png',\n",
       " 'train\\\\걸레받이수정\\\\33.png',\n",
       " 'train\\\\걸레받이수정\\\\34.png',\n",
       " 'train\\\\걸레받이수정\\\\35.png',\n",
       " 'train\\\\걸레받이수정\\\\36.png',\n",
       " 'train\\\\걸레받이수정\\\\37.png',\n",
       " 'train\\\\걸레받이수정\\\\38.png',\n",
       " 'train\\\\걸레받이수정\\\\39.png',\n",
       " 'train\\\\걸레받이수정\\\\4.png',\n",
       " 'train\\\\걸레받이수정\\\\40.png',\n",
       " 'train\\\\걸레받이수정\\\\41.png',\n",
       " 'train\\\\걸레받이수정\\\\42.png',\n",
       " 'train\\\\걸레받이수정\\\\43.png',\n",
       " 'train\\\\걸레받이수정\\\\44.png',\n",
       " 'train\\\\걸레받이수정\\\\45.png',\n",
       " 'train\\\\걸레받이수정\\\\46.png',\n",
       " 'train\\\\걸레받이수정\\\\47.png',\n",
       " 'train\\\\걸레받이수정\\\\48.png',\n",
       " 'train\\\\걸레받이수정\\\\49.png',\n",
       " 'train\\\\걸레받이수정\\\\5.png',\n",
       " 'train\\\\걸레받이수정\\\\50.png',\n",
       " 'train\\\\걸레받이수정\\\\51.png',\n",
       " 'train\\\\걸레받이수정\\\\52.png',\n",
       " 'train\\\\걸레받이수정\\\\53.png',\n",
       " 'train\\\\걸레받이수정\\\\54.png',\n",
       " 'train\\\\걸레받이수정\\\\55.png',\n",
       " 'train\\\\걸레받이수정\\\\56.png',\n",
       " 'train\\\\걸레받이수정\\\\57.png',\n",
       " 'train\\\\걸레받이수정\\\\58.png',\n",
       " 'train\\\\걸레받이수정\\\\59.png',\n",
       " 'train\\\\걸레받이수정\\\\6.png',\n",
       " 'train\\\\걸레받이수정\\\\60.png',\n",
       " 'train\\\\걸레받이수정\\\\61.png',\n",
       " 'train\\\\걸레받이수정\\\\62.png',\n",
       " 'train\\\\걸레받이수정\\\\63.png',\n",
       " 'train\\\\걸레받이수정\\\\64.png',\n",
       " 'train\\\\걸레받이수정\\\\65.png',\n",
       " 'train\\\\걸레받이수정\\\\66.png',\n",
       " 'train\\\\걸레받이수정\\\\67.png',\n",
       " 'train\\\\걸레받이수정\\\\68.png',\n",
       " 'train\\\\걸레받이수정\\\\69.png',\n",
       " 'train\\\\걸레받이수정\\\\7.png',\n",
       " 'train\\\\걸레받이수정\\\\70.png',\n",
       " 'train\\\\걸레받이수정\\\\71.png',\n",
       " 'train\\\\걸레받이수정\\\\72.png',\n",
       " 'train\\\\걸레받이수정\\\\73.png',\n",
       " 'train\\\\걸레받이수정\\\\74.png',\n",
       " 'train\\\\걸레받이수정\\\\75.png',\n",
       " 'train\\\\걸레받이수정\\\\76.png',\n",
       " 'train\\\\걸레받이수정\\\\77.png',\n",
       " 'train\\\\걸레받이수정\\\\78.png',\n",
       " 'train\\\\걸레받이수정\\\\79.png',\n",
       " 'train\\\\걸레받이수정\\\\8.png',\n",
       " 'train\\\\걸레받이수정\\\\80.png',\n",
       " 'train\\\\걸레받이수정\\\\81.png',\n",
       " 'train\\\\걸레받이수정\\\\82.png',\n",
       " 'train\\\\걸레받이수정\\\\83.png',\n",
       " 'train\\\\걸레받이수정\\\\84.png',\n",
       " 'train\\\\걸레받이수정\\\\85.png',\n",
       " 'train\\\\걸레받이수정\\\\86.png',\n",
       " 'train\\\\걸레받이수정\\\\87.png',\n",
       " 'train\\\\걸레받이수정\\\\88.png',\n",
       " 'train\\\\걸레받이수정\\\\89.png',\n",
       " 'train\\\\걸레받이수정\\\\9.png',\n",
       " 'train\\\\걸레받이수정\\\\90.png',\n",
       " 'train\\\\걸레받이수정\\\\91.png',\n",
       " 'train\\\\걸레받이수정\\\\92.png',\n",
       " 'train\\\\걸레받이수정\\\\93.png',\n",
       " 'train\\\\걸레받이수정\\\\94.png',\n",
       " 'train\\\\걸레받이수정\\\\95.png',\n",
       " 'train\\\\걸레받이수정\\\\96.png',\n",
       " 'train\\\\걸레받이수정\\\\97.png',\n",
       " 'train\\\\걸레받이수정\\\\98.png',\n",
       " 'train\\\\걸레받이수정\\\\99.png',\n",
       " 'train\\\\곰팡이\\\\0.png',\n",
       " 'train\\\\곰팡이\\\\1.png',\n",
       " 'train\\\\곰팡이\\\\10.png',\n",
       " 'train\\\\곰팡이\\\\100.png',\n",
       " 'train\\\\곰팡이\\\\101.png',\n",
       " 'train\\\\곰팡이\\\\102.png',\n",
       " 'train\\\\곰팡이\\\\103.png',\n",
       " 'train\\\\곰팡이\\\\104.png',\n",
       " 'train\\\\곰팡이\\\\105.png',\n",
       " 'train\\\\곰팡이\\\\106.png',\n",
       " 'train\\\\곰팡이\\\\107.png',\n",
       " 'train\\\\곰팡이\\\\108.png',\n",
       " 'train\\\\곰팡이\\\\109.png',\n",
       " 'train\\\\곰팡이\\\\11.png',\n",
       " 'train\\\\곰팡이\\\\110.png',\n",
       " 'train\\\\곰팡이\\\\111.png',\n",
       " 'train\\\\곰팡이\\\\112.png',\n",
       " 'train\\\\곰팡이\\\\113.png',\n",
       " 'train\\\\곰팡이\\\\114.png',\n",
       " 'train\\\\곰팡이\\\\115.png',\n",
       " 'train\\\\곰팡이\\\\116.png',\n",
       " 'train\\\\곰팡이\\\\117.png',\n",
       " 'train\\\\곰팡이\\\\118.png',\n",
       " 'train\\\\곰팡이\\\\119.png',\n",
       " 'train\\\\곰팡이\\\\12.png',\n",
       " 'train\\\\곰팡이\\\\120.png',\n",
       " 'train\\\\곰팡이\\\\121.png',\n",
       " 'train\\\\곰팡이\\\\122.png',\n",
       " 'train\\\\곰팡이\\\\123.png',\n",
       " 'train\\\\곰팡이\\\\124.png',\n",
       " 'train\\\\곰팡이\\\\125.png',\n",
       " 'train\\\\곰팡이\\\\126.png',\n",
       " 'train\\\\곰팡이\\\\127.png',\n",
       " 'train\\\\곰팡이\\\\128.png',\n",
       " 'train\\\\곰팡이\\\\129.png',\n",
       " 'train\\\\곰팡이\\\\13.png',\n",
       " 'train\\\\곰팡이\\\\130.png',\n",
       " 'train\\\\곰팡이\\\\131.png',\n",
       " 'train\\\\곰팡이\\\\132.png',\n",
       " 'train\\\\곰팡이\\\\133.png',\n",
       " 'train\\\\곰팡이\\\\134.png',\n",
       " 'train\\\\곰팡이\\\\135.png',\n",
       " 'train\\\\곰팡이\\\\136.png',\n",
       " 'train\\\\곰팡이\\\\137.png',\n",
       " 'train\\\\곰팡이\\\\138.png',\n",
       " 'train\\\\곰팡이\\\\139.png',\n",
       " 'train\\\\곰팡이\\\\14.png',\n",
       " 'train\\\\곰팡이\\\\140.png',\n",
       " 'train\\\\곰팡이\\\\141.png',\n",
       " 'train\\\\곰팡이\\\\142.png',\n",
       " 'train\\\\곰팡이\\\\143.png',\n",
       " 'train\\\\곰팡이\\\\144.png',\n",
       " 'train\\\\곰팡이\\\\15.png',\n",
       " 'train\\\\곰팡이\\\\16.png',\n",
       " 'train\\\\곰팡이\\\\17.png',\n",
       " 'train\\\\곰팡이\\\\18.png',\n",
       " 'train\\\\곰팡이\\\\19.png',\n",
       " 'train\\\\곰팡이\\\\2.png',\n",
       " 'train\\\\곰팡이\\\\20.png',\n",
       " 'train\\\\곰팡이\\\\21.png',\n",
       " 'train\\\\곰팡이\\\\22.png',\n",
       " 'train\\\\곰팡이\\\\23.png',\n",
       " 'train\\\\곰팡이\\\\24.png',\n",
       " 'train\\\\곰팡이\\\\25.png',\n",
       " 'train\\\\곰팡이\\\\26.png',\n",
       " 'train\\\\곰팡이\\\\27.png',\n",
       " 'train\\\\곰팡이\\\\28.png',\n",
       " 'train\\\\곰팡이\\\\29.png',\n",
       " 'train\\\\곰팡이\\\\3.png',\n",
       " 'train\\\\곰팡이\\\\30.png',\n",
       " 'train\\\\곰팡이\\\\31.png',\n",
       " 'train\\\\곰팡이\\\\32.png',\n",
       " 'train\\\\곰팡이\\\\33.png',\n",
       " 'train\\\\곰팡이\\\\34.png',\n",
       " 'train\\\\곰팡이\\\\35.png',\n",
       " 'train\\\\곰팡이\\\\36.png',\n",
       " 'train\\\\곰팡이\\\\37.png',\n",
       " 'train\\\\곰팡이\\\\38.png',\n",
       " 'train\\\\곰팡이\\\\39.png',\n",
       " 'train\\\\곰팡이\\\\4.png',\n",
       " 'train\\\\곰팡이\\\\40.png',\n",
       " 'train\\\\곰팡이\\\\41.png',\n",
       " 'train\\\\곰팡이\\\\42.png',\n",
       " 'train\\\\곰팡이\\\\43.png',\n",
       " 'train\\\\곰팡이\\\\44.png',\n",
       " 'train\\\\곰팡이\\\\45.png',\n",
       " 'train\\\\곰팡이\\\\46.png',\n",
       " 'train\\\\곰팡이\\\\47.png',\n",
       " 'train\\\\곰팡이\\\\48.png',\n",
       " 'train\\\\곰팡이\\\\49.png',\n",
       " 'train\\\\곰팡이\\\\5.png',\n",
       " 'train\\\\곰팡이\\\\50.png',\n",
       " 'train\\\\곰팡이\\\\51.png',\n",
       " 'train\\\\곰팡이\\\\52.png',\n",
       " 'train\\\\곰팡이\\\\53.png',\n",
       " 'train\\\\곰팡이\\\\54.png',\n",
       " 'train\\\\곰팡이\\\\55.png',\n",
       " 'train\\\\곰팡이\\\\56.png',\n",
       " 'train\\\\곰팡이\\\\57.png',\n",
       " 'train\\\\곰팡이\\\\58.png',\n",
       " 'train\\\\곰팡이\\\\59.png',\n",
       " 'train\\\\곰팡이\\\\6.png',\n",
       " 'train\\\\곰팡이\\\\60.png',\n",
       " 'train\\\\곰팡이\\\\61.png',\n",
       " 'train\\\\곰팡이\\\\62.png',\n",
       " 'train\\\\곰팡이\\\\63.png',\n",
       " 'train\\\\곰팡이\\\\64.png',\n",
       " 'train\\\\곰팡이\\\\65.png',\n",
       " 'train\\\\곰팡이\\\\66.png',\n",
       " 'train\\\\곰팡이\\\\67.png',\n",
       " 'train\\\\곰팡이\\\\68.png',\n",
       " 'train\\\\곰팡이\\\\69.png',\n",
       " 'train\\\\곰팡이\\\\7.png',\n",
       " 'train\\\\곰팡이\\\\70.png',\n",
       " 'train\\\\곰팡이\\\\71.png',\n",
       " 'train\\\\곰팡이\\\\72.png',\n",
       " 'train\\\\곰팡이\\\\73.png',\n",
       " 'train\\\\곰팡이\\\\74.png',\n",
       " 'train\\\\곰팡이\\\\75.png',\n",
       " 'train\\\\곰팡이\\\\76.png',\n",
       " 'train\\\\곰팡이\\\\77.png',\n",
       " 'train\\\\곰팡이\\\\78.png',\n",
       " 'train\\\\곰팡이\\\\79.png',\n",
       " 'train\\\\곰팡이\\\\8.png',\n",
       " 'train\\\\곰팡이\\\\80.png',\n",
       " 'train\\\\곰팡이\\\\81.png',\n",
       " 'train\\\\곰팡이\\\\82.png',\n",
       " 'train\\\\곰팡이\\\\83.png',\n",
       " 'train\\\\곰팡이\\\\84.png',\n",
       " 'train\\\\곰팡이\\\\85.png',\n",
       " 'train\\\\곰팡이\\\\86.png',\n",
       " 'train\\\\곰팡이\\\\87.png',\n",
       " 'train\\\\곰팡이\\\\88.png',\n",
       " 'train\\\\곰팡이\\\\89.png',\n",
       " 'train\\\\곰팡이\\\\9.png',\n",
       " 'train\\\\곰팡이\\\\90.png',\n",
       " 'train\\\\곰팡이\\\\91.png',\n",
       " 'train\\\\곰팡이\\\\92.png',\n",
       " 'train\\\\곰팡이\\\\93.png',\n",
       " 'train\\\\곰팡이\\\\94.png',\n",
       " 'train\\\\곰팡이\\\\95.png',\n",
       " 'train\\\\곰팡이\\\\96.png',\n",
       " 'train\\\\곰팡이\\\\97.png',\n",
       " 'train\\\\곰팡이\\\\98.png',\n",
       " 'train\\\\곰팡이\\\\99.png',\n",
       " 'train\\\\꼬임\\\\0.png',\n",
       " 'train\\\\꼬임\\\\1.png',\n",
       " 'train\\\\꼬임\\\\10.png',\n",
       " 'train\\\\꼬임\\\\100.png',\n",
       " 'train\\\\꼬임\\\\101.png',\n",
       " 'train\\\\꼬임\\\\102.png',\n",
       " 'train\\\\꼬임\\\\103.png',\n",
       " 'train\\\\꼬임\\\\104.png',\n",
       " 'train\\\\꼬임\\\\105.png',\n",
       " 'train\\\\꼬임\\\\106.png',\n",
       " 'train\\\\꼬임\\\\107.png',\n",
       " 'train\\\\꼬임\\\\108.png',\n",
       " 'train\\\\꼬임\\\\109.png',\n",
       " 'train\\\\꼬임\\\\11.png',\n",
       " 'train\\\\꼬임\\\\110.png',\n",
       " 'train\\\\꼬임\\\\111.png',\n",
       " 'train\\\\꼬임\\\\112.png',\n",
       " 'train\\\\꼬임\\\\113.png',\n",
       " 'train\\\\꼬임\\\\114.png',\n",
       " 'train\\\\꼬임\\\\115.png',\n",
       " 'train\\\\꼬임\\\\116.png',\n",
       " 'train\\\\꼬임\\\\117.png',\n",
       " 'train\\\\꼬임\\\\118.png',\n",
       " 'train\\\\꼬임\\\\119.png',\n",
       " 'train\\\\꼬임\\\\12.png',\n",
       " 'train\\\\꼬임\\\\120.png',\n",
       " 'train\\\\꼬임\\\\121.png',\n",
       " 'train\\\\꼬임\\\\122.png',\n",
       " 'train\\\\꼬임\\\\123.png',\n",
       " 'train\\\\꼬임\\\\124.png',\n",
       " 'train\\\\꼬임\\\\125.png',\n",
       " 'train\\\\꼬임\\\\126.png',\n",
       " 'train\\\\꼬임\\\\127.png',\n",
       " 'train\\\\꼬임\\\\128.png',\n",
       " 'train\\\\꼬임\\\\129.png',\n",
       " 'train\\\\꼬임\\\\13.png',\n",
       " 'train\\\\꼬임\\\\130.png',\n",
       " 'train\\\\꼬임\\\\131.png',\n",
       " 'train\\\\꼬임\\\\132.png',\n",
       " 'train\\\\꼬임\\\\133.png',\n",
       " 'train\\\\꼬임\\\\134.png',\n",
       " 'train\\\\꼬임\\\\135.png',\n",
       " 'train\\\\꼬임\\\\136.png',\n",
       " 'train\\\\꼬임\\\\137.png',\n",
       " 'train\\\\꼬임\\\\138.png',\n",
       " 'train\\\\꼬임\\\\139.png',\n",
       " 'train\\\\꼬임\\\\14.png',\n",
       " 'train\\\\꼬임\\\\140.png',\n",
       " 'train\\\\꼬임\\\\141.png',\n",
       " 'train\\\\꼬임\\\\142.png',\n",
       " 'train\\\\꼬임\\\\143.png',\n",
       " 'train\\\\꼬임\\\\144.png',\n",
       " 'train\\\\꼬임\\\\145.png',\n",
       " 'train\\\\꼬임\\\\146.png',\n",
       " 'train\\\\꼬임\\\\147.png',\n",
       " 'train\\\\꼬임\\\\148.png',\n",
       " 'train\\\\꼬임\\\\149.png',\n",
       " 'train\\\\꼬임\\\\15.png',\n",
       " 'train\\\\꼬임\\\\150.png',\n",
       " 'train\\\\꼬임\\\\151.png',\n",
       " 'train\\\\꼬임\\\\152.png',\n",
       " 'train\\\\꼬임\\\\153.png',\n",
       " 'train\\\\꼬임\\\\154.png',\n",
       " 'train\\\\꼬임\\\\155.png',\n",
       " 'train\\\\꼬임\\\\156.png',\n",
       " 'train\\\\꼬임\\\\157.png',\n",
       " 'train\\\\꼬임\\\\158.png',\n",
       " 'train\\\\꼬임\\\\159.png',\n",
       " 'train\\\\꼬임\\\\16.png',\n",
       " 'train\\\\꼬임\\\\160.png',\n",
       " 'train\\\\꼬임\\\\161.png',\n",
       " 'train\\\\꼬임\\\\162.png',\n",
       " 'train\\\\꼬임\\\\163.png',\n",
       " 'train\\\\꼬임\\\\164.png',\n",
       " 'train\\\\꼬임\\\\165.png',\n",
       " 'train\\\\꼬임\\\\166.png',\n",
       " 'train\\\\꼬임\\\\167.png',\n",
       " 'train\\\\꼬임\\\\168.png',\n",
       " 'train\\\\꼬임\\\\169.png',\n",
       " 'train\\\\꼬임\\\\17.png',\n",
       " 'train\\\\꼬임\\\\170.png',\n",
       " 'train\\\\꼬임\\\\171.png',\n",
       " 'train\\\\꼬임\\\\172.png',\n",
       " 'train\\\\꼬임\\\\173.png',\n",
       " 'train\\\\꼬임\\\\174.png',\n",
       " 'train\\\\꼬임\\\\175.png',\n",
       " 'train\\\\꼬임\\\\176.png',\n",
       " 'train\\\\꼬임\\\\177.png',\n",
       " 'train\\\\꼬임\\\\178.png',\n",
       " 'train\\\\꼬임\\\\179.png',\n",
       " 'train\\\\꼬임\\\\18.png',\n",
       " 'train\\\\꼬임\\\\180.png',\n",
       " 'train\\\\꼬임\\\\181.png',\n",
       " 'train\\\\꼬임\\\\182.png',\n",
       " 'train\\\\꼬임\\\\183.png',\n",
       " 'train\\\\꼬임\\\\184.png',\n",
       " 'train\\\\꼬임\\\\185.png',\n",
       " 'train\\\\꼬임\\\\186.png',\n",
       " 'train\\\\꼬임\\\\187.png',\n",
       " 'train\\\\꼬임\\\\188.png',\n",
       " 'train\\\\꼬임\\\\189.png',\n",
       " 'train\\\\꼬임\\\\19.png',\n",
       " 'train\\\\꼬임\\\\190.png',\n",
       " 'train\\\\꼬임\\\\191.png',\n",
       " 'train\\\\꼬임\\\\192.png',\n",
       " 'train\\\\꼬임\\\\193.png',\n",
       " 'train\\\\꼬임\\\\194.png',\n",
       " 'train\\\\꼬임\\\\195.png',\n",
       " 'train\\\\꼬임\\\\196.png',\n",
       " 'train\\\\꼬임\\\\197.png',\n",
       " 'train\\\\꼬임\\\\198.png',\n",
       " 'train\\\\꼬임\\\\199.png',\n",
       " 'train\\\\꼬임\\\\2.png',\n",
       " 'train\\\\꼬임\\\\20.png',\n",
       " 'train\\\\꼬임\\\\200.png',\n",
       " 'train\\\\꼬임\\\\201.png',\n",
       " 'train\\\\꼬임\\\\202.png',\n",
       " 'train\\\\꼬임\\\\203.png',\n",
       " 'train\\\\꼬임\\\\204.png',\n",
       " 'train\\\\꼬임\\\\205.png',\n",
       " 'train\\\\꼬임\\\\206.png',\n",
       " 'train\\\\꼬임\\\\207.png',\n",
       " 'train\\\\꼬임\\\\208.png',\n",
       " 'train\\\\꼬임\\\\209.png',\n",
       " 'train\\\\꼬임\\\\21.png',\n",
       " 'train\\\\꼬임\\\\22.png',\n",
       " 'train\\\\꼬임\\\\23.png',\n",
       " 'train\\\\꼬임\\\\24.png',\n",
       " 'train\\\\꼬임\\\\25.png',\n",
       " 'train\\\\꼬임\\\\26.png',\n",
       " 'train\\\\꼬임\\\\27.png',\n",
       " 'train\\\\꼬임\\\\28.png',\n",
       " 'train\\\\꼬임\\\\29.png',\n",
       " 'train\\\\꼬임\\\\3.png',\n",
       " 'train\\\\꼬임\\\\30.png',\n",
       " 'train\\\\꼬임\\\\31.png',\n",
       " 'train\\\\꼬임\\\\32.png',\n",
       " 'train\\\\꼬임\\\\33.png',\n",
       " 'train\\\\꼬임\\\\34.png',\n",
       " 'train\\\\꼬임\\\\35.png',\n",
       " 'train\\\\꼬임\\\\36.png',\n",
       " 'train\\\\꼬임\\\\37.png',\n",
       " 'train\\\\꼬임\\\\38.png',\n",
       " 'train\\\\꼬임\\\\39.png',\n",
       " 'train\\\\꼬임\\\\4.png',\n",
       " 'train\\\\꼬임\\\\40.png',\n",
       " 'train\\\\꼬임\\\\41.png',\n",
       " 'train\\\\꼬임\\\\42.png',\n",
       " 'train\\\\꼬임\\\\43.png',\n",
       " 'train\\\\꼬임\\\\44.png',\n",
       " 'train\\\\꼬임\\\\45.png',\n",
       " 'train\\\\꼬임\\\\46.png',\n",
       " 'train\\\\꼬임\\\\47.png',\n",
       " 'train\\\\꼬임\\\\48.png',\n",
       " 'train\\\\꼬임\\\\49.png',\n",
       " 'train\\\\꼬임\\\\5.png',\n",
       " 'train\\\\꼬임\\\\50.png',\n",
       " 'train\\\\꼬임\\\\51.png',\n",
       " 'train\\\\꼬임\\\\52.png',\n",
       " 'train\\\\꼬임\\\\53.png',\n",
       " 'train\\\\꼬임\\\\54.png',\n",
       " 'train\\\\꼬임\\\\55.png',\n",
       " 'train\\\\꼬임\\\\56.png',\n",
       " 'train\\\\꼬임\\\\57.png',\n",
       " 'train\\\\꼬임\\\\58.png',\n",
       " 'train\\\\꼬임\\\\59.png',\n",
       " 'train\\\\꼬임\\\\6.png',\n",
       " 'train\\\\꼬임\\\\60.png',\n",
       " 'train\\\\꼬임\\\\61.png',\n",
       " 'train\\\\꼬임\\\\62.png',\n",
       " 'train\\\\꼬임\\\\63.png',\n",
       " 'train\\\\꼬임\\\\64.png',\n",
       " 'train\\\\꼬임\\\\65.png',\n",
       " 'train\\\\꼬임\\\\66.png',\n",
       " 'train\\\\꼬임\\\\67.png',\n",
       " 'train\\\\꼬임\\\\68.png',\n",
       " 'train\\\\꼬임\\\\69.png',\n",
       " 'train\\\\꼬임\\\\7.png',\n",
       " 'train\\\\꼬임\\\\70.png',\n",
       " 'train\\\\꼬임\\\\71.png',\n",
       " 'train\\\\꼬임\\\\72.png',\n",
       " 'train\\\\꼬임\\\\73.png',\n",
       " 'train\\\\꼬임\\\\74.png',\n",
       " 'train\\\\꼬임\\\\75.png',\n",
       " 'train\\\\꼬임\\\\76.png',\n",
       " 'train\\\\꼬임\\\\77.png',\n",
       " 'train\\\\꼬임\\\\78.png',\n",
       " 'train\\\\꼬임\\\\79.png',\n",
       " 'train\\\\꼬임\\\\8.png',\n",
       " 'train\\\\꼬임\\\\80.png',\n",
       " 'train\\\\꼬임\\\\81.png',\n",
       " 'train\\\\꼬임\\\\82.png',\n",
       " 'train\\\\꼬임\\\\83.png',\n",
       " 'train\\\\꼬임\\\\84.png',\n",
       " 'train\\\\꼬임\\\\85.png',\n",
       " 'train\\\\꼬임\\\\86.png',\n",
       " 'train\\\\꼬임\\\\87.png',\n",
       " 'train\\\\꼬임\\\\88.png',\n",
       " 'train\\\\꼬임\\\\89.png',\n",
       " 'train\\\\꼬임\\\\9.png',\n",
       " 'train\\\\꼬임\\\\90.png',\n",
       " 'train\\\\꼬임\\\\91.png',\n",
       " 'train\\\\꼬임\\\\92.png',\n",
       " 'train\\\\꼬임\\\\93.png',\n",
       " 'train\\\\꼬임\\\\94.png',\n",
       " 'train\\\\꼬임\\\\95.png',\n",
       " 'train\\\\꼬임\\\\96.png',\n",
       " 'train\\\\꼬임\\\\97.png',\n",
       " 'train\\\\꼬임\\\\98.png',\n",
       " 'train\\\\꼬임\\\\99.png',\n",
       " 'train\\\\녹오염\\\\0.png',\n",
       " 'train\\\\녹오염\\\\1.png',\n",
       " 'train\\\\녹오염\\\\10.png',\n",
       " 'train\\\\녹오염\\\\11.png',\n",
       " 'train\\\\녹오염\\\\12.png',\n",
       " 'train\\\\녹오염\\\\13.png',\n",
       " 'train\\\\녹오염\\\\2.png',\n",
       " 'train\\\\녹오염\\\\3.png',\n",
       " 'train\\\\녹오염\\\\4.png',\n",
       " 'train\\\\녹오염\\\\5.png',\n",
       " 'train\\\\녹오염\\\\6.png',\n",
       " 'train\\\\녹오염\\\\7.png',\n",
       " 'train\\\\녹오염\\\\8.png',\n",
       " 'train\\\\녹오염\\\\9.png',\n",
       " 'train\\\\들뜸\\\\0.png',\n",
       " 'train\\\\들뜸\\\\1.png',\n",
       " 'train\\\\들뜸\\\\10.png',\n",
       " 'train\\\\들뜸\\\\11.png',\n",
       " 'train\\\\들뜸\\\\12.png',\n",
       " 'train\\\\들뜸\\\\13.png',\n",
       " 'train\\\\들뜸\\\\14.png',\n",
       " 'train\\\\들뜸\\\\15.png',\n",
       " 'train\\\\들뜸\\\\16.png',\n",
       " 'train\\\\들뜸\\\\17.png',\n",
       " 'train\\\\들뜸\\\\18.png',\n",
       " 'train\\\\들뜸\\\\19.png',\n",
       " 'train\\\\들뜸\\\\2.png',\n",
       " 'train\\\\들뜸\\\\20.png',\n",
       " 'train\\\\들뜸\\\\21.png',\n",
       " 'train\\\\들뜸\\\\22.png',\n",
       " 'train\\\\들뜸\\\\23.png',\n",
       " 'train\\\\들뜸\\\\24.png',\n",
       " 'train\\\\들뜸\\\\25.png',\n",
       " 'train\\\\들뜸\\\\26.png',\n",
       " 'train\\\\들뜸\\\\27.png',\n",
       " 'train\\\\들뜸\\\\28.png',\n",
       " 'train\\\\들뜸\\\\29.png',\n",
       " 'train\\\\들뜸\\\\3.png',\n",
       " 'train\\\\들뜸\\\\30.png',\n",
       " 'train\\\\들뜸\\\\31.png',\n",
       " 'train\\\\들뜸\\\\32.png',\n",
       " 'train\\\\들뜸\\\\33.png',\n",
       " 'train\\\\들뜸\\\\34.png',\n",
       " 'train\\\\들뜸\\\\35.png',\n",
       " 'train\\\\들뜸\\\\36.png',\n",
       " 'train\\\\들뜸\\\\37.png',\n",
       " 'train\\\\들뜸\\\\38.png',\n",
       " 'train\\\\들뜸\\\\39.png',\n",
       " 'train\\\\들뜸\\\\4.png',\n",
       " 'train\\\\들뜸\\\\40.png',\n",
       " 'train\\\\들뜸\\\\41.png',\n",
       " 'train\\\\들뜸\\\\42.png',\n",
       " 'train\\\\들뜸\\\\43.png',\n",
       " 'train\\\\들뜸\\\\44.png',\n",
       " 'train\\\\들뜸\\\\45.png',\n",
       " 'train\\\\들뜸\\\\46.png',\n",
       " 'train\\\\들뜸\\\\47.png',\n",
       " 'train\\\\들뜸\\\\48.png',\n",
       " 'train\\\\들뜸\\\\49.png',\n",
       " 'train\\\\들뜸\\\\5.png',\n",
       " 'train\\\\들뜸\\\\50.png',\n",
       " 'train\\\\들뜸\\\\51.png',\n",
       " 'train\\\\들뜸\\\\52.png',\n",
       " 'train\\\\들뜸\\\\53.png',\n",
       " 'train\\\\들뜸\\\\6.png',\n",
       " 'train\\\\들뜸\\\\7.png',\n",
       " 'train\\\\들뜸\\\\8.png',\n",
       " 'train\\\\들뜸\\\\9.png',\n",
       " 'train\\\\면불량\\\\0.png',\n",
       " 'train\\\\면불량\\\\1.png',\n",
       " 'train\\\\면불량\\\\10.png',\n",
       " 'train\\\\면불량\\\\11.png',\n",
       " 'train\\\\면불량\\\\12.png',\n",
       " 'train\\\\면불량\\\\13.png',\n",
       " 'train\\\\면불량\\\\14.png',\n",
       " 'train\\\\면불량\\\\15.png',\n",
       " 'train\\\\면불량\\\\16.png',\n",
       " 'train\\\\면불량\\\\17.png',\n",
       " 'train\\\\면불량\\\\18.png',\n",
       " 'train\\\\면불량\\\\19.png',\n",
       " 'train\\\\면불량\\\\2.png',\n",
       " 'train\\\\면불량\\\\20.png',\n",
       " 'train\\\\면불량\\\\21.png',\n",
       " 'train\\\\면불량\\\\22.png',\n",
       " 'train\\\\면불량\\\\23.png',\n",
       " 'train\\\\면불량\\\\24.png',\n",
       " 'train\\\\면불량\\\\25.png',\n",
       " 'train\\\\면불량\\\\26.png',\n",
       " 'train\\\\면불량\\\\27.png',\n",
       " 'train\\\\면불량\\\\28.png',\n",
       " 'train\\\\면불량\\\\29.png',\n",
       " 'train\\\\면불량\\\\3.png',\n",
       " 'train\\\\면불량\\\\30.png',\n",
       " 'train\\\\면불량\\\\31.png',\n",
       " 'train\\\\면불량\\\\32.png',\n",
       " 'train\\\\면불량\\\\33.png',\n",
       " 'train\\\\면불량\\\\34.png',\n",
       " 'train\\\\면불량\\\\35.png',\n",
       " 'train\\\\면불량\\\\36.png',\n",
       " 'train\\\\면불량\\\\37.png',\n",
       " 'train\\\\면불량\\\\38.png',\n",
       " 'train\\\\면불량\\\\39.png',\n",
       " 'train\\\\면불량\\\\4.png',\n",
       " 'train\\\\면불량\\\\40.png',\n",
       " 'train\\\\면불량\\\\41.png',\n",
       " 'train\\\\면불량\\\\42.png',\n",
       " 'train\\\\면불량\\\\43.png',\n",
       " 'train\\\\면불량\\\\44.png',\n",
       " 'train\\\\면불량\\\\45.png',\n",
       " 'train\\\\면불량\\\\46.png',\n",
       " 'train\\\\면불량\\\\47.png',\n",
       " 'train\\\\면불량\\\\48.png',\n",
       " 'train\\\\면불량\\\\49.png',\n",
       " 'train\\\\면불량\\\\5.png',\n",
       " 'train\\\\면불량\\\\50.png',\n",
       " 'train\\\\면불량\\\\51.png',\n",
       " 'train\\\\면불량\\\\52.png',\n",
       " 'train\\\\면불량\\\\53.png',\n",
       " 'train\\\\면불량\\\\54.png',\n",
       " 'train\\\\면불량\\\\55.png',\n",
       " 'train\\\\면불량\\\\56.png',\n",
       " 'train\\\\면불량\\\\57.png',\n",
       " 'train\\\\면불량\\\\58.png',\n",
       " 'train\\\\면불량\\\\59.png',\n",
       " 'train\\\\면불량\\\\6.png',\n",
       " 'train\\\\면불량\\\\60.png',\n",
       " 'train\\\\면불량\\\\61.png',\n",
       " 'train\\\\면불량\\\\62.png',\n",
       " 'train\\\\면불량\\\\63.png',\n",
       " 'train\\\\면불량\\\\64.png',\n",
       " 'train\\\\면불량\\\\65.png',\n",
       " 'train\\\\면불량\\\\66.png',\n",
       " 'train\\\\면불량\\\\67.png',\n",
       " 'train\\\\면불량\\\\68.png',\n",
       " 'train\\\\면불량\\\\69.png',\n",
       " 'train\\\\면불량\\\\7.png',\n",
       " 'train\\\\면불량\\\\70.png',\n",
       " 'train\\\\면불량\\\\71.png',\n",
       " 'train\\\\면불량\\\\72.png',\n",
       " 'train\\\\면불량\\\\73.png',\n",
       " 'train\\\\면불량\\\\74.png',\n",
       " 'train\\\\면불량\\\\75.png',\n",
       " 'train\\\\면불량\\\\76.png',\n",
       " 'train\\\\면불량\\\\77.png',\n",
       " 'train\\\\면불량\\\\78.png',\n",
       " 'train\\\\면불량\\\\79.png',\n",
       " 'train\\\\면불량\\\\8.png',\n",
       " 'train\\\\면불량\\\\80.png',\n",
       " 'train\\\\면불량\\\\81.png',\n",
       " 'train\\\\면불량\\\\82.png',\n",
       " 'train\\\\면불량\\\\83.png',\n",
       " 'train\\\\면불량\\\\84.png',\n",
       " 'train\\\\면불량\\\\85.png',\n",
       " 'train\\\\면불량\\\\86.png',\n",
       " 'train\\\\면불량\\\\87.png',\n",
       " 'train\\\\면불량\\\\88.png',\n",
       " 'train\\\\면불량\\\\89.png',\n",
       " 'train\\\\면불량\\\\9.png',\n",
       " 'train\\\\면불량\\\\90.png',\n",
       " 'train\\\\면불량\\\\91.png',\n",
       " 'train\\\\면불량\\\\92.png',\n",
       " 'train\\\\면불량\\\\93.png',\n",
       " 'train\\\\면불량\\\\94.png',\n",
       " 'train\\\\면불량\\\\95.png',\n",
       " 'train\\\\면불량\\\\96.png',\n",
       " 'train\\\\면불량\\\\97.png',\n",
       " 'train\\\\면불량\\\\98.png',\n",
       " 'train\\\\몰딩수정\\\\0.png',\n",
       " 'train\\\\몰딩수정\\\\1.png',\n",
       " 'train\\\\몰딩수정\\\\10.png',\n",
       " 'train\\\\몰딩수정\\\\100.png',\n",
       " 'train\\\\몰딩수정\\\\101.png',\n",
       " 'train\\\\몰딩수정\\\\102.png',\n",
       " 'train\\\\몰딩수정\\\\103.png',\n",
       " 'train\\\\몰딩수정\\\\104.png',\n",
       " 'train\\\\몰딩수정\\\\105.png',\n",
       " 'train\\\\몰딩수정\\\\106.png',\n",
       " 'train\\\\몰딩수정\\\\107.png',\n",
       " 'train\\\\몰딩수정\\\\108.png',\n",
       " 'train\\\\몰딩수정\\\\109.png',\n",
       " 'train\\\\몰딩수정\\\\11.png',\n",
       " 'train\\\\몰딩수정\\\\110.png',\n",
       " 'train\\\\몰딩수정\\\\111.png',\n",
       " 'train\\\\몰딩수정\\\\112.png',\n",
       " 'train\\\\몰딩수정\\\\113.png',\n",
       " 'train\\\\몰딩수정\\\\114.png',\n",
       " 'train\\\\몰딩수정\\\\115.png',\n",
       " 'train\\\\몰딩수정\\\\116.png',\n",
       " 'train\\\\몰딩수정\\\\117.png',\n",
       " 'train\\\\몰딩수정\\\\118.png',\n",
       " 'train\\\\몰딩수정\\\\119.png',\n",
       " 'train\\\\몰딩수정\\\\12.png',\n",
       " 'train\\\\몰딩수정\\\\120.png',\n",
       " 'train\\\\몰딩수정\\\\121.png',\n",
       " 'train\\\\몰딩수정\\\\122.png',\n",
       " 'train\\\\몰딩수정\\\\123.png',\n",
       " 'train\\\\몰딩수정\\\\124.png',\n",
       " 'train\\\\몰딩수정\\\\125.png',\n",
       " 'train\\\\몰딩수정\\\\126.png',\n",
       " 'train\\\\몰딩수정\\\\127.png',\n",
       " 'train\\\\몰딩수정\\\\128.png',\n",
       " 'train\\\\몰딩수정\\\\129.png',\n",
       " 'train\\\\몰딩수정\\\\13.png',\n",
       " 'train\\\\몰딩수정\\\\14.png',\n",
       " 'train\\\\몰딩수정\\\\15.png',\n",
       " 'train\\\\몰딩수정\\\\16.png',\n",
       " 'train\\\\몰딩수정\\\\17.png',\n",
       " 'train\\\\몰딩수정\\\\18.png',\n",
       " 'train\\\\몰딩수정\\\\19.png',\n",
       " 'train\\\\몰딩수정\\\\2.png',\n",
       " 'train\\\\몰딩수정\\\\20.png',\n",
       " 'train\\\\몰딩수정\\\\21.png',\n",
       " 'train\\\\몰딩수정\\\\22.png',\n",
       " 'train\\\\몰딩수정\\\\23.png',\n",
       " 'train\\\\몰딩수정\\\\24.png',\n",
       " 'train\\\\몰딩수정\\\\25.png',\n",
       " 'train\\\\몰딩수정\\\\26.png',\n",
       " 'train\\\\몰딩수정\\\\27.png',\n",
       " 'train\\\\몰딩수정\\\\28.png',\n",
       " 'train\\\\몰딩수정\\\\29.png',\n",
       " 'train\\\\몰딩수정\\\\3.png',\n",
       " 'train\\\\몰딩수정\\\\30.png',\n",
       " 'train\\\\몰딩수정\\\\31.png',\n",
       " 'train\\\\몰딩수정\\\\32.png',\n",
       " 'train\\\\몰딩수정\\\\33.png',\n",
       " 'train\\\\몰딩수정\\\\34.png',\n",
       " 'train\\\\몰딩수정\\\\35.png',\n",
       " 'train\\\\몰딩수정\\\\36.png',\n",
       " 'train\\\\몰딩수정\\\\37.png',\n",
       " 'train\\\\몰딩수정\\\\38.png',\n",
       " 'train\\\\몰딩수정\\\\39.png',\n",
       " 'train\\\\몰딩수정\\\\4.png',\n",
       " 'train\\\\몰딩수정\\\\40.png',\n",
       " 'train\\\\몰딩수정\\\\41.png',\n",
       " 'train\\\\몰딩수정\\\\42.png',\n",
       " 'train\\\\몰딩수정\\\\43.png',\n",
       " 'train\\\\몰딩수정\\\\44.png',\n",
       " 'train\\\\몰딩수정\\\\45.png',\n",
       " 'train\\\\몰딩수정\\\\46.png',\n",
       " 'train\\\\몰딩수정\\\\47.png',\n",
       " 'train\\\\몰딩수정\\\\48.png',\n",
       " 'train\\\\몰딩수정\\\\49.png',\n",
       " 'train\\\\몰딩수정\\\\5.png',\n",
       " 'train\\\\몰딩수정\\\\50.png',\n",
       " 'train\\\\몰딩수정\\\\51.png',\n",
       " 'train\\\\몰딩수정\\\\52.png',\n",
       " 'train\\\\몰딩수정\\\\53.png',\n",
       " 'train\\\\몰딩수정\\\\54.png',\n",
       " 'train\\\\몰딩수정\\\\55.png',\n",
       " 'train\\\\몰딩수정\\\\56.png',\n",
       " 'train\\\\몰딩수정\\\\57.png',\n",
       " 'train\\\\몰딩수정\\\\58.png',\n",
       " 'train\\\\몰딩수정\\\\59.png',\n",
       " 'train\\\\몰딩수정\\\\6.png',\n",
       " 'train\\\\몰딩수정\\\\60.png',\n",
       " 'train\\\\몰딩수정\\\\61.png',\n",
       " 'train\\\\몰딩수정\\\\62.png',\n",
       " 'train\\\\몰딩수정\\\\63.png',\n",
       " 'train\\\\몰딩수정\\\\64.png',\n",
       " 'train\\\\몰딩수정\\\\65.png',\n",
       " 'train\\\\몰딩수정\\\\66.png',\n",
       " 'train\\\\몰딩수정\\\\67.png',\n",
       " 'train\\\\몰딩수정\\\\68.png',\n",
       " 'train\\\\몰딩수정\\\\69.png',\n",
       " 'train\\\\몰딩수정\\\\7.png',\n",
       " 'train\\\\몰딩수정\\\\70.png',\n",
       " 'train\\\\몰딩수정\\\\71.png',\n",
       " 'train\\\\몰딩수정\\\\72.png',\n",
       " 'train\\\\몰딩수정\\\\73.png',\n",
       " 'train\\\\몰딩수정\\\\74.png',\n",
       " 'train\\\\몰딩수정\\\\75.png',\n",
       " 'train\\\\몰딩수정\\\\76.png',\n",
       " 'train\\\\몰딩수정\\\\77.png',\n",
       " 'train\\\\몰딩수정\\\\78.png',\n",
       " 'train\\\\몰딩수정\\\\79.png',\n",
       " 'train\\\\몰딩수정\\\\8.png',\n",
       " 'train\\\\몰딩수정\\\\80.png',\n",
       " 'train\\\\몰딩수정\\\\81.png',\n",
       " 'train\\\\몰딩수정\\\\82.png',\n",
       " 'train\\\\몰딩수정\\\\83.png',\n",
       " 'train\\\\몰딩수정\\\\84.png',\n",
       " 'train\\\\몰딩수정\\\\85.png',\n",
       " 'train\\\\몰딩수정\\\\86.png',\n",
       " 'train\\\\몰딩수정\\\\87.png',\n",
       " 'train\\\\몰딩수정\\\\88.png',\n",
       " 'train\\\\몰딩수정\\\\89.png',\n",
       " 'train\\\\몰딩수정\\\\9.png',\n",
       " 'train\\\\몰딩수정\\\\90.png',\n",
       " 'train\\\\몰딩수정\\\\91.png',\n",
       " 'train\\\\몰딩수정\\\\92.png',\n",
       " 'train\\\\몰딩수정\\\\93.png',\n",
       " 'train\\\\몰딩수정\\\\94.png',\n",
       " 'train\\\\몰딩수정\\\\95.png',\n",
       " 'train\\\\몰딩수정\\\\96.png',\n",
       " 'train\\\\몰딩수정\\\\97.png',\n",
       " 'train\\\\몰딩수정\\\\98.png',\n",
       " 'train\\\\몰딩수정\\\\99.png',\n",
       " 'train\\\\반점\\\\0.png',\n",
       " 'train\\\\반점\\\\1.png',\n",
       " 'train\\\\반점\\\\2.png',\n",
       " 'train\\\\석고수정\\\\0.png',\n",
       " 'train\\\\석고수정\\\\1.png',\n",
       " 'train\\\\석고수정\\\\10.png',\n",
       " 'train\\\\석고수정\\\\11.png',\n",
       " 'train\\\\석고수정\\\\12.png',\n",
       " 'train\\\\석고수정\\\\13.png',\n",
       " 'train\\\\석고수정\\\\14.png',\n",
       " 'train\\\\석고수정\\\\15.png',\n",
       " 'train\\\\석고수정\\\\16.png',\n",
       " 'train\\\\석고수정\\\\17.png',\n",
       " 'train\\\\석고수정\\\\18.png',\n",
       " 'train\\\\석고수정\\\\19.png',\n",
       " 'train\\\\석고수정\\\\2.png',\n",
       " 'train\\\\석고수정\\\\20.png',\n",
       " 'train\\\\석고수정\\\\21.png',\n",
       " 'train\\\\석고수정\\\\22.png',\n",
       " 'train\\\\석고수정\\\\23.png',\n",
       " 'train\\\\석고수정\\\\24.png',\n",
       " 'train\\\\석고수정\\\\25.png',\n",
       " 'train\\\\석고수정\\\\26.png',\n",
       " 'train\\\\석고수정\\\\27.png',\n",
       " 'train\\\\석고수정\\\\28.png',\n",
       " 'train\\\\석고수정\\\\29.png',\n",
       " 'train\\\\석고수정\\\\3.png',\n",
       " 'train\\\\석고수정\\\\30.png',\n",
       " 'train\\\\석고수정\\\\31.png',\n",
       " ...]"
      ]
     },
     "execution_count": 7,
     "metadata": {},
     "output_type": "execute_result"
    }
   ],
   "source": [
    "all_img_list"
   ]
  },
  {
   "cell_type": "code",
   "execution_count": 8,
   "id": "4119733d-adef-436c-afca-4112a9225d33",
   "metadata": {},
   "outputs": [],
   "source": [
    "df = pd.DataFrame(columns=['img_path', 'label'])\n",
    "df['img_path'] = all_img_list\n",
    "df['label'] = df['img_path'].apply(lambda x : str(x).split(os.sep)[-2])"
   ]
  },
  {
   "cell_type": "code",
   "execution_count": 9,
   "id": "f1e1834f",
   "metadata": {},
   "outputs": [
    {
     "data": {
      "text/html": [
       "<div>\n",
       "<style scoped>\n",
       "    .dataframe tbody tr th:only-of-type {\n",
       "        vertical-align: middle;\n",
       "    }\n",
       "\n",
       "    .dataframe tbody tr th {\n",
       "        vertical-align: top;\n",
       "    }\n",
       "\n",
       "    .dataframe thead th {\n",
       "        text-align: right;\n",
       "    }\n",
       "</style>\n",
       "<table border=\"1\" class=\"dataframe\">\n",
       "  <thead>\n",
       "    <tr style=\"text-align: right;\">\n",
       "      <th></th>\n",
       "      <th>img_path</th>\n",
       "      <th>label</th>\n",
       "    </tr>\n",
       "  </thead>\n",
       "  <tbody>\n",
       "    <tr>\n",
       "      <th>0</th>\n",
       "      <td>train\\가구수정\\0.png</td>\n",
       "      <td>가구수정</td>\n",
       "    </tr>\n",
       "    <tr>\n",
       "      <th>1</th>\n",
       "      <td>train\\가구수정\\1.png</td>\n",
       "      <td>가구수정</td>\n",
       "    </tr>\n",
       "    <tr>\n",
       "      <th>2</th>\n",
       "      <td>train\\가구수정\\10.png</td>\n",
       "      <td>가구수정</td>\n",
       "    </tr>\n",
       "    <tr>\n",
       "      <th>3</th>\n",
       "      <td>train\\가구수정\\11.png</td>\n",
       "      <td>가구수정</td>\n",
       "    </tr>\n",
       "    <tr>\n",
       "      <th>4</th>\n",
       "      <td>train\\가구수정\\2.png</td>\n",
       "      <td>가구수정</td>\n",
       "    </tr>\n",
       "    <tr>\n",
       "      <th>...</th>\n",
       "      <td>...</td>\n",
       "      <td>...</td>\n",
       "    </tr>\n",
       "    <tr>\n",
       "      <th>3452</th>\n",
       "      <td>train\\훼손\\995.png</td>\n",
       "      <td>훼손</td>\n",
       "    </tr>\n",
       "    <tr>\n",
       "      <th>3453</th>\n",
       "      <td>train\\훼손\\996.png</td>\n",
       "      <td>훼손</td>\n",
       "    </tr>\n",
       "    <tr>\n",
       "      <th>3454</th>\n",
       "      <td>train\\훼손\\997.png</td>\n",
       "      <td>훼손</td>\n",
       "    </tr>\n",
       "    <tr>\n",
       "      <th>3455</th>\n",
       "      <td>train\\훼손\\998.png</td>\n",
       "      <td>훼손</td>\n",
       "    </tr>\n",
       "    <tr>\n",
       "      <th>3456</th>\n",
       "      <td>train\\훼손\\999.png</td>\n",
       "      <td>훼손</td>\n",
       "    </tr>\n",
       "  </tbody>\n",
       "</table>\n",
       "<p>3457 rows × 2 columns</p>\n",
       "</div>"
      ],
      "text/plain": [
       "               img_path label\n",
       "0      train\\가구수정\\0.png  가구수정\n",
       "1      train\\가구수정\\1.png  가구수정\n",
       "2     train\\가구수정\\10.png  가구수정\n",
       "3     train\\가구수정\\11.png  가구수정\n",
       "4      train\\가구수정\\2.png  가구수정\n",
       "...                 ...   ...\n",
       "3452   train\\훼손\\995.png    훼손\n",
       "3453   train\\훼손\\996.png    훼손\n",
       "3454   train\\훼손\\997.png    훼손\n",
       "3455   train\\훼손\\998.png    훼손\n",
       "3456   train\\훼손\\999.png    훼손\n",
       "\n",
       "[3457 rows x 2 columns]"
      ]
     },
     "execution_count": 9,
     "metadata": {},
     "output_type": "execute_result"
    }
   ],
   "source": [
    "df"
   ]
  },
  {
   "cell_type": "code",
   "execution_count": 17,
   "id": "4db41c93-3515-4fcd-936b-0a01f5388b3f",
   "metadata": {},
   "outputs": [],
   "source": [
    "train_data, val_data, _, _ = train_test_split(df, df['label'], test_size=0.3, stratify=df['label'], random_state=CFG['SEED'])"
   ]
  },
  {
   "attachments": {},
   "cell_type": "markdown",
   "id": "bb1f117e-105d-4e9e-b9bd-938d4271a940",
   "metadata": {},
   "source": [
    "## Label-Encoding"
   ]
  },
  {
   "cell_type": "code",
   "execution_count": 43,
   "id": "6c8c5916-8065-4b5c-aa37-f3fb2b9fa422",
   "metadata": {},
   "outputs": [],
   "source": [
    "le = preprocessing.LabelEncoder()\n",
    "\n",
    "train_data['label'] = le.fit_transform(train['label'])\n",
    "\n",
    "train_data['label_multi_hot'] = np.eye(len(le.classes_), dtype = np.int32)[train_data['label'].tolist()].tolist()\n",
    "\n",
    "val_data['label'] = le.transform(val['label'])\n",
    "val_data['label_multi_hot'] = np.eye(len(le.classes_), dtype = np.int32)[val_data['label'].tolist()].tolist()"
   ]
  },
  {
   "attachments": {},
   "cell_type": "markdown",
   "id": "f34614cc",
   "metadata": {},
   "source": [
    "## weighted random sampler"
   ]
  },
  {
   "cell_type": "code",
   "execution_count": null,
   "id": "30c3eb9f",
   "metadata": {},
   "outputs": [],
   "source": [
    "WeightedRandomSampler()"
   ]
  },
  {
   "attachments": {},
   "cell_type": "markdown",
   "id": "ac27ed36-8031-47a7-bd0d-a913513f2e8e",
   "metadata": {},
   "source": [
    "## CustomDataset"
   ]
  },
  {
   "cell_type": "code",
   "execution_count": 44,
   "id": "16fd60a5-24e2-4539-bfd0-1c374a641699",
   "metadata": {},
   "outputs": [],
   "source": [
    "class CustomDataset(Dataset):\n",
    "    def __init__(self, img_path_list, label_list, transforms=None):\n",
    "        self.img_path_list = img_path_list\n",
    "        self.label_list = label_list\n",
    "        self.transforms = transforms\n",
    "        \n",
    "    def __getitem__(self, index):\n",
    "        img_path = self.img_path_list[index]\n",
    "        try :\n",
    "            image = np.array(Image.open(img_path))\n",
    "        except :\n",
    "            print(img_path)\n",
    "            raise\n",
    "        \n",
    "        if self.transforms is not None:\n",
    "            image = self.transforms(image=image)['image']\n",
    "        \n",
    "        if self.label_list is not None:\n",
    "            label = self.label_list[index]\n",
    "            return image, label\n",
    "        else:\n",
    "            return image\n",
    "        \n",
    "    def __len__(self):\n",
    "        return len(self.img_path_list)"
   ]
  },
  {
   "cell_type": "code",
   "execution_count": 45,
   "id": "340b4a8b-5d6c-413f-b8b6-066e91a660e5",
   "metadata": {},
   "outputs": [],
   "source": [
    "train_transform = A.Compose([\n",
    "                            A.Resize(CFG['IMG_SIZE'],CFG['IMG_SIZE']),\n",
    "                            A.Normalize(mean=(0.485, 0.456, 0.406), std=(0.229, 0.224, 0.225), max_pixel_value=255.0, always_apply=False, p=1.0),\n",
    "                            ToTensorV2()\n",
    "                            ])\n",
    "\n",
    "test_transform = A.Compose([\n",
    "                            A.Resize(CFG['IMG_SIZE'],CFG['IMG_SIZE']),\n",
    "                            A.Normalize(mean=(0.485, 0.456, 0.406), std=(0.229, 0.224, 0.225), max_pixel_value=255.0, always_apply=False, p=1.0),\n",
    "                            ToTensorV2()\n",
    "                            ])"
   ]
  },
  {
   "cell_type": "code",
   "execution_count": 47,
   "id": "9d880481-1965-499d-9caa-fdfa8526f789",
   "metadata": {},
   "outputs": [],
   "source": [
    "# train_multi_hot_for_sampler = \n",
    "\n",
    "# train_sampler = MultilabelBalancedRandomSampler()\n",
    "\n",
    "train_dataset = CustomDataset(train['img_path'].values, train['label'].values, train_transform)\n",
    "train_loader = DataLoader(train_dataset, batch_size = CFG['BATCH_SIZE'], shuffle=False, num_workers=0)\n",
    "\n",
    "val_dataset = CustomDataset(val['img_path'].values, val['label'].values, test_transform)\n",
    "val_loader = DataLoader(val_dataset, batch_size=CFG['BATCH_SIZE'], shuffle=False, num_workers=0)"
   ]
  },
  {
   "cell_type": "code",
   "execution_count": 48,
   "id": "02bc5798",
   "metadata": {},
   "outputs": [
    {
     "data": {
      "text/plain": [
       "[tensor([[[[-0.5938, -0.4568, -0.2342,  ..., -0.8849, -0.9192, -0.2513],\n",
       "           [-0.5767, -0.3712, -0.2856,  ..., -0.9534, -0.6452, -0.4226],\n",
       "           [-0.5767, -0.6281, -0.3883,  ..., -0.9020, -0.7993, -0.3541],\n",
       "           ...,\n",
       "           [-0.6452, -0.5253, -0.4226,  ..., -0.9877, -0.5767, -0.9020],\n",
       "           [-0.3883, -0.3198, -0.4054,  ..., -0.8849, -0.7822, -0.8164],\n",
       "           [-0.4226, -0.5253, -0.4911,  ..., -0.7993, -0.8678, -0.6109]],\n",
       " \n",
       "          [[-0.4776, -0.3375, -0.0924,  ..., -0.7752, -0.8102, -0.1275],\n",
       "           [-0.4426, -0.2325, -0.1450,  ..., -0.8452, -0.5301, -0.3025],\n",
       "           [-0.4426, -0.5126, -0.2675,  ..., -0.7927, -0.6877, -0.2325],\n",
       "           ...,\n",
       "           [-0.5301, -0.4076, -0.3025,  ..., -0.8627, -0.4426, -0.7752],\n",
       "           [-0.2675, -0.1975, -0.2850,  ..., -0.7752, -0.6702, -0.7052],\n",
       "           [-0.3025, -0.4076, -0.3725,  ..., -0.6877, -0.7577, -0.5126]],\n",
       " \n",
       "          [[-0.2881, -0.1487,  0.0779,  ..., -0.5844, -0.6367,  0.0605],\n",
       "           [-0.3055, -0.0964, -0.0092,  ..., -0.6367, -0.3404, -0.1138],\n",
       "           [-0.3055, -0.3230, -0.0790,  ..., -0.6018, -0.4973, -0.0441],\n",
       "           ...,\n",
       "           [-0.3404, -0.2184, -0.1138,  ..., -0.6018, -0.2010, -0.5321],\n",
       "           [-0.0790, -0.0267, -0.0964,  ..., -0.5495, -0.4450, -0.4798],\n",
       "           [-0.1138, -0.2184, -0.1835,  ..., -0.4973, -0.5670, -0.2881]]],\n",
       " \n",
       " \n",
       "         [[[ 0.5364,  0.9988,  0.9646,  ...,  1.0502,  1.0502,  1.0502],\n",
       "           [ 0.5022,  0.9988,  1.0159,  ...,  0.9817,  1.1358,  1.1872],\n",
       "           [ 0.5536,  0.9474,  0.8961,  ...,  0.9817,  0.9988,  1.1015],\n",
       "           ...,\n",
       "           [ 0.4851,  0.9132,  0.9303,  ...,  1.0159,  1.0844,  1.1529],\n",
       "           [ 0.5022,  0.8961,  0.9132,  ...,  1.1529,  1.2557,  1.2728],\n",
       "           [ 0.4508,  0.8961,  0.9646,  ...,  1.3755,  1.2385,  1.0844]],\n",
       " \n",
       "          [[ 0.6429,  1.1155,  1.0805,  ...,  1.2206,  1.2206,  1.2206],\n",
       "           [ 0.6254,  1.1155,  1.1331,  ...,  1.1506,  1.3081,  1.3606],\n",
       "           [ 0.6604,  1.0630,  1.0105,  ...,  1.1506,  1.1681,  1.2731],\n",
       "           ...,\n",
       "           [ 0.5553,  0.9755,  0.9930,  ...,  1.1506,  1.2206,  1.2906],\n",
       "           [ 0.5728,  0.9755,  0.9930,  ...,  1.3081,  1.4132,  1.4482],\n",
       "           [ 0.5028,  0.9580,  1.0280,  ...,  1.5357,  1.4132,  1.2556]],\n",
       " \n",
       "          [[ 0.8797,  1.3502,  1.3154,  ...,  1.5071,  1.5071,  1.5071],\n",
       "           [ 0.8448,  1.3502,  1.3677,  ...,  1.4374,  1.5942,  1.6465],\n",
       "           [ 0.8971,  1.2980,  1.2457,  ...,  1.4374,  1.4548,  1.5594],\n",
       "           ...,\n",
       "           [ 0.7228,  1.1237,  1.1411,  ...,  1.4374,  1.5245,  1.5942],\n",
       "           [ 0.7054,  1.0888,  1.1237,  ...,  1.5594,  1.6640,  1.6988],\n",
       "           [ 0.6356,  1.0714,  1.1759,  ...,  1.7860,  1.6640,  1.5245]]],\n",
       " \n",
       " \n",
       "         [[[ 0.6734,  0.4508,  0.4166,  ...,  0.8961,  0.7077,  0.7419],\n",
       "           [ 0.7248,  0.5878,  0.4851,  ...,  0.8447,  0.5536,  0.4508],\n",
       "           [ 0.7419,  0.6221,  0.5022,  ...,  0.8276,  0.5364,  0.5536],\n",
       "           ...,\n",
       "           [-0.0629,  0.0741,  0.1254,  ...,  1.0673,  1.0673,  1.0331],\n",
       "           [-0.1828, -0.1314, -0.1314,  ...,  1.1015,  1.0844,  1.0673],\n",
       "           [-0.0972, -0.0801, -0.0972,  ...,  1.1015,  1.1358,  1.1358]],\n",
       " \n",
       "          [[ 0.9055,  0.6779,  0.6429,  ...,  1.1331,  0.9405,  0.9755],\n",
       "           [ 0.9580,  0.8354,  0.7129,  ...,  1.0805,  0.7829,  0.6779],\n",
       "           [ 0.9755,  0.8704,  0.7479,  ...,  1.0630,  0.7654,  0.7829],\n",
       "           ...,\n",
       "           [-0.0399,  0.1001,  0.1352,  ...,  1.1331,  1.1331,  1.0980],\n",
       "           [-0.2675, -0.2150, -0.2150,  ...,  1.1681,  1.1506,  1.1331],\n",
       "           [-0.1975, -0.1625, -0.1800,  ...,  1.1681,  1.2031,  1.2206]],\n",
       " \n",
       "          [[ 1.1759,  0.9494,  0.9145,  ...,  1.3851,  1.2282,  1.2457],\n",
       "           [ 1.2282,  1.0714,  0.9494,  ...,  1.3502,  1.0539,  0.9494],\n",
       "           [ 1.2457,  1.0888,  0.9668,  ...,  1.3328,  1.0365,  1.0539],\n",
       "           ...,\n",
       "           [-0.0964,  0.0256,  0.0779,  ...,  1.2457,  1.2457,  1.1934],\n",
       "           [-0.3230, -0.2707, -0.2707,  ...,  1.2805,  1.2631,  1.2282],\n",
       "           [-0.2184, -0.2010, -0.2010,  ...,  1.2805,  1.3154,  1.2805]]],\n",
       " \n",
       " \n",
       "         ...,\n",
       " \n",
       " \n",
       "         [[[ 0.9303,  0.9474,  0.9303,  ...,  0.9474,  0.9303,  0.9474],\n",
       "           [ 0.9474,  0.9817,  0.9817,  ...,  0.9132,  0.9303,  0.9474],\n",
       "           [ 0.9988,  0.9817,  0.9646,  ...,  0.9474,  0.9303,  0.9132],\n",
       "           ...,\n",
       "           [ 1.1187,  1.1872,  1.0844,  ...,  1.4098,  1.4440,  1.3755],\n",
       "           [ 1.1358,  1.2043,  1.1358,  ...,  1.4098,  1.3927,  1.4098],\n",
       "           [ 1.1015,  1.1872,  1.1700,  ...,  1.3755,  1.4269,  1.4269]],\n",
       " \n",
       "          [[ 0.8179,  0.8354,  0.8179,  ...,  0.8004,  0.8004,  0.8354],\n",
       "           [ 0.8354,  0.8704,  0.8529,  ...,  0.8179,  0.8004,  0.8354],\n",
       "           [ 0.9055,  0.8704,  0.8529,  ...,  0.8354,  0.8179,  0.8004],\n",
       "           ...,\n",
       "           [ 1.0105,  1.0980,  1.0455,  ...,  1.3431,  1.3782,  1.3081],\n",
       "           [ 1.0280,  1.1155,  1.0980,  ...,  1.3431,  1.3256,  1.3431],\n",
       "           [ 1.0105,  1.1155,  1.1155,  ...,  1.2906,  1.3431,  1.3606]],\n",
       " \n",
       "          [[ 0.9145,  0.9319,  0.9319,  ...,  0.8971,  0.8971,  0.9319],\n",
       "           [ 0.9319,  1.0017,  0.9319,  ...,  0.8797,  0.8797,  0.9319],\n",
       "           [ 0.9668,  0.9494,  0.9494,  ...,  0.9319,  0.8971,  0.8797],\n",
       "           ...,\n",
       "           [ 1.1759,  1.2282,  1.1411,  ...,  1.4548,  1.4722,  1.4200],\n",
       "           [ 1.1934,  1.2457,  1.2108,  ...,  1.4548,  1.4374,  1.4548],\n",
       "           [ 1.1585,  1.2457,  1.2282,  ...,  1.4025,  1.4897,  1.5071]]],\n",
       " \n",
       " \n",
       "         [[[ 0.8618,  0.8961,  0.9303,  ...,  0.2453,  0.2282,  0.3138],\n",
       "           [ 0.9817,  0.9303,  0.9646,  ...,  0.2796,  0.2453,  0.2624],\n",
       "           [ 0.8104,  0.8104,  0.8618,  ...,  0.2453,  0.2624,  0.2282],\n",
       "           ...,\n",
       "           [ 1.0673,  0.9988, -0.0287,  ...,  0.0227,  0.0398,  0.0741],\n",
       "           [ 1.3242,  1.2043,  0.4508,  ...,  0.0056,  0.0056, -0.0458],\n",
       "           [ 1.0159,  1.0159,  0.9646,  ..., -0.0287,  0.0227,  0.0741]],\n",
       " \n",
       "          [[ 1.2031,  1.2381,  1.2556,  ...,  0.4678,  0.4678,  0.5553],\n",
       "           [ 1.2906,  1.2731,  1.2906,  ...,  0.5203,  0.4853,  0.5028],\n",
       "           [ 1.1331,  1.1331,  1.1856,  ...,  0.4853,  0.5028,  0.4678],\n",
       "           ...,\n",
       "           [ 1.2381,  1.1681,  0.1001,  ...,  0.0826,  0.1001,  0.1352],\n",
       "           [ 1.4832,  1.3782,  0.5903,  ...,  0.0651,  0.0826,  0.0301],\n",
       "           [ 1.2206,  1.2031,  1.1506,  ...,  0.0301,  0.0826,  0.1352]],\n",
       " \n",
       "          [[ 1.4548,  1.4897,  1.5071,  ...,  0.6705,  0.6531,  0.7402],\n",
       "           [ 1.5420,  1.5245,  1.5420,  ...,  0.6879,  0.6705,  0.6879],\n",
       "           [ 1.3677,  1.3851,  1.4374,  ...,  0.6705,  0.6879,  0.6531],\n",
       "           ...,\n",
       "           [ 1.4722,  1.3328,  0.1476,  ...,  0.1476,  0.1651,  0.1999],\n",
       "           [ 1.6988,  1.5768,  0.7576,  ...,  0.1302,  0.1302,  0.1128],\n",
       "           [ 1.4200,  1.4025,  1.3502,  ...,  0.0953,  0.1476,  0.2348]]],\n",
       " \n",
       " \n",
       "         [[[ 0.0398,  0.0227,  0.0741,  ...,  0.2282,  0.3481,  0.4337],\n",
       "           [-0.2856,  0.0741,  0.0398,  ...,  0.3652,  0.2967,  0.4166],\n",
       "           [ 0.0912, -0.0629,  0.1939,  ...,  0.3823,  0.5536,  0.4337],\n",
       "           ...,\n",
       "           [-1.3473, -1.3644, -1.3644,  ..., -1.0219, -0.8335, -0.8849],\n",
       "           [-1.3302, -1.3473, -1.3130,  ..., -0.8164, -0.9534, -0.7308],\n",
       "           [-1.3473, -1.3644, -1.3815,  ..., -0.9192, -0.9020, -0.9363]],\n",
       " \n",
       "          [[ 0.1352,  0.1176,  0.1527,  ...,  0.2927,  0.4153,  0.5028],\n",
       "           [-0.1975,  0.1702,  0.1352,  ...,  0.4328,  0.3627,  0.4853],\n",
       "           [ 0.1877,  0.0301,  0.2927,  ...,  0.4503,  0.6254,  0.5028],\n",
       "           ...,\n",
       "           [-1.1779, -1.1954, -1.1954,  ..., -0.9328, -0.7402, -0.7752],\n",
       "           [-1.1779, -1.1779, -1.1429,  ..., -0.7227, -0.8803, -0.6001],\n",
       "           [-1.1604, -1.1954, -1.2129,  ..., -0.7927, -0.8102, -0.8277]],\n",
       " \n",
       "          [[-0.0092, -0.0267,  0.0431,  ...,  0.0082,  0.1476,  0.2522],\n",
       "           [-0.3404,  0.0256, -0.0092,  ...,  0.1476,  0.0953,  0.2348],\n",
       "           [ 0.0431, -0.1138,  0.1476,  ...,  0.1651,  0.3568,  0.2522],\n",
       "           ...,\n",
       "           [-0.9678, -0.9853, -0.9853,  ..., -0.7936, -0.6018, -0.6367],\n",
       "           [-0.9678, -0.9678, -0.9330,  ..., -0.5844, -0.7238, -0.4798],\n",
       "           [-1.0027, -0.9853, -1.0027,  ..., -0.6715, -0.6715, -0.6890]]]]),\n",
       " tensor([18, 18, 18, 18, 18, 18, 18, 18, 11, 18, 10,  3, 18, 18,  6, 18,  6, 10,\n",
       "         18, 18, 18, 18, 10, 15,  1,  7, 11, 18,  1, 18,  2, 10],\n",
       "        dtype=torch.int32)]"
      ]
     },
     "execution_count": 48,
     "metadata": {},
     "output_type": "execute_result"
    }
   ],
   "source": [
    "next(iter(train_loader))"
   ]
  },
  {
   "attachments": {},
   "cell_type": "markdown",
   "id": "39962463-032f-490a-a76d-c03991795f38",
   "metadata": {},
   "source": [
    "## Model Define"
   ]
  },
  {
   "cell_type": "code",
   "execution_count": 49,
   "id": "3664c4d0-f1f2-4971-9090-4d6ee66309ae",
   "metadata": {},
   "outputs": [],
   "source": [
    "class BaseModel(nn.Module):\n",
    "    def __init__(self, num_classes=len(le.classes_)):\n",
    "        super(BaseModel, self).__init__()\n",
    "        self.backbone = models.efficientnet_b0(pretrained=True)\n",
    "        self.classifier = nn.Linear(1000, num_classes)\n",
    "        \n",
    "    def forward(self, x):\n",
    "        x = self.backbone(x)\n",
    "        x = self.classifier(x)\n",
    "        return x"
   ]
  },
  {
   "attachments": {},
   "cell_type": "markdown",
   "id": "122af0aa-a1fd-4595-9488-35761e3cb596",
   "metadata": {},
   "source": [
    "## Train"
   ]
  },
  {
   "cell_type": "code",
   "execution_count": 69,
   "id": "a17df6b3-16c9-44dd-b0fd-ffb501fee749",
   "metadata": {},
   "outputs": [],
   "source": [
    "def train(model, optimizer, train_loader, val_loader, scheduler, device):\n",
    "    model.to(device)\n",
    "    criterion = nn.CrossEntropyLoss().to(device)\n",
    "    \n",
    "    best_score = 0\n",
    "    best_model = None\n",
    "    \n",
    "    for epoch in range(1, CFG['EPOCHS']+1):\n",
    "        model.train()\n",
    "        train_loss = []\n",
    "        for imgs, labels in tqdm(iter(train_loader)):\n",
    "            imgs = imgs.float().to(device)\n",
    "            labels = labels.to(device)\n",
    "            \n",
    "            optimizer.zero_grad()\n",
    "            \n",
    "            output = model(imgs)\n",
    "            loss = criterion(output, labels)\n",
    "            \n",
    "            loss.backward()\n",
    "            optimizer.step()\n",
    "            \n",
    "            train_loss.append(loss.item())\n",
    "                    \n",
    "        _val_loss, _val_score = validation(model, criterion, val_loader, device)\n",
    "        _train_loss = np.mean(train_loss)\n",
    "        print(f'Epoch [{epoch}], Train Loss : [{_train_loss:.5f}] Val Loss : [{_val_loss:.5f}] Val Weighted F1 Score : [{_val_score:.5f}]')\n",
    "       \n",
    "        if scheduler is not None:\n",
    "            scheduler.step(_val_score)\n",
    "            \n",
    "        if best_score < _val_score:\n",
    "            best_score = _val_score\n",
    "            best_model = model\n",
    "    \n",
    "    return best_model"
   ]
  },
  {
   "cell_type": "code",
   "execution_count": 70,
   "id": "96b1c524-89fb-4ce8-a49f-067fd489f84a",
   "metadata": {},
   "outputs": [],
   "source": [
    "def validation(model, criterion, val_loader, device):\n",
    "    model.eval()\n",
    "    val_loss = []\n",
    "    preds, true_labels = [], []\n",
    "\n",
    "    with torch.no_grad():\n",
    "        for imgs, labels in tqdm(iter(val_loader)):\n",
    "            imgs = imgs.float().to(device)\n",
    "            labels = labels.to(device)\n",
    "            \n",
    "            pred = model(imgs)\n",
    "            \n",
    "            loss = criterion(pred, labels)\n",
    "            \n",
    "            preds += pred.argmax(1).detach().cpu().numpy().tolist()\n",
    "            true_labels += labels.detach().cpu().numpy().tolist()\n",
    "            \n",
    "            val_loss.append(loss.item())\n",
    "        \n",
    "        _val_loss = np.mean(val_loss)\n",
    "        _val_score = f1_score(true_labels, preds, average='weighted')\n",
    "    \n",
    "    return _val_loss, _val_score"
   ]
  },
  {
   "attachments": {},
   "cell_type": "markdown",
   "id": "51da39f9-904f-4abd-a7d2-cdf29c4a6c24",
   "metadata": {},
   "source": [
    "## Run!!"
   ]
  },
  {
   "cell_type": "code",
   "execution_count": 71,
   "id": "86142d9a-68b7-4d04-8423-49d28025411d",
   "metadata": {
    "tags": []
   },
   "outputs": [
    {
     "data": {
      "application/vnd.jupyter.widget-view+json": {
       "model_id": "a37b245d059641869832ca1830f2617f",
       "version_major": 2,
       "version_minor": 0
      },
      "text/plain": [
       "  0%|          | 0/76 [00:00<?, ?it/s]"
      ]
     },
     "metadata": {},
     "output_type": "display_data"
    },
    {
     "data": {
      "application/vnd.jupyter.widget-view+json": {
       "model_id": "289b57841f014d52ae81134995af0308",
       "version_major": 2,
       "version_minor": 0
      },
      "text/plain": [
       "  0%|          | 0/33 [00:00<?, ?it/s]"
      ]
     },
     "metadata": {},
     "output_type": "display_data"
    },
    {
     "name": "stdout",
     "output_type": "stream",
     "text": [
      "Epoch [1], Train Loss : [1.49350] Val Loss : [2.52430] Val Weighted F1 Score : [0.24344]\n"
     ]
    },
    {
     "data": {
      "application/vnd.jupyter.widget-view+json": {
       "model_id": "86fc12b4a6a248b89fa3f58e28c6eeaf",
       "version_major": 2,
       "version_minor": 0
      },
      "text/plain": [
       "  0%|          | 0/76 [00:00<?, ?it/s]"
      ]
     },
     "metadata": {},
     "output_type": "display_data"
    },
    {
     "data": {
      "application/vnd.jupyter.widget-view+json": {
       "model_id": "1acf019db13142e395bb68310ed0d55e",
       "version_major": 2,
       "version_minor": 0
      },
      "text/plain": [
       "  0%|          | 0/33 [00:00<?, ?it/s]"
      ]
     },
     "metadata": {},
     "output_type": "display_data"
    },
    {
     "name": "stdout",
     "output_type": "stream",
     "text": [
      "Epoch [2], Train Loss : [0.65668] Val Loss : [2.58646] Val Weighted F1 Score : [0.30734]\n"
     ]
    },
    {
     "data": {
      "application/vnd.jupyter.widget-view+json": {
       "model_id": "dfe685b5afa9468790d52b2961932a49",
       "version_major": 2,
       "version_minor": 0
      },
      "text/plain": [
       "  0%|          | 0/76 [00:00<?, ?it/s]"
      ]
     },
     "metadata": {},
     "output_type": "display_data"
    },
    {
     "data": {
      "application/vnd.jupyter.widget-view+json": {
       "model_id": "f2a650b22f1240bd98c6b667fa637e0e",
       "version_major": 2,
       "version_minor": 0
      },
      "text/plain": [
       "  0%|          | 0/33 [00:00<?, ?it/s]"
      ]
     },
     "metadata": {},
     "output_type": "display_data"
    },
    {
     "name": "stdout",
     "output_type": "stream",
     "text": [
      "Epoch [3], Train Loss : [0.30694] Val Loss : [2.44178] Val Weighted F1 Score : [0.35516]\n"
     ]
    },
    {
     "data": {
      "application/vnd.jupyter.widget-view+json": {
       "model_id": "3968f5b3a5234a87b42c1219d0c25134",
       "version_major": 2,
       "version_minor": 0
      },
      "text/plain": [
       "  0%|          | 0/76 [00:00<?, ?it/s]"
      ]
     },
     "metadata": {},
     "output_type": "display_data"
    },
    {
     "data": {
      "application/vnd.jupyter.widget-view+json": {
       "model_id": "22d927c93b3e48bcb95f17615faf981b",
       "version_major": 2,
       "version_minor": 0
      },
      "text/plain": [
       "  0%|          | 0/33 [00:00<?, ?it/s]"
      ]
     },
     "metadata": {},
     "output_type": "display_data"
    },
    {
     "name": "stdout",
     "output_type": "stream",
     "text": [
      "Epoch [4], Train Loss : [0.15397] Val Loss : [1.66127] Val Weighted F1 Score : [0.54906]\n"
     ]
    },
    {
     "data": {
      "application/vnd.jupyter.widget-view+json": {
       "model_id": "ef91a93c26f34f6397b483c909d38bf9",
       "version_major": 2,
       "version_minor": 0
      },
      "text/plain": [
       "  0%|          | 0/76 [00:00<?, ?it/s]"
      ]
     },
     "metadata": {},
     "output_type": "display_data"
    },
    {
     "data": {
      "application/vnd.jupyter.widget-view+json": {
       "model_id": "3c0f0597dbd843f085eee42410c549d7",
       "version_major": 2,
       "version_minor": 0
      },
      "text/plain": [
       "  0%|          | 0/33 [00:00<?, ?it/s]"
      ]
     },
     "metadata": {},
     "output_type": "display_data"
    },
    {
     "name": "stdout",
     "output_type": "stream",
     "text": [
      "Epoch [5], Train Loss : [0.10006] Val Loss : [1.90682] Val Weighted F1 Score : [0.52279]\n"
     ]
    },
    {
     "data": {
      "application/vnd.jupyter.widget-view+json": {
       "model_id": "7fd15b3970b84736bfed56f718f224e2",
       "version_major": 2,
       "version_minor": 0
      },
      "text/plain": [
       "  0%|          | 0/76 [00:00<?, ?it/s]"
      ]
     },
     "metadata": {},
     "output_type": "display_data"
    },
    {
     "data": {
      "application/vnd.jupyter.widget-view+json": {
       "model_id": "7f9129c519c44501b29704644c9b5c0a",
       "version_major": 2,
       "version_minor": 0
      },
      "text/plain": [
       "  0%|          | 0/33 [00:00<?, ?it/s]"
      ]
     },
     "metadata": {},
     "output_type": "display_data"
    },
    {
     "name": "stdout",
     "output_type": "stream",
     "text": [
      "Epoch [6], Train Loss : [0.08348] Val Loss : [2.51779] Val Weighted F1 Score : [0.40472]\n"
     ]
    },
    {
     "data": {
      "application/vnd.jupyter.widget-view+json": {
       "model_id": "c84c8e4b76cf421480c6fc30e7214ed3",
       "version_major": 2,
       "version_minor": 0
      },
      "text/plain": [
       "  0%|          | 0/76 [00:00<?, ?it/s]"
      ]
     },
     "metadata": {},
     "output_type": "display_data"
    },
    {
     "data": {
      "application/vnd.jupyter.widget-view+json": {
       "model_id": "51da5590e5d844898642a07bd820ab8d",
       "version_major": 2,
       "version_minor": 0
      },
      "text/plain": [
       "  0%|          | 0/33 [00:00<?, ?it/s]"
      ]
     },
     "metadata": {},
     "output_type": "display_data"
    },
    {
     "name": "stdout",
     "output_type": "stream",
     "text": [
      "Epoch [7], Train Loss : [0.10002] Val Loss : [2.27213] Val Weighted F1 Score : [0.43126]\n",
      "Epoch 00007: reducing learning rate of group 0 to 1.5000e-04.\n"
     ]
    },
    {
     "data": {
      "application/vnd.jupyter.widget-view+json": {
       "model_id": "da7667bfe83a4f1aa0a8645b930c0c90",
       "version_major": 2,
       "version_minor": 0
      },
      "text/plain": [
       "  0%|          | 0/76 [00:00<?, ?it/s]"
      ]
     },
     "metadata": {},
     "output_type": "display_data"
    },
    {
     "data": {
      "application/vnd.jupyter.widget-view+json": {
       "model_id": "4a1ca0489784475cb40157c95752ecce",
       "version_major": 2,
       "version_minor": 0
      },
      "text/plain": [
       "  0%|          | 0/33 [00:00<?, ?it/s]"
      ]
     },
     "metadata": {},
     "output_type": "display_data"
    },
    {
     "name": "stdout",
     "output_type": "stream",
     "text": [
      "Epoch [8], Train Loss : [0.05938] Val Loss : [1.55155] Val Weighted F1 Score : [0.63154]\n"
     ]
    },
    {
     "data": {
      "application/vnd.jupyter.widget-view+json": {
       "model_id": "fed2b2eee6894e75beb249248444a053",
       "version_major": 2,
       "version_minor": 0
      },
      "text/plain": [
       "  0%|          | 0/76 [00:00<?, ?it/s]"
      ]
     },
     "metadata": {},
     "output_type": "display_data"
    },
    {
     "data": {
      "application/vnd.jupyter.widget-view+json": {
       "model_id": "e8e26484906e43d0842e7b93204c021c",
       "version_major": 2,
       "version_minor": 0
      },
      "text/plain": [
       "  0%|          | 0/33 [00:00<?, ?it/s]"
      ]
     },
     "metadata": {},
     "output_type": "display_data"
    },
    {
     "name": "stdout",
     "output_type": "stream",
     "text": [
      "Epoch [9], Train Loss : [0.02545] Val Loss : [1.62742] Val Weighted F1 Score : [0.65921]\n"
     ]
    },
    {
     "data": {
      "application/vnd.jupyter.widget-view+json": {
       "model_id": "9cb5e6d6121f44f4ab2d13a864fd7002",
       "version_major": 2,
       "version_minor": 0
      },
      "text/plain": [
       "  0%|          | 0/76 [00:00<?, ?it/s]"
      ]
     },
     "metadata": {},
     "output_type": "display_data"
    },
    {
     "data": {
      "application/vnd.jupyter.widget-view+json": {
       "model_id": "12e3cd8f0ec44a1983e832ced7380bd7",
       "version_major": 2,
       "version_minor": 0
      },
      "text/plain": [
       "  0%|          | 0/33 [00:00<?, ?it/s]"
      ]
     },
     "metadata": {},
     "output_type": "display_data"
    },
    {
     "name": "stdout",
     "output_type": "stream",
     "text": [
      "Epoch [10], Train Loss : [0.01633] Val Loss : [1.22698] Val Weighted F1 Score : [0.74052]\n"
     ]
    },
    {
     "data": {
      "application/vnd.jupyter.widget-view+json": {
       "model_id": "74cdc5ec468b414fba784c23f8ce77c9",
       "version_major": 2,
       "version_minor": 0
      },
      "text/plain": [
       "  0%|          | 0/76 [00:00<?, ?it/s]"
      ]
     },
     "metadata": {},
     "output_type": "display_data"
    },
    {
     "data": {
      "application/vnd.jupyter.widget-view+json": {
       "model_id": "3d3d94c3c9ff4b5dbe3adc7ea9990b2b",
       "version_major": 2,
       "version_minor": 0
      },
      "text/plain": [
       "  0%|          | 0/33 [00:00<?, ?it/s]"
      ]
     },
     "metadata": {},
     "output_type": "display_data"
    },
    {
     "name": "stdout",
     "output_type": "stream",
     "text": [
      "Epoch [11], Train Loss : [0.02117] Val Loss : [2.15870] Val Weighted F1 Score : [0.58615]\n"
     ]
    },
    {
     "data": {
      "application/vnd.jupyter.widget-view+json": {
       "model_id": "cd1e32f7f9844856901caffb07d0ba8e",
       "version_major": 2,
       "version_minor": 0
      },
      "text/plain": [
       "  0%|          | 0/76 [00:00<?, ?it/s]"
      ]
     },
     "metadata": {},
     "output_type": "display_data"
    },
    {
     "data": {
      "application/vnd.jupyter.widget-view+json": {
       "model_id": "bd30c04e893a412e9de5ff3fbc4a1e9a",
       "version_major": 2,
       "version_minor": 0
      },
      "text/plain": [
       "  0%|          | 0/33 [00:00<?, ?it/s]"
      ]
     },
     "metadata": {},
     "output_type": "display_data"
    },
    {
     "name": "stdout",
     "output_type": "stream",
     "text": [
      "Epoch [12], Train Loss : [0.00758] Val Loss : [1.32112] Val Weighted F1 Score : [0.73039]\n"
     ]
    },
    {
     "data": {
      "application/vnd.jupyter.widget-view+json": {
       "model_id": "cb5f197ed0aa4ede8d77ad491773826b",
       "version_major": 2,
       "version_minor": 0
      },
      "text/plain": [
       "  0%|          | 0/76 [00:00<?, ?it/s]"
      ]
     },
     "metadata": {},
     "output_type": "display_data"
    },
    {
     "data": {
      "application/vnd.jupyter.widget-view+json": {
       "model_id": "c2dcfbc0ca3046119c1f906b00dd8c54",
       "version_major": 2,
       "version_minor": 0
      },
      "text/plain": [
       "  0%|          | 0/33 [00:00<?, ?it/s]"
      ]
     },
     "metadata": {},
     "output_type": "display_data"
    },
    {
     "name": "stdout",
     "output_type": "stream",
     "text": [
      "Epoch [13], Train Loss : [0.01217] Val Loss : [2.27234] Val Weighted F1 Score : [0.51867]\n",
      "Epoch 00013: reducing learning rate of group 0 to 7.5000e-05.\n"
     ]
    },
    {
     "data": {
      "application/vnd.jupyter.widget-view+json": {
       "model_id": "2512c4e2f1db4f33831ed7e05b0587c4",
       "version_major": 2,
       "version_minor": 0
      },
      "text/plain": [
       "  0%|          | 0/76 [00:00<?, ?it/s]"
      ]
     },
     "metadata": {},
     "output_type": "display_data"
    },
    {
     "data": {
      "application/vnd.jupyter.widget-view+json": {
       "model_id": "ec3a3e5400e94e40b66fcf665b8170cf",
       "version_major": 2,
       "version_minor": 0
      },
      "text/plain": [
       "  0%|          | 0/33 [00:00<?, ?it/s]"
      ]
     },
     "metadata": {},
     "output_type": "display_data"
    },
    {
     "name": "stdout",
     "output_type": "stream",
     "text": [
      "Epoch [14], Train Loss : [0.00715] Val Loss : [1.31333] Val Weighted F1 Score : [0.74545]\n"
     ]
    },
    {
     "data": {
      "application/vnd.jupyter.widget-view+json": {
       "model_id": "cf102f4480b14c38ab1ad62336e204c9",
       "version_major": 2,
       "version_minor": 0
      },
      "text/plain": [
       "  0%|          | 0/76 [00:00<?, ?it/s]"
      ]
     },
     "metadata": {},
     "output_type": "display_data"
    },
    {
     "data": {
      "application/vnd.jupyter.widget-view+json": {
       "model_id": "e4b49e5df841421e9106ce21470b6bbc",
       "version_major": 2,
       "version_minor": 0
      },
      "text/plain": [
       "  0%|          | 0/33 [00:00<?, ?it/s]"
      ]
     },
     "metadata": {},
     "output_type": "display_data"
    },
    {
     "name": "stdout",
     "output_type": "stream",
     "text": [
      "Epoch [15], Train Loss : [0.01030] Val Loss : [1.46671] Val Weighted F1 Score : [0.70064]\n"
     ]
    },
    {
     "data": {
      "application/vnd.jupyter.widget-view+json": {
       "model_id": "bc08c193aed14c76905504c6913b2720",
       "version_major": 2,
       "version_minor": 0
      },
      "text/plain": [
       "  0%|          | 0/76 [00:00<?, ?it/s]"
      ]
     },
     "metadata": {},
     "output_type": "display_data"
    },
    {
     "data": {
      "application/vnd.jupyter.widget-view+json": {
       "model_id": "a9d69161fc194e6e8d681f42d48362f9",
       "version_major": 2,
       "version_minor": 0
      },
      "text/plain": [
       "  0%|          | 0/33 [00:00<?, ?it/s]"
      ]
     },
     "metadata": {},
     "output_type": "display_data"
    },
    {
     "name": "stdout",
     "output_type": "stream",
     "text": [
      "Epoch [16], Train Loss : [0.00586] Val Loss : [1.39972] Val Weighted F1 Score : [0.71530]\n"
     ]
    },
    {
     "data": {
      "application/vnd.jupyter.widget-view+json": {
       "model_id": "903bd10a028c41f5806bfd143130c0b1",
       "version_major": 2,
       "version_minor": 0
      },
      "text/plain": [
       "  0%|          | 0/76 [00:00<?, ?it/s]"
      ]
     },
     "metadata": {},
     "output_type": "display_data"
    },
    {
     "data": {
      "application/vnd.jupyter.widget-view+json": {
       "model_id": "604400538eb6459ea09080ceed962bff",
       "version_major": 2,
       "version_minor": 0
      },
      "text/plain": [
       "  0%|          | 0/33 [00:00<?, ?it/s]"
      ]
     },
     "metadata": {},
     "output_type": "display_data"
    },
    {
     "name": "stdout",
     "output_type": "stream",
     "text": [
      "Epoch [17], Train Loss : [0.00664] Val Loss : [1.53015] Val Weighted F1 Score : [0.69818]\n",
      "Epoch 00017: reducing learning rate of group 0 to 3.7500e-05.\n"
     ]
    },
    {
     "data": {
      "application/vnd.jupyter.widget-view+json": {
       "model_id": "6668b77446e0426d97dd8bc7d91ccce6",
       "version_major": 2,
       "version_minor": 0
      },
      "text/plain": [
       "  0%|          | 0/76 [00:00<?, ?it/s]"
      ]
     },
     "metadata": {},
     "output_type": "display_data"
    },
    {
     "data": {
      "application/vnd.jupyter.widget-view+json": {
       "model_id": "f012885b2c2b4f7c80b017b8c330fd1d",
       "version_major": 2,
       "version_minor": 0
      },
      "text/plain": [
       "  0%|          | 0/33 [00:00<?, ?it/s]"
      ]
     },
     "metadata": {},
     "output_type": "display_data"
    },
    {
     "name": "stdout",
     "output_type": "stream",
     "text": [
      "Epoch [18], Train Loss : [0.00578] Val Loss : [1.37561] Val Weighted F1 Score : [0.73926]\n"
     ]
    },
    {
     "data": {
      "application/vnd.jupyter.widget-view+json": {
       "model_id": "5bce9b5026944ca3ad112d86a0273445",
       "version_major": 2,
       "version_minor": 0
      },
      "text/plain": [
       "  0%|          | 0/76 [00:00<?, ?it/s]"
      ]
     },
     "metadata": {},
     "output_type": "display_data"
    },
    {
     "data": {
      "application/vnd.jupyter.widget-view+json": {
       "model_id": "b662541d3aa14268bba6a72e7cf8d5f3",
       "version_major": 2,
       "version_minor": 0
      },
      "text/plain": [
       "  0%|          | 0/33 [00:00<?, ?it/s]"
      ]
     },
     "metadata": {},
     "output_type": "display_data"
    },
    {
     "name": "stdout",
     "output_type": "stream",
     "text": [
      "Epoch [19], Train Loss : [0.00294] Val Loss : [1.31425] Val Weighted F1 Score : [0.74102]\n"
     ]
    },
    {
     "data": {
      "application/vnd.jupyter.widget-view+json": {
       "model_id": "ffda72f7d4174cc1b50c04f729bab415",
       "version_major": 2,
       "version_minor": 0
      },
      "text/plain": [
       "  0%|          | 0/76 [00:00<?, ?it/s]"
      ]
     },
     "metadata": {},
     "output_type": "display_data"
    },
    {
     "data": {
      "application/vnd.jupyter.widget-view+json": {
       "model_id": "77e0c6d5de464ed1a1b7cc300f2bb25d",
       "version_major": 2,
       "version_minor": 0
      },
      "text/plain": [
       "  0%|          | 0/33 [00:00<?, ?it/s]"
      ]
     },
     "metadata": {},
     "output_type": "display_data"
    },
    {
     "name": "stdout",
     "output_type": "stream",
     "text": [
      "Epoch [20], Train Loss : [0.00788] Val Loss : [1.30069] Val Weighted F1 Score : [0.75190]\n"
     ]
    },
    {
     "data": {
      "application/vnd.jupyter.widget-view+json": {
       "model_id": "72578534c26a435388e132b196c4faf9",
       "version_major": 2,
       "version_minor": 0
      },
      "text/plain": [
       "  0%|          | 0/76 [00:00<?, ?it/s]"
      ]
     },
     "metadata": {},
     "output_type": "display_data"
    },
    {
     "data": {
      "application/vnd.jupyter.widget-view+json": {
       "model_id": "5a2fc055c0c444dca3a93b69d087b8ba",
       "version_major": 2,
       "version_minor": 0
      },
      "text/plain": [
       "  0%|          | 0/33 [00:00<?, ?it/s]"
      ]
     },
     "metadata": {},
     "output_type": "display_data"
    },
    {
     "name": "stdout",
     "output_type": "stream",
     "text": [
      "Epoch [21], Train Loss : [0.00542] Val Loss : [1.29755] Val Weighted F1 Score : [0.75673]\n"
     ]
    },
    {
     "data": {
      "application/vnd.jupyter.widget-view+json": {
       "model_id": "9a088d8ddadd4acaa95949f0f75f64d4",
       "version_major": 2,
       "version_minor": 0
      },
      "text/plain": [
       "  0%|          | 0/76 [00:00<?, ?it/s]"
      ]
     },
     "metadata": {},
     "output_type": "display_data"
    },
    {
     "data": {
      "application/vnd.jupyter.widget-view+json": {
       "model_id": "f3f1d9126012489e91cb35b761a58d30",
       "version_major": 2,
       "version_minor": 0
      },
      "text/plain": [
       "  0%|          | 0/33 [00:00<?, ?it/s]"
      ]
     },
     "metadata": {},
     "output_type": "display_data"
    },
    {
     "name": "stdout",
     "output_type": "stream",
     "text": [
      "Epoch [22], Train Loss : [0.01108] Val Loss : [1.34035] Val Weighted F1 Score : [0.72773]\n"
     ]
    },
    {
     "data": {
      "application/vnd.jupyter.widget-view+json": {
       "model_id": "2a0caa7aa867435187c8d63961658d93",
       "version_major": 2,
       "version_minor": 0
      },
      "text/plain": [
       "  0%|          | 0/76 [00:00<?, ?it/s]"
      ]
     },
     "metadata": {},
     "output_type": "display_data"
    },
    {
     "data": {
      "application/vnd.jupyter.widget-view+json": {
       "model_id": "4655b1e4778b4f7ab2d756e67698c2a9",
       "version_major": 2,
       "version_minor": 0
      },
      "text/plain": [
       "  0%|          | 0/33 [00:00<?, ?it/s]"
      ]
     },
     "metadata": {},
     "output_type": "display_data"
    },
    {
     "name": "stdout",
     "output_type": "stream",
     "text": [
      "Epoch [23], Train Loss : [0.00326] Val Loss : [1.29626] Val Weighted F1 Score : [0.73409]\n"
     ]
    },
    {
     "data": {
      "application/vnd.jupyter.widget-view+json": {
       "model_id": "53853fa5351045fdb9b5dd10f31badc2",
       "version_major": 2,
       "version_minor": 0
      },
      "text/plain": [
       "  0%|          | 0/76 [00:00<?, ?it/s]"
      ]
     },
     "metadata": {},
     "output_type": "display_data"
    },
    {
     "data": {
      "application/vnd.jupyter.widget-view+json": {
       "model_id": "ca1ee334a32c4e6b8fc8f4a98b21dbf9",
       "version_major": 2,
       "version_minor": 0
      },
      "text/plain": [
       "  0%|          | 0/33 [00:00<?, ?it/s]"
      ]
     },
     "metadata": {},
     "output_type": "display_data"
    },
    {
     "name": "stdout",
     "output_type": "stream",
     "text": [
      "Epoch [24], Train Loss : [0.00544] Val Loss : [1.30986] Val Weighted F1 Score : [0.74849]\n",
      "Epoch 00024: reducing learning rate of group 0 to 1.8750e-05.\n"
     ]
    },
    {
     "data": {
      "application/vnd.jupyter.widget-view+json": {
       "model_id": "0e4f7821f186438595c725f1a476d128",
       "version_major": 2,
       "version_minor": 0
      },
      "text/plain": [
       "  0%|          | 0/76 [00:00<?, ?it/s]"
      ]
     },
     "metadata": {},
     "output_type": "display_data"
    },
    {
     "data": {
      "application/vnd.jupyter.widget-view+json": {
       "model_id": "d18be5ce854c48338e214311e96705b5",
       "version_major": 2,
       "version_minor": 0
      },
      "text/plain": [
       "  0%|          | 0/33 [00:00<?, ?it/s]"
      ]
     },
     "metadata": {},
     "output_type": "display_data"
    },
    {
     "name": "stdout",
     "output_type": "stream",
     "text": [
      "Epoch [25], Train Loss : [0.00473] Val Loss : [1.33722] Val Weighted F1 Score : [0.74376]\n"
     ]
    },
    {
     "data": {
      "application/vnd.jupyter.widget-view+json": {
       "model_id": "bad58436724746e7b07c790c97fe7590",
       "version_major": 2,
       "version_minor": 0
      },
      "text/plain": [
       "  0%|          | 0/76 [00:00<?, ?it/s]"
      ]
     },
     "metadata": {},
     "output_type": "display_data"
    },
    {
     "data": {
      "application/vnd.jupyter.widget-view+json": {
       "model_id": "e07cb4cb6cea43abb44b0a9fa594c2ff",
       "version_major": 2,
       "version_minor": 0
      },
      "text/plain": [
       "  0%|          | 0/33 [00:00<?, ?it/s]"
      ]
     },
     "metadata": {},
     "output_type": "display_data"
    },
    {
     "name": "stdout",
     "output_type": "stream",
     "text": [
      "Epoch [26], Train Loss : [0.00220] Val Loss : [1.33061] Val Weighted F1 Score : [0.74045]\n"
     ]
    },
    {
     "data": {
      "application/vnd.jupyter.widget-view+json": {
       "model_id": "eecfa9f2a8cf41079f81d32cd0320d5f",
       "version_major": 2,
       "version_minor": 0
      },
      "text/plain": [
       "  0%|          | 0/76 [00:00<?, ?it/s]"
      ]
     },
     "metadata": {},
     "output_type": "display_data"
    },
    {
     "data": {
      "application/vnd.jupyter.widget-view+json": {
       "model_id": "df7e02dfd55a48e781abc10e9ab8b9a6",
       "version_major": 2,
       "version_minor": 0
      },
      "text/plain": [
       "  0%|          | 0/33 [00:00<?, ?it/s]"
      ]
     },
     "metadata": {},
     "output_type": "display_data"
    },
    {
     "name": "stdout",
     "output_type": "stream",
     "text": [
      "Epoch [27], Train Loss : [0.00283] Val Loss : [1.32938] Val Weighted F1 Score : [0.74592]\n",
      "Epoch 00027: reducing learning rate of group 0 to 9.3750e-06.\n"
     ]
    },
    {
     "data": {
      "application/vnd.jupyter.widget-view+json": {
       "model_id": "377795d308a44de78123e755b97901ab",
       "version_major": 2,
       "version_minor": 0
      },
      "text/plain": [
       "  0%|          | 0/76 [00:00<?, ?it/s]"
      ]
     },
     "metadata": {},
     "output_type": "display_data"
    },
    {
     "data": {
      "application/vnd.jupyter.widget-view+json": {
       "model_id": "5430105003c3401ead38fd38185a2721",
       "version_major": 2,
       "version_minor": 0
      },
      "text/plain": [
       "  0%|          | 0/33 [00:00<?, ?it/s]"
      ]
     },
     "metadata": {},
     "output_type": "display_data"
    },
    {
     "name": "stdout",
     "output_type": "stream",
     "text": [
      "Epoch [28], Train Loss : [0.00394] Val Loss : [1.34059] Val Weighted F1 Score : [0.74446]\n"
     ]
    },
    {
     "data": {
      "application/vnd.jupyter.widget-view+json": {
       "model_id": "25e5bcdcc9fb4c3cb44b20ee7e70da71",
       "version_major": 2,
       "version_minor": 0
      },
      "text/plain": [
       "  0%|          | 0/76 [00:00<?, ?it/s]"
      ]
     },
     "metadata": {},
     "output_type": "display_data"
    },
    {
     "data": {
      "application/vnd.jupyter.widget-view+json": {
       "model_id": "0e17b3b5dec34cb98435a69a104eaa3a",
       "version_major": 2,
       "version_minor": 0
      },
      "text/plain": [
       "  0%|          | 0/33 [00:00<?, ?it/s]"
      ]
     },
     "metadata": {},
     "output_type": "display_data"
    },
    {
     "name": "stdout",
     "output_type": "stream",
     "text": [
      "Epoch [29], Train Loss : [0.00376] Val Loss : [1.33663] Val Weighted F1 Score : [0.74581]\n"
     ]
    },
    {
     "data": {
      "application/vnd.jupyter.widget-view+json": {
       "model_id": "61b4d8897d504adab1565f4bd6f75b90",
       "version_major": 2,
       "version_minor": 0
      },
      "text/plain": [
       "  0%|          | 0/76 [00:00<?, ?it/s]"
      ]
     },
     "metadata": {},
     "output_type": "display_data"
    },
    {
     "data": {
      "application/vnd.jupyter.widget-view+json": {
       "model_id": "5b0540ee0ebb419dabc2afea306e884b",
       "version_major": 2,
       "version_minor": 0
      },
      "text/plain": [
       "  0%|          | 0/33 [00:00<?, ?it/s]"
      ]
     },
     "metadata": {},
     "output_type": "display_data"
    },
    {
     "name": "stdout",
     "output_type": "stream",
     "text": [
      "Epoch [30], Train Loss : [0.00397] Val Loss : [1.33579] Val Weighted F1 Score : [0.74471]\n",
      "Epoch 00030: reducing learning rate of group 0 to 4.6875e-06.\n"
     ]
    },
    {
     "data": {
      "application/vnd.jupyter.widget-view+json": {
       "model_id": "fddf6656f38645eaa9815559ed55b209",
       "version_major": 2,
       "version_minor": 0
      },
      "text/plain": [
       "  0%|          | 0/76 [00:00<?, ?it/s]"
      ]
     },
     "metadata": {},
     "output_type": "display_data"
    },
    {
     "data": {
      "application/vnd.jupyter.widget-view+json": {
       "model_id": "98e90c669a04439585b292dc72bd7ce6",
       "version_major": 2,
       "version_minor": 0
      },
      "text/plain": [
       "  0%|          | 0/33 [00:00<?, ?it/s]"
      ]
     },
     "metadata": {},
     "output_type": "display_data"
    },
    {
     "name": "stdout",
     "output_type": "stream",
     "text": [
      "Epoch [31], Train Loss : [0.00238] Val Loss : [1.33359] Val Weighted F1 Score : [0.74386]\n"
     ]
    },
    {
     "data": {
      "application/vnd.jupyter.widget-view+json": {
       "model_id": "2c39a92488b740cfbaaeb618d74f8109",
       "version_major": 2,
       "version_minor": 0
      },
      "text/plain": [
       "  0%|          | 0/76 [00:00<?, ?it/s]"
      ]
     },
     "metadata": {},
     "output_type": "display_data"
    },
    {
     "data": {
      "application/vnd.jupyter.widget-view+json": {
       "model_id": "2f5411d46fe34f1d8a2d444b940ccec7",
       "version_major": 2,
       "version_minor": 0
      },
      "text/plain": [
       "  0%|          | 0/33 [00:00<?, ?it/s]"
      ]
     },
     "metadata": {},
     "output_type": "display_data"
    },
    {
     "name": "stdout",
     "output_type": "stream",
     "text": [
      "Epoch [32], Train Loss : [0.00331] Val Loss : [1.34937] Val Weighted F1 Score : [0.74231]\n"
     ]
    },
    {
     "data": {
      "application/vnd.jupyter.widget-view+json": {
       "model_id": "0b34ef17ec6b48a789da5384cb2216f4",
       "version_major": 2,
       "version_minor": 0
      },
      "text/plain": [
       "  0%|          | 0/76 [00:00<?, ?it/s]"
      ]
     },
     "metadata": {},
     "output_type": "display_data"
    },
    {
     "data": {
      "application/vnd.jupyter.widget-view+json": {
       "model_id": "c679dd9c5ab448b7a0f562bfead4ce4a",
       "version_major": 2,
       "version_minor": 0
      },
      "text/plain": [
       "  0%|          | 0/33 [00:00<?, ?it/s]"
      ]
     },
     "metadata": {},
     "output_type": "display_data"
    },
    {
     "name": "stdout",
     "output_type": "stream",
     "text": [
      "Epoch [33], Train Loss : [0.00455] Val Loss : [1.33370] Val Weighted F1 Score : [0.74621]\n",
      "Epoch 00033: reducing learning rate of group 0 to 2.3437e-06.\n"
     ]
    },
    {
     "data": {
      "application/vnd.jupyter.widget-view+json": {
       "model_id": "5146b87fa06549a0ba3fbea25f880056",
       "version_major": 2,
       "version_minor": 0
      },
      "text/plain": [
       "  0%|          | 0/76 [00:00<?, ?it/s]"
      ]
     },
     "metadata": {},
     "output_type": "display_data"
    },
    {
     "data": {
      "application/vnd.jupyter.widget-view+json": {
       "model_id": "0a65484d3f0340f099d1288cc4e546b4",
       "version_major": 2,
       "version_minor": 0
      },
      "text/plain": [
       "  0%|          | 0/33 [00:00<?, ?it/s]"
      ]
     },
     "metadata": {},
     "output_type": "display_data"
    },
    {
     "name": "stdout",
     "output_type": "stream",
     "text": [
      "Epoch [34], Train Loss : [0.00627] Val Loss : [1.32814] Val Weighted F1 Score : [0.75075]\n"
     ]
    },
    {
     "data": {
      "application/vnd.jupyter.widget-view+json": {
       "model_id": "8d11413cdece45468a6d3e60b1498573",
       "version_major": 2,
       "version_minor": 0
      },
      "text/plain": [
       "  0%|          | 0/76 [00:00<?, ?it/s]"
      ]
     },
     "metadata": {},
     "output_type": "display_data"
    },
    {
     "data": {
      "application/vnd.jupyter.widget-view+json": {
       "model_id": "50777252a5cb4db6a99dfd67d90c33fa",
       "version_major": 2,
       "version_minor": 0
      },
      "text/plain": [
       "  0%|          | 0/33 [00:00<?, ?it/s]"
      ]
     },
     "metadata": {},
     "output_type": "display_data"
    },
    {
     "name": "stdout",
     "output_type": "stream",
     "text": [
      "Epoch [35], Train Loss : [0.00376] Val Loss : [1.33379] Val Weighted F1 Score : [0.74279]\n"
     ]
    },
    {
     "data": {
      "application/vnd.jupyter.widget-view+json": {
       "model_id": "bcd5e54ac0914d44a6bee21416561823",
       "version_major": 2,
       "version_minor": 0
      },
      "text/plain": [
       "  0%|          | 0/76 [00:00<?, ?it/s]"
      ]
     },
     "metadata": {},
     "output_type": "display_data"
    },
    {
     "data": {
      "application/vnd.jupyter.widget-view+json": {
       "model_id": "a22a1766462d4e859ba086aaf0289508",
       "version_major": 2,
       "version_minor": 0
      },
      "text/plain": [
       "  0%|          | 0/33 [00:00<?, ?it/s]"
      ]
     },
     "metadata": {},
     "output_type": "display_data"
    },
    {
     "name": "stdout",
     "output_type": "stream",
     "text": [
      "Epoch [36], Train Loss : [0.00189] Val Loss : [1.33660] Val Weighted F1 Score : [0.74220]\n",
      "Epoch 00036: reducing learning rate of group 0 to 1.1719e-06.\n"
     ]
    },
    {
     "data": {
      "application/vnd.jupyter.widget-view+json": {
       "model_id": "3fc6072941f149c8805cb6bdd860036d",
       "version_major": 2,
       "version_minor": 0
      },
      "text/plain": [
       "  0%|          | 0/76 [00:00<?, ?it/s]"
      ]
     },
     "metadata": {},
     "output_type": "display_data"
    },
    {
     "data": {
      "application/vnd.jupyter.widget-view+json": {
       "model_id": "ef9c34685f184b4ba088252ab9db5487",
       "version_major": 2,
       "version_minor": 0
      },
      "text/plain": [
       "  0%|          | 0/33 [00:00<?, ?it/s]"
      ]
     },
     "metadata": {},
     "output_type": "display_data"
    },
    {
     "name": "stdout",
     "output_type": "stream",
     "text": [
      "Epoch [37], Train Loss : [0.00342] Val Loss : [1.33500] Val Weighted F1 Score : [0.74449]\n"
     ]
    },
    {
     "data": {
      "application/vnd.jupyter.widget-view+json": {
       "model_id": "9ab36c01a7864b73811df96fc9bb6fdc",
       "version_major": 2,
       "version_minor": 0
      },
      "text/plain": [
       "  0%|          | 0/76 [00:00<?, ?it/s]"
      ]
     },
     "metadata": {},
     "output_type": "display_data"
    },
    {
     "data": {
      "application/vnd.jupyter.widget-view+json": {
       "model_id": "4a371b5f4cb6487ea58886d0519913f3",
       "version_major": 2,
       "version_minor": 0
      },
      "text/plain": [
       "  0%|          | 0/33 [00:00<?, ?it/s]"
      ]
     },
     "metadata": {},
     "output_type": "display_data"
    },
    {
     "name": "stdout",
     "output_type": "stream",
     "text": [
      "Epoch [38], Train Loss : [0.00382] Val Loss : [1.33473] Val Weighted F1 Score : [0.74363]\n"
     ]
    },
    {
     "data": {
      "application/vnd.jupyter.widget-view+json": {
       "model_id": "6fd7f5beeb2c481a88bf868961f4b483",
       "version_major": 2,
       "version_minor": 0
      },
      "text/plain": [
       "  0%|          | 0/76 [00:00<?, ?it/s]"
      ]
     },
     "metadata": {},
     "output_type": "display_data"
    },
    {
     "data": {
      "application/vnd.jupyter.widget-view+json": {
       "model_id": "537eed0b69154eca9ecd2e63450d8172",
       "version_major": 2,
       "version_minor": 0
      },
      "text/plain": [
       "  0%|          | 0/33 [00:00<?, ?it/s]"
      ]
     },
     "metadata": {},
     "output_type": "display_data"
    },
    {
     "name": "stdout",
     "output_type": "stream",
     "text": [
      "Epoch [39], Train Loss : [0.00489] Val Loss : [1.34315] Val Weighted F1 Score : [0.74407]\n",
      "Epoch 00039: reducing learning rate of group 0 to 5.8594e-07.\n"
     ]
    },
    {
     "data": {
      "application/vnd.jupyter.widget-view+json": {
       "model_id": "07b78aa361bf45f4903289f680d38831",
       "version_major": 2,
       "version_minor": 0
      },
      "text/plain": [
       "  0%|          | 0/76 [00:00<?, ?it/s]"
      ]
     },
     "metadata": {},
     "output_type": "display_data"
    },
    {
     "data": {
      "application/vnd.jupyter.widget-view+json": {
       "model_id": "97d4edec193a45659fbdd2c3346a6ccd",
       "version_major": 2,
       "version_minor": 0
      },
      "text/plain": [
       "  0%|          | 0/33 [00:00<?, ?it/s]"
      ]
     },
     "metadata": {},
     "output_type": "display_data"
    },
    {
     "name": "stdout",
     "output_type": "stream",
     "text": [
      "Epoch [40], Train Loss : [0.00532] Val Loss : [1.33163] Val Weighted F1 Score : [0.74490]\n"
     ]
    },
    {
     "data": {
      "application/vnd.jupyter.widget-view+json": {
       "model_id": "19448a0195d5445bad276d5060798525",
       "version_major": 2,
       "version_minor": 0
      },
      "text/plain": [
       "  0%|          | 0/76 [00:00<?, ?it/s]"
      ]
     },
     "metadata": {},
     "output_type": "display_data"
    },
    {
     "data": {
      "application/vnd.jupyter.widget-view+json": {
       "model_id": "5990c0e1dbfb416989f1f2ab7ffefc9c",
       "version_major": 2,
       "version_minor": 0
      },
      "text/plain": [
       "  0%|          | 0/33 [00:00<?, ?it/s]"
      ]
     },
     "metadata": {},
     "output_type": "display_data"
    },
    {
     "name": "stdout",
     "output_type": "stream",
     "text": [
      "Epoch [41], Train Loss : [0.00456] Val Loss : [1.33597] Val Weighted F1 Score : [0.74593]\n"
     ]
    },
    {
     "data": {
      "application/vnd.jupyter.widget-view+json": {
       "model_id": "aae9e03919b44576a3132bdb5370e411",
       "version_major": 2,
       "version_minor": 0
      },
      "text/plain": [
       "  0%|          | 0/76 [00:00<?, ?it/s]"
      ]
     },
     "metadata": {},
     "output_type": "display_data"
    },
    {
     "data": {
      "application/vnd.jupyter.widget-view+json": {
       "model_id": "7bf8eb5336f948a7b9814dcedafc29de",
       "version_major": 2,
       "version_minor": 0
      },
      "text/plain": [
       "  0%|          | 0/33 [00:00<?, ?it/s]"
      ]
     },
     "metadata": {},
     "output_type": "display_data"
    },
    {
     "name": "stdout",
     "output_type": "stream",
     "text": [
      "Epoch [42], Train Loss : [0.00403] Val Loss : [1.33873] Val Weighted F1 Score : [0.74334]\n",
      "Epoch 00042: reducing learning rate of group 0 to 2.9297e-07.\n"
     ]
    },
    {
     "data": {
      "application/vnd.jupyter.widget-view+json": {
       "model_id": "9a9aa958a1704ffcafcc1a96b2747c17",
       "version_major": 2,
       "version_minor": 0
      },
      "text/plain": [
       "  0%|          | 0/76 [00:00<?, ?it/s]"
      ]
     },
     "metadata": {},
     "output_type": "display_data"
    },
    {
     "data": {
      "application/vnd.jupyter.widget-view+json": {
       "model_id": "8e7fac7a2a364c4a877b8f5da3161ef9",
       "version_major": 2,
       "version_minor": 0
      },
      "text/plain": [
       "  0%|          | 0/33 [00:00<?, ?it/s]"
      ]
     },
     "metadata": {},
     "output_type": "display_data"
    },
    {
     "name": "stdout",
     "output_type": "stream",
     "text": [
      "Epoch [43], Train Loss : [0.00330] Val Loss : [1.34607] Val Weighted F1 Score : [0.74355]\n"
     ]
    },
    {
     "data": {
      "application/vnd.jupyter.widget-view+json": {
       "model_id": "6ac98633a6ea4d37ba78a2a4fc5eabd2",
       "version_major": 2,
       "version_minor": 0
      },
      "text/plain": [
       "  0%|          | 0/76 [00:00<?, ?it/s]"
      ]
     },
     "metadata": {},
     "output_type": "display_data"
    },
    {
     "data": {
      "application/vnd.jupyter.widget-view+json": {
       "model_id": "9321160d5eb44e67b9ad34db1f0f2d85",
       "version_major": 2,
       "version_minor": 0
      },
      "text/plain": [
       "  0%|          | 0/33 [00:00<?, ?it/s]"
      ]
     },
     "metadata": {},
     "output_type": "display_data"
    },
    {
     "name": "stdout",
     "output_type": "stream",
     "text": [
      "Epoch [44], Train Loss : [0.00499] Val Loss : [1.34256] Val Weighted F1 Score : [0.74297]\n"
     ]
    },
    {
     "data": {
      "application/vnd.jupyter.widget-view+json": {
       "model_id": "dde84d83092744a6880cde0e01c4f468",
       "version_major": 2,
       "version_minor": 0
      },
      "text/plain": [
       "  0%|          | 0/76 [00:00<?, ?it/s]"
      ]
     },
     "metadata": {},
     "output_type": "display_data"
    },
    {
     "data": {
      "application/vnd.jupyter.widget-view+json": {
       "model_id": "a4d17bbab91d46739013f2e6eb60b57e",
       "version_major": 2,
       "version_minor": 0
      },
      "text/plain": [
       "  0%|          | 0/33 [00:00<?, ?it/s]"
      ]
     },
     "metadata": {},
     "output_type": "display_data"
    },
    {
     "name": "stdout",
     "output_type": "stream",
     "text": [
      "Epoch [45], Train Loss : [0.00727] Val Loss : [1.33107] Val Weighted F1 Score : [0.74414]\n",
      "Epoch 00045: reducing learning rate of group 0 to 1.4648e-07.\n"
     ]
    },
    {
     "data": {
      "application/vnd.jupyter.widget-view+json": {
       "model_id": "02228d665af54c808bb7e1ca609b80fd",
       "version_major": 2,
       "version_minor": 0
      },
      "text/plain": [
       "  0%|          | 0/76 [00:00<?, ?it/s]"
      ]
     },
     "metadata": {},
     "output_type": "display_data"
    },
    {
     "data": {
      "application/vnd.jupyter.widget-view+json": {
       "model_id": "41cf6362051344029d3a8afed43e3ead",
       "version_major": 2,
       "version_minor": 0
      },
      "text/plain": [
       "  0%|          | 0/33 [00:00<?, ?it/s]"
      ]
     },
     "metadata": {},
     "output_type": "display_data"
    },
    {
     "name": "stdout",
     "output_type": "stream",
     "text": [
      "Epoch [46], Train Loss : [0.00194] Val Loss : [1.33830] Val Weighted F1 Score : [0.74481]\n"
     ]
    },
    {
     "data": {
      "application/vnd.jupyter.widget-view+json": {
       "model_id": "bd4eee1dffa64c28befd42d62f15f45c",
       "version_major": 2,
       "version_minor": 0
      },
      "text/plain": [
       "  0%|          | 0/76 [00:00<?, ?it/s]"
      ]
     },
     "metadata": {},
     "output_type": "display_data"
    },
    {
     "data": {
      "application/vnd.jupyter.widget-view+json": {
       "model_id": "a409511fcd04417a9c7ebdd27e622ce7",
       "version_major": 2,
       "version_minor": 0
      },
      "text/plain": [
       "  0%|          | 0/33 [00:00<?, ?it/s]"
      ]
     },
     "metadata": {},
     "output_type": "display_data"
    },
    {
     "name": "stdout",
     "output_type": "stream",
     "text": [
      "Epoch [47], Train Loss : [0.00284] Val Loss : [1.33584] Val Weighted F1 Score : [0.74909]\n"
     ]
    },
    {
     "data": {
      "application/vnd.jupyter.widget-view+json": {
       "model_id": "457ca3aecc5547ba9ade16b0cc96bcb8",
       "version_major": 2,
       "version_minor": 0
      },
      "text/plain": [
       "  0%|          | 0/76 [00:00<?, ?it/s]"
      ]
     },
     "metadata": {},
     "output_type": "display_data"
    },
    {
     "data": {
      "application/vnd.jupyter.widget-view+json": {
       "model_id": "eff395b5958d46b7b2e9a13e9bfeea41",
       "version_major": 2,
       "version_minor": 0
      },
      "text/plain": [
       "  0%|          | 0/33 [00:00<?, ?it/s]"
      ]
     },
     "metadata": {},
     "output_type": "display_data"
    },
    {
     "name": "stdout",
     "output_type": "stream",
     "text": [
      "Epoch [48], Train Loss : [0.00193] Val Loss : [1.33887] Val Weighted F1 Score : [0.74352]\n",
      "Epoch 00048: reducing learning rate of group 0 to 7.3242e-08.\n"
     ]
    },
    {
     "data": {
      "application/vnd.jupyter.widget-view+json": {
       "model_id": "dc8f77ba55b044e091ddcd1072328f55",
       "version_major": 2,
       "version_minor": 0
      },
      "text/plain": [
       "  0%|          | 0/76 [00:00<?, ?it/s]"
      ]
     },
     "metadata": {},
     "output_type": "display_data"
    },
    {
     "data": {
      "application/vnd.jupyter.widget-view+json": {
       "model_id": "1f6968c523ac4fb6ba93b26731cbdcce",
       "version_major": 2,
       "version_minor": 0
      },
      "text/plain": [
       "  0%|          | 0/33 [00:00<?, ?it/s]"
      ]
     },
     "metadata": {},
     "output_type": "display_data"
    },
    {
     "name": "stdout",
     "output_type": "stream",
     "text": [
      "Epoch [49], Train Loss : [0.00382] Val Loss : [1.34058] Val Weighted F1 Score : [0.74106]\n"
     ]
    },
    {
     "data": {
      "application/vnd.jupyter.widget-view+json": {
       "model_id": "8f0d702bdecb423d91b70e7ce7fe04f7",
       "version_major": 2,
       "version_minor": 0
      },
      "text/plain": [
       "  0%|          | 0/76 [00:00<?, ?it/s]"
      ]
     },
     "metadata": {},
     "output_type": "display_data"
    },
    {
     "data": {
      "application/vnd.jupyter.widget-view+json": {
       "model_id": "cfd327d71e614494a574210aa897d352",
       "version_major": 2,
       "version_minor": 0
      },
      "text/plain": [
       "  0%|          | 0/33 [00:00<?, ?it/s]"
      ]
     },
     "metadata": {},
     "output_type": "display_data"
    },
    {
     "name": "stdout",
     "output_type": "stream",
     "text": [
      "Epoch [50], Train Loss : [0.00259] Val Loss : [1.34149] Val Weighted F1 Score : [0.74261]\n"
     ]
    }
   ],
   "source": [
    "model = BaseModel()\n",
    "model.eval()\n",
    "optimizer = torch.optim.Adam(params = model.parameters(), lr = CFG[\"LEARNING_RATE\"])\n",
    "scheduler = torch.optim.lr_scheduler.ReduceLROnPlateau(optimizer, mode='max', factor=0.5, patience=2, threshold_mode='abs', min_lr=1e-8, verbose=True)\n",
    "\n",
    "infer_model = train(model, optimizer, train_loader, val_loader, scheduler, device)"
   ]
  },
  {
   "attachments": {},
   "cell_type": "markdown",
   "id": "e275a486-9c59-4b4e-80f6-5000e017b921",
   "metadata": {},
   "source": [
    "## Inference"
   ]
  },
  {
   "cell_type": "code",
   "execution_count": 73,
   "id": "0ed16d0e-61ee-4737-b90a-3842860cc40a",
   "metadata": {},
   "outputs": [],
   "source": [
    "test = pd.read_csv('./test.csv')"
   ]
  },
  {
   "cell_type": "code",
   "execution_count": 77,
   "id": "4c263bc0",
   "metadata": {},
   "outputs": [
    {
     "data": {
      "text/html": [
       "<div>\n",
       "<style scoped>\n",
       "    .dataframe tbody tr th:only-of-type {\n",
       "        vertical-align: middle;\n",
       "    }\n",
       "\n",
       "    .dataframe tbody tr th {\n",
       "        vertical-align: top;\n",
       "    }\n",
       "\n",
       "    .dataframe thead th {\n",
       "        text-align: right;\n",
       "    }\n",
       "</style>\n",
       "<table border=\"1\" class=\"dataframe\">\n",
       "  <thead>\n",
       "    <tr style=\"text-align: right;\">\n",
       "      <th></th>\n",
       "      <th>id</th>\n",
       "      <th>img_path</th>\n",
       "    </tr>\n",
       "  </thead>\n",
       "  <tbody>\n",
       "    <tr>\n",
       "      <th>0</th>\n",
       "      <td>TEST_000</td>\n",
       "      <td>./test/000.png</td>\n",
       "    </tr>\n",
       "    <tr>\n",
       "      <th>1</th>\n",
       "      <td>TEST_001</td>\n",
       "      <td>./test/001.png</td>\n",
       "    </tr>\n",
       "    <tr>\n",
       "      <th>2</th>\n",
       "      <td>TEST_002</td>\n",
       "      <td>./test/002.png</td>\n",
       "    </tr>\n",
       "    <tr>\n",
       "      <th>3</th>\n",
       "      <td>TEST_003</td>\n",
       "      <td>./test/003.png</td>\n",
       "    </tr>\n",
       "    <tr>\n",
       "      <th>4</th>\n",
       "      <td>TEST_004</td>\n",
       "      <td>./test/004.png</td>\n",
       "    </tr>\n",
       "    <tr>\n",
       "      <th>...</th>\n",
       "      <td>...</td>\n",
       "      <td>...</td>\n",
       "    </tr>\n",
       "    <tr>\n",
       "      <th>787</th>\n",
       "      <td>TEST_787</td>\n",
       "      <td>./test/787.png</td>\n",
       "    </tr>\n",
       "    <tr>\n",
       "      <th>788</th>\n",
       "      <td>TEST_788</td>\n",
       "      <td>./test/788.png</td>\n",
       "    </tr>\n",
       "    <tr>\n",
       "      <th>789</th>\n",
       "      <td>TEST_789</td>\n",
       "      <td>./test/789.png</td>\n",
       "    </tr>\n",
       "    <tr>\n",
       "      <th>790</th>\n",
       "      <td>TEST_790</td>\n",
       "      <td>./test/790.png</td>\n",
       "    </tr>\n",
       "    <tr>\n",
       "      <th>791</th>\n",
       "      <td>TEST_791</td>\n",
       "      <td>./test/791.png</td>\n",
       "    </tr>\n",
       "  </tbody>\n",
       "</table>\n",
       "<p>792 rows × 2 columns</p>\n",
       "</div>"
      ],
      "text/plain": [
       "           id        img_path\n",
       "0    TEST_000  ./test/000.png\n",
       "1    TEST_001  ./test/001.png\n",
       "2    TEST_002  ./test/002.png\n",
       "3    TEST_003  ./test/003.png\n",
       "4    TEST_004  ./test/004.png\n",
       "..        ...             ...\n",
       "787  TEST_787  ./test/787.png\n",
       "788  TEST_788  ./test/788.png\n",
       "789  TEST_789  ./test/789.png\n",
       "790  TEST_790  ./test/790.png\n",
       "791  TEST_791  ./test/791.png\n",
       "\n",
       "[792 rows x 2 columns]"
      ]
     },
     "execution_count": 77,
     "metadata": {},
     "output_type": "execute_result"
    }
   ],
   "source": []
  },
  {
   "cell_type": "code",
   "execution_count": 135,
   "id": "dbbf9ae5-9d8c-4800-a809-63094a1e9a24",
   "metadata": {},
   "outputs": [],
   "source": [
    "test_dataset = CustomDataset(test['img_path'].values, None, test_transform)\n",
    "test_loader = DataLoader(test_dataset, batch_size=CFG['BATCH_SIZE'], shuffle=False, num_workers=0)"
   ]
  },
  {
   "cell_type": "code",
   "execution_count": 136,
   "id": "378fd3a9-76d8-4c9a-81a1-c6a48492684c",
   "metadata": {},
   "outputs": [],
   "source": [
    "def inference(model, test_loader, device):\n",
    "    model.eval()\n",
    "    preds = []\n",
    "    with torch.no_grad():\n",
    "        for imgs in tqdm(iter(test_loader)):\n",
    "            imgs = imgs.float().to(device)\n",
    "            \n",
    "            pred = model(imgs)\n",
    "            \n",
    "            preds += pred.argmax(1).detach().cpu().numpy().tolist()\n",
    "    \n",
    "    preds = le.inverse_transform(preds)\n",
    "    return preds"
   ]
  },
  {
   "cell_type": "code",
   "execution_count": 137,
   "id": "2866935c-407d-4919-a58b-1f8feaa66a2a",
   "metadata": {},
   "outputs": [
    {
     "data": {
      "application/vnd.jupyter.widget-view+json": {
       "model_id": "a26eb6528c9f4e23bb32419c21c18bc8",
       "version_major": 2,
       "version_minor": 0
      },
      "text/plain": [
       "  0%|          | 0/25 [00:00<?, ?it/s]"
      ]
     },
     "metadata": {},
     "output_type": "display_data"
    }
   ],
   "source": [
    "preds = inference(infer_model, test_loader, device)"
   ]
  },
  {
   "attachments": {},
   "cell_type": "markdown",
   "id": "35be0d25-6a06-43bb-bca0-94eda2409a26",
   "metadata": {},
   "source": [
    "## Submission"
   ]
  },
  {
   "cell_type": "code",
   "execution_count": 138,
   "id": "fc864be2-c306-4ad0-aa97-1d5ab5ea9811",
   "metadata": {},
   "outputs": [],
   "source": [
    "submit = pd.read_csv('./sample_submission.csv')"
   ]
  },
  {
   "cell_type": "code",
   "execution_count": 139,
   "id": "7b2d36dd",
   "metadata": {},
   "outputs": [
    {
     "data": {
      "text/html": [
       "<div>\n",
       "<style scoped>\n",
       "    .dataframe tbody tr th:only-of-type {\n",
       "        vertical-align: middle;\n",
       "    }\n",
       "\n",
       "    .dataframe tbody tr th {\n",
       "        vertical-align: top;\n",
       "    }\n",
       "\n",
       "    .dataframe thead th {\n",
       "        text-align: right;\n",
       "    }\n",
       "</style>\n",
       "<table border=\"1\" class=\"dataframe\">\n",
       "  <thead>\n",
       "    <tr style=\"text-align: right;\">\n",
       "      <th></th>\n",
       "      <th>id</th>\n",
       "      <th>label</th>\n",
       "    </tr>\n",
       "  </thead>\n",
       "  <tbody>\n",
       "    <tr>\n",
       "      <th>0</th>\n",
       "      <td>TEST_000</td>\n",
       "      <td>훼손</td>\n",
       "    </tr>\n",
       "    <tr>\n",
       "      <th>1</th>\n",
       "      <td>TEST_001</td>\n",
       "      <td>훼손</td>\n",
       "    </tr>\n",
       "    <tr>\n",
       "      <th>2</th>\n",
       "      <td>TEST_002</td>\n",
       "      <td>훼손</td>\n",
       "    </tr>\n",
       "    <tr>\n",
       "      <th>3</th>\n",
       "      <td>TEST_003</td>\n",
       "      <td>훼손</td>\n",
       "    </tr>\n",
       "    <tr>\n",
       "      <th>4</th>\n",
       "      <td>TEST_004</td>\n",
       "      <td>훼손</td>\n",
       "    </tr>\n",
       "    <tr>\n",
       "      <th>...</th>\n",
       "      <td>...</td>\n",
       "      <td>...</td>\n",
       "    </tr>\n",
       "    <tr>\n",
       "      <th>787</th>\n",
       "      <td>TEST_787</td>\n",
       "      <td>훼손</td>\n",
       "    </tr>\n",
       "    <tr>\n",
       "      <th>788</th>\n",
       "      <td>TEST_788</td>\n",
       "      <td>훼손</td>\n",
       "    </tr>\n",
       "    <tr>\n",
       "      <th>789</th>\n",
       "      <td>TEST_789</td>\n",
       "      <td>훼손</td>\n",
       "    </tr>\n",
       "    <tr>\n",
       "      <th>790</th>\n",
       "      <td>TEST_790</td>\n",
       "      <td>훼손</td>\n",
       "    </tr>\n",
       "    <tr>\n",
       "      <th>791</th>\n",
       "      <td>TEST_791</td>\n",
       "      <td>훼손</td>\n",
       "    </tr>\n",
       "  </tbody>\n",
       "</table>\n",
       "<p>792 rows × 2 columns</p>\n",
       "</div>"
      ],
      "text/plain": [
       "           id label\n",
       "0    TEST_000    훼손\n",
       "1    TEST_001    훼손\n",
       "2    TEST_002    훼손\n",
       "3    TEST_003    훼손\n",
       "4    TEST_004    훼손\n",
       "..        ...   ...\n",
       "787  TEST_787    훼손\n",
       "788  TEST_788    훼손\n",
       "789  TEST_789    훼손\n",
       "790  TEST_790    훼손\n",
       "791  TEST_791    훼손\n",
       "\n",
       "[792 rows x 2 columns]"
      ]
     },
     "execution_count": 139,
     "metadata": {},
     "output_type": "execute_result"
    }
   ],
   "source": [
    "submit"
   ]
  },
  {
   "cell_type": "code",
   "execution_count": 140,
   "id": "a472198d-6a2f-4d97-b45b-55031d6019a8",
   "metadata": {},
   "outputs": [],
   "source": [
    "submit['label'] = preds"
   ]
  },
  {
   "cell_type": "code",
   "execution_count": 141,
   "id": "d6d4114e",
   "metadata": {},
   "outputs": [
    {
     "ename": "AttributeError",
     "evalue": "'LabelEncoder' object has no attribute 'encoder'",
     "output_type": "error",
     "traceback": [
      "\u001b[1;31m---------------------------------------------------------------------------\u001b[0m",
      "\u001b[1;31mAttributeError\u001b[0m                            Traceback (most recent call last)",
      "Cell \u001b[1;32mIn[141], line 1\u001b[0m\n\u001b[1;32m----> 1\u001b[0m le\u001b[39m.\u001b[39;49mencoder\n",
      "\u001b[1;31mAttributeError\u001b[0m: 'LabelEncoder' object has no attribute 'encoder'"
     ]
    }
   ],
   "source": [
    "le.encoder"
   ]
  },
  {
   "cell_type": "code",
   "execution_count": 143,
   "id": "0e3e0511-2ce0-4658-893f-0f3641c50bb8",
   "metadata": {},
   "outputs": [],
   "source": [
    "submit.to_csv('./baseline_submit.csv', index=False)"
   ]
  },
  {
   "cell_type": "code",
   "execution_count": 144,
   "id": "3874f3f2",
   "metadata": {},
   "outputs": [
    {
     "data": {
      "text/plain": [
       "(array([753.,   0.,  33.,   0.,   0.,   4.,   0.,   1.,   0.,   1.]),\n",
       " array([0. , 0.4, 0.8, 1.2, 1.6, 2. , 2.4, 2.8, 3.2, 3.6, 4. ]),\n",
       " <BarContainer object of 10 artists>)"
      ]
     },
     "execution_count": 144,
     "metadata": {},
     "output_type": "execute_result"
    },
    {
     "data": {
      "image/png": "[encoded data removed]",
      "text/plain": [
       "<Figure size 640x480 with 1 Axes>"
      ]
     },
     "metadata": {},
     "output_type": "display_data"
    }
   ],
   "source": [
    "\n",
    "plt.hist(submit['label'])"
   ]
  },
  {
   "cell_type": "code",
   "execution_count": null,
   "id": "f9e73659",
   "metadata": {},
   "outputs": [],
   "source": []
  }
 ],
 "metadata": {
  "kernelspec": {
   "display_name": "Python 3",
   "language": "python",
   "name": "python3"
  },
  "language_info": {
   "codemirror_mode": {
    "name": "ipython",
    "version": 3
   },
   "file_extension": ".py",
   "mimetype": "text/x-python",
   "name": "python",
   "nbconvert_exporter": "python",
   "pygments_lexer": "ipython3",
   "version": "3.10.10"
  }
 },
 "nbformat": 4,
 "nbformat_minor": 5
}
